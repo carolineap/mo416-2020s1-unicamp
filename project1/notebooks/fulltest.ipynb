{
 "cells": [
  {
   "cell_type": "code",
   "execution_count": 1,
   "metadata": {},
   "outputs": [
    {
     "data": {
      "text/plain": [
       "['C:\\\\Program Files (x86)\\\\Microsoft Visual Studio\\\\Shared\\\\Python36_64\\\\python36.zip',\n",
       " 'C:\\\\Program Files (x86)\\\\Microsoft Visual Studio\\\\Shared\\\\Python36_64\\\\DLLs',\n",
       " 'C:\\\\Program Files (x86)\\\\Microsoft Visual Studio\\\\Shared\\\\Python36_64\\\\lib',\n",
       " 'C:\\\\Program Files (x86)\\\\Microsoft Visual Studio\\\\Shared\\\\Python36_64',\n",
       " '',\n",
       " 'C:\\\\Users\\\\Previato\\\\AppData\\\\Roaming\\\\Python\\\\Python36\\\\site-packages',\n",
       " 'C:\\\\Users\\\\Previato\\\\AppData\\\\Roaming\\\\Python\\\\Python36\\\\site-packages\\\\win32',\n",
       " 'C:\\\\Users\\\\Previato\\\\AppData\\\\Roaming\\\\Python\\\\Python36\\\\site-packages\\\\win32\\\\lib',\n",
       " 'C:\\\\Users\\\\Previato\\\\AppData\\\\Roaming\\\\Python\\\\Python36\\\\site-packages\\\\Pythonwin',\n",
       " 'C:\\\\Program Files (x86)\\\\Microsoft Visual Studio\\\\Shared\\\\Python36_64\\\\lib\\\\site-packages',\n",
       " 'C:\\\\Users\\\\Previato\\\\AppData\\\\Roaming\\\\Python\\\\Python36\\\\site-packages\\\\IPython\\\\extensions',\n",
       " 'C:\\\\Users\\\\Previato\\\\.ipython',\n",
       " '../',\n",
       " '../lib/']"
      ]
     },
     "execution_count": 1,
     "metadata": {},
     "output_type": "execute_result"
    }
   ],
   "source": [
    "import sys\n",
    "sys.path.append(\"../\")\n",
    "sys.path.append(\"../lib/\")\n",
    "\n",
    "sys.path"
   ]
  },
  {
   "cell_type": "code",
   "execution_count": 2,
   "metadata": {},
   "outputs": [],
   "source": [
    "import src.enviroment2 as enviroment\n",
    "import src.pacman_problem as pacman\n",
    "import numpy as np\n",
    "import matplotlib.pyplot as plt\n",
    "from matplotlib import colors\n",
    "\n",
    "#from ghost_avoidance_heuristic import GhostAvoidanceHeuristic\n",
    "# Needed to hide warnings in the matplotlib sections\n",
    "import warnings\n",
    "import numpy as np\n",
    "import pandas as pd\n",
    "import time\n",
    "import yaml\n",
    "warnings.filterwarnings(\"ignore\")"
   ]
  },
  {
   "cell_type": "code",
   "execution_count": 3,
   "metadata": {},
   "outputs": [],
   "source": [
    "maze_arqs = {'Mazes/TinyMaze01.txt':[30,28],\n",
    "             'Mazes/SmallMaze01.txt':[30,84],\n",
    "             'Mazes/SmallMaze02.txt':[30,56],\n",
    "             'Mazes/MediumMaze01.txt':[60,56],\n",
    "             'Mazes/MediumMaze02.txt':[60,112],\n",
    "             'Mazes/BigMaze01.txt':[60,140],\n",
    "             'Mazes/BigMaze02.txt':[90,140]}"
   ]
  },
  {
   "cell_type": "code",
   "execution_count": 4,
   "metadata": {},
   "outputs": [],
   "source": [
    "algs = {\n",
    "    'BFS': lambda p: pacman.breadth_first_graph_search(p),\n",
    "    'DFS': lambda p: pacman.depth_first_graph_search(p),\n",
    "    'Greedy Manhattan': lambda p: pacman.greedy_best_first_search(p),\n",
    "    'Greedy Euclidean': lambda p: pacman.greedy_best_first_search(p, p.h_euclidean),\n",
    "    'Greedy Euclidean avoidance': lambda p: pacman.greedy_best_first_search(p, p.h_ghost_avoidance_euclidean),\n",
    "    'Greedy Shockwave': lambda p: pacman.greedy_best_first_search(p, p.h_shockwave),\n",
    "    'A* Manhattan': lambda p: pacman.a_star_best_first_search(p),\n",
    "    'A* Euclidean': lambda p: pacman.a_star_best_first_search(p, p.h_euclidean),\n",
    "    'A* Euclidean avoidance': lambda p: pacman.a_star_best_first_search(p, p.h_ghost_avoidance_euclidean),\n",
    "    'A* Shockwave': lambda p: pacman.a_star_best_first_search(p, p.h_shockwave)\n",
    "}"
   ]
  },
  {
   "cell_type": "code",
   "execution_count": 5,
   "metadata": {},
   "outputs": [],
   "source": [
    "def create_df():\n",
    "    delta_t = ['delta_t'+str(i) for i in range(3)]\n",
    "    std_t = ['std_t'+str(i) for i in range(3)]\n",
    "    delta_mem = ['delta_mem'+str(i) for i in range(3)]\n",
    "    std_mem = ['std_mem'+str(i) for i in range(3)]\n",
    "\n",
    "    df_columns = list(zip(delta_t, std_t, delta_mem, std_mem))\n",
    "    df_columns = [i for item in df_columns for i in item] + ['total_t', 'total_mem']\n",
    "\n",
    "    df = pd.DataFrame(index=algs.keys(), columns=df_columns)\n",
    "    \n",
    "    return df"
   ]
  },
  {
   "cell_type": "code",
   "execution_count": 7,
   "metadata": {
    "scrolled": true
   },
   "outputs": [
    {
     "name": "stdout",
     "output_type": "stream",
     "text": [
      "For Mazes/TinyMaze01.txt with config 0 , algorithm  BFS: delta_t = 0.1165269480811225 std_t = 0.05148256625732776 delta_mem = 15.88888888888889 std_mem = 2.5141574442188355\n",
      "For Mazes/TinyMaze01.txt with config 0 , algorithm  DFS: delta_t = 0.12297275331285265 std_t = 0.052355003208208364 delta_mem = 27.555555555555557 std_mem = 7.009693464705557\n",
      "For Mazes/TinyMaze01.txt with config 0 , algorithm  Greedy Manhattan: delta_t = 0.04157159063551161 std_t = 0.05379969037864707 delta_mem = 12.333333333333334 std_mem = 4.371625682868\n",
      "For Mazes/TinyMaze01.txt with config 0 , algorithm  Greedy Euclidean: delta_t = 0.039898978339301214 std_t = 0.05332085785520896 delta_mem = 11.777777777777779 std_mem = 3.5520816362546177\n",
      "For Mazes/TinyMaze01.txt with config 0 , algorithm  Greedy Euclidean avoidance: delta_t = 0.15192434522840711 std_t = 0.03193392478187055 delta_mem = 17.444444444444443 std_mem = 0.8314794192830981\n",
      "For Mazes/TinyMaze01.txt with config 0 , algorithm  Greedy Shockwave: delta_t = 0.11302762561374241 std_t = 0.04715428167263723 delta_mem = 17.22222222222222 std_mem = 2.615244954653293\n",
      "For Mazes/TinyMaze01.txt with config 0 , algorithm  A* Manhattan: delta_t = 0.05934694078233507 std_t = 0.057700130018724136 delta_mem = 11.666666666666666 std_mem = 4.320493798938573\n",
      "For Mazes/TinyMaze01.txt with config 0 , algorithm  A* Euclidean: delta_t = 0.07179416550530328 std_t = 0.060819001370504014 delta_mem = 13.333333333333334 std_mem = 4.447221354708778\n",
      "For Mazes/TinyMaze01.txt with config 0 , algorithm  A* Euclidean avoidance: delta_t = 0.15331427256266275 std_t = 0.03163305640964573 delta_mem = 18.666666666666668 std_mem = 1.9436506316151\n",
      "For Mazes/TinyMaze01.txt with config 0 , algorithm  A* Shockwave: delta_t = 0.1385868655310737 std_t = 0.03788399403720576 delta_mem = 16.0 std_mem = 2.943920288775949\n",
      "For Mazes/SmallMaze01.txt with config 0 , algorithm  BFS: delta_t = 1.0786226855383978 std_t = 0.41311649124852506 delta_mem = 16.444444444444443 std_mem = 1.5713484026367721\n",
      "For Mazes/SmallMaze01.txt with config 0 , algorithm  DFS: delta_t = 0.9362159040239122 std_t = 0.3565555719664695 delta_mem = 81.66666666666667 std_mem = 22.74007720108072\n",
      "For Mazes/SmallMaze01.txt with config 0 , algorithm  Greedy Manhattan: delta_t = 0.19804472393459743 std_t = 0.05039150996594567 delta_mem = 25.77777777777778 std_mem = 9.460770203292446\n",
      "For Mazes/SmallMaze01.txt with config 0 , algorithm  Greedy Euclidean: delta_t = 0.19737839698791504 std_t = 0.05453126734635238 delta_mem = 23.22222222222222 std_mem = 7.238443322178814\n",
      "For Mazes/SmallMaze01.txt with config 0 , algorithm  Greedy Euclidean avoidance: delta_t = 1.1415196789635553 std_t = 0.4651272021089997 delta_mem = 55.0 std_mem = 11.69995251652283\n",
      "For Mazes/SmallMaze01.txt with config 0 , algorithm  Greedy Shockwave: delta_t = 1.1369660960303412 std_t = 0.3520872914236252 delta_mem = 27.0 std_mem = 0.0\n",
      "For Mazes/SmallMaze01.txt with config 0 , algorithm  A* Manhattan: delta_t = 0.4762193626827664 std_t = 0.2367392950895651 delta_mem = 30.333333333333332 std_mem = 10.551461194229608\n",
      "For Mazes/SmallMaze01.txt with config 0 , algorithm  A* Euclidean: delta_t = 0.7479490968916152 std_t = 0.3848085389473847 delta_mem = 34.888888888888886 std_mem = 10.170157263554586\n",
      "For Mazes/SmallMaze01.txt with config 0 , algorithm  A* Euclidean avoidance: delta_t = 1.1698703500959609 std_t = 0.455698963153993 delta_mem = 49.77777777777778 std_mem = 10.14098151920412\n",
      "For Mazes/SmallMaze01.txt with config 0 , algorithm  A* Shockwave: delta_t = 1.1026321252187092 std_t = 0.4168044974412633 delta_mem = 16.11111111111111 std_mem = 1.1967032904743342\n",
      "For Mazes/SmallMaze02.txt with config 0 , algorithm  BFS: delta_t = 0.29512739181518555 std_t = 0.15510986694088522 delta_mem = 18.88888888888889 std_mem = 2.3778816176702997\n",
      "For Mazes/SmallMaze02.txt with config 0 , algorithm  DFS: delta_t = 0.4912794166141086 std_t = 0.14051730235749474 delta_mem = 36.111111111111114 std_mem = 4.532461789860253\n",
      "For Mazes/SmallMaze02.txt with config 0 , algorithm  Greedy Manhattan: delta_t = 0.05623496903313531 std_t = 0.020921520291254613 delta_mem = 12.0 std_mem = 3.0912061651652345\n",
      "For Mazes/SmallMaze02.txt with config 0 , algorithm  Greedy Euclidean: delta_t = 0.0517929924858941 std_t = 0.024841941708610673 delta_mem = 11.444444444444445 std_mem = 2.7532248207475263\n",
      "For Mazes/SmallMaze02.txt with config 0 , algorithm  Greedy Euclidean avoidance: delta_t = 0.388925207985772 std_t = 0.24905805999079575 delta_mem = 23.11111111111111 std_mem = 5.915036290758295\n",
      "For Mazes/SmallMaze02.txt with config 0 , algorithm  Greedy Shockwave: delta_t = 0.3730844126807319 std_t = 0.19896075410613354 delta_mem = 18.88888888888889 std_mem = 5.782049702781194\n",
      "For Mazes/SmallMaze02.txt with config 0 , algorithm  A* Manhattan: delta_t = 0.10435681872897679 std_t = 0.06972947811301157 delta_mem = 13.444444444444445 std_mem = 6.396372428721891\n",
      "For Mazes/SmallMaze02.txt with config 0 , algorithm  A* Euclidean: delta_t = 0.13825599352518717 std_t = 0.09888082873439764 delta_mem = 14.333333333333334 std_mem = 6.128258770283412\n",
      "For Mazes/SmallMaze02.txt with config 0 , algorithm  A* Euclidean avoidance: delta_t = 0.3847556644015842 std_t = 0.25107429088307076 delta_mem = 23.22222222222222 std_mem = 6.355710953811152\n",
      "For Mazes/SmallMaze02.txt with config 0 , algorithm  A* Shockwave: delta_t = 0.30162737104627824 std_t = 0.15292263415318236 delta_mem = 19.555555555555557 std_mem = 3.6851386559504444\n",
      "For Mazes/MediumMaze01.txt with config 0 , algorithm  BFS: delta_t = 1.3135288026597765 std_t = 0.717058251748513 delta_mem = 30.555555555555557 std_mem = 10.253575106719401\n",
      "For Mazes/MediumMaze01.txt with config 0 , algorithm  DFS: delta_t = 1.0266831715901692 std_t = 0.580449079996093 delta_mem = 74.22222222222223 std_mem = 30.183799104736\n",
      "For Mazes/MediumMaze01.txt with config 0 , algorithm  Greedy Manhattan: delta_t = 0.12580654356214735 std_t = 0.05661712763570862 delta_mem = 15.666666666666666 std_mem = 6.666666666666667\n",
      "For Mazes/MediumMaze01.txt with config 0 , algorithm  Greedy Euclidean: delta_t = 0.13247529665629068 std_t = 0.06746550659593442 delta_mem = 15.444444444444445 std_mem = 6.482645398139921\n",
      "For Mazes/MediumMaze01.txt with config 0 , algorithm  Greedy Euclidean avoidance: delta_t = 1.5486857096354167 std_t = 1.0384612888897344 delta_mem = 74.55555555555556 std_mem = 30.56181754015989\n",
      "For Mazes/MediumMaze01.txt with config 0 , algorithm  Greedy Shockwave: delta_t = 1.8163375854492188 std_t = 0.7071719407126287 delta_mem = 32.55555555555556 std_mem = 9.627635121081987\n",
      "For Mazes/MediumMaze01.txt with config 0 , algorithm  A* Manhattan: delta_t = 0.35408372349209255 std_t = 0.2593654357028525 delta_mem = 22.22222222222222 std_mem = 11.697841945112762\n",
      "For Mazes/MediumMaze01.txt with config 0 , algorithm  A* Euclidean: delta_t = 0.509561644660102 std_t = 0.3495046165548295 delta_mem = 23.11111111111111 std_mem = 10.68170236582628\n",
      "For Mazes/MediumMaze01.txt with config 0 , algorithm  A* Euclidean avoidance: delta_t = 1.5342420207129583 std_t = 1.0005513909482482 delta_mem = 73.33333333333333 std_mem = 29.56724914871558\n",
      "For Mazes/MediumMaze01.txt with config 0 , algorithm  A* Shockwave: delta_t = 1.353211694293552 std_t = 0.7111744574141676 delta_mem = 32.111111111111114 std_mem = 9.338622839755864\n",
      "For Mazes/MediumMaze02.txt with config 0 , algorithm  BFS: delta_t = 5.903927856021458 std_t = 3.9145085134100683 delta_mem = 36.111111111111114 std_mem = 9.158413793331055\n",
      "For Mazes/MediumMaze02.txt with config 0 , algorithm  DFS: delta_t = 7.768902990553114 std_t = 3.785793830828172 delta_mem = 248.33333333333334 std_mem = 68.0359382156878\n",
      "For Mazes/MediumMaze02.txt with config 0 , algorithm  Greedy Manhattan: delta_t = 0.48692941665649414 std_t = 0.2734726459096933 delta_mem = 30.555555555555557 std_mem = 11.576903357894317\n",
      "For Mazes/MediumMaze02.txt with config 0 , algorithm  Greedy Euclidean: delta_t = 0.36939287185668945 std_t = 0.1803495098169904 delta_mem = 30.555555555555557 std_mem = 14.8332292963476\n",
      "For Mazes/MediumMaze02.txt with config 0 , algorithm  Greedy Euclidean avoidance: delta_t = 4.997221893734402 std_t = 3.507022617829249 delta_mem = 82.0 std_mem = 17.524585904126553\n"
     ]
    },
    {
     "name": "stdout",
     "output_type": "stream",
     "text": [
      "For Mazes/MediumMaze02.txt with config 0 , algorithm  Greedy Shockwave: delta_t = 5.260586314731174 std_t = 2.3443100687722116 delta_mem = 51.0 std_mem = 13.21615173439934\n",
      "For Mazes/MediumMaze02.txt with config 0 , algorithm  A* Manhattan: delta_t = 0.9388449192047119 std_t = 0.9029201720204661 delta_mem = 35.666666666666664 std_mem = 21.14500203620494\n",
      "For Mazes/MediumMaze02.txt with config 0 , algorithm  A* Euclidean: delta_t = 2.405345466401842 std_t = 2.3784021175620196 delta_mem = 38.44444444444444 std_mem = 18.373356985417235\n",
      "For Mazes/MediumMaze02.txt with config 0 , algorithm  A* Euclidean avoidance: delta_t = 5.131947702831692 std_t = 3.3700674780155526 delta_mem = 78.0 std_mem = 15.719768163402128\n",
      "For Mazes/MediumMaze02.txt with config 0 , algorithm  A* Shockwave: delta_t = 6.219649208916558 std_t = 4.061793691332426 delta_mem = 36.22222222222222 std_mem = 9.577494195337755\n",
      "For Mazes/BigMaze01.txt with config 0 , algorithm  BFS: delta_t = 8.973090913560656 std_t = 6.62743003579374 delta_mem = 40.55555555555556 std_mem = 18.209345043509394\n",
      "For Mazes/BigMaze01.txt with config 0 , algorithm  DFS: delta_t = 13.786570072174072 std_t = 6.778296128728407 delta_mem = 367.0 std_mem = 153.69450217883528\n",
      "For Mazes/BigMaze01.txt with config 0 , algorithm  Greedy Manhattan: delta_t = 1.4354566468132868 std_t = 1.1642166276316863 delta_mem = 42.666666666666664 std_mem = 32.034703404623905\n",
      "For Mazes/BigMaze01.txt with config 0 , algorithm  Greedy Euclidean: delta_t = 1.1647380457984076 std_t = 1.0882022156519444 delta_mem = 32.888888888888886 std_mem = 21.356468936415933\n",
      "For Mazes/BigMaze01.txt with config 0 , algorithm  Greedy Euclidean avoidance: delta_t = 10.946952952278984 std_t = 6.871691299985687 delta_mem = 97.77777777777777 std_mem = 37.596624487306116\n",
      "For Mazes/BigMaze01.txt with config 0 , algorithm  Greedy Shockwave: delta_t = 7.892276896370782 std_t = 5.710934888723761 delta_mem = 67.77777777777777 std_mem = 55.05911525659948\n",
      "For Mazes/BigMaze01.txt with config 0 , algorithm  A* Manhattan: delta_t = 3.2770483228895397 std_t = 4.002495044379143 delta_mem = 50.0 std_mem = 44.58699361921591\n",
      "For Mazes/BigMaze01.txt with config 0 , algorithm  A* Euclidean: delta_t = 4.507685581843059 std_t = 4.806294672565702 delta_mem = 49.888888888888886 std_mem = 35.815714876276935\n",
      "For Mazes/BigMaze01.txt with config 0 , algorithm  A* Euclidean avoidance: delta_t = 11.125431113772922 std_t = 6.523907025335239 delta_mem = 99.33333333333333 std_mem = 33.86574801903671\n",
      "For Mazes/BigMaze01.txt with config 0 , algorithm  A* Shockwave: delta_t = 9.098886887232462 std_t = 6.643806356927544 delta_mem = 40.55555555555556 std_mem = 18.69706519520056\n",
      "For Mazes/BigMaze02.txt with config 0 , algorithm  BFS: delta_t = 22.735702647103203 std_t = 16.23690786677654 delta_mem = 55.44444444444444 std_mem = 25.259150646013904\n",
      "For Mazes/BigMaze02.txt with config 0 , algorithm  DFS: delta_t = 27.96383465660943 std_t = 14.29372006818471 delta_mem = 595.2222222222222 std_mem = 67.08829634275148\n",
      "For Mazes/BigMaze02.txt with config 0 , algorithm  Greedy Manhattan: delta_t = 8.30825768576728 std_t = 12.846988872279349 delta_mem = 64.44444444444444 std_mem = 33.701668640229116\n",
      "For Mazes/BigMaze02.txt with config 0 , algorithm  Greedy Euclidean: delta_t = 9.72605233722263 std_t = 15.920118690819743 delta_mem = 64.88888888888889 std_mem = 34.901271687892674\n",
      "For Mazes/BigMaze02.txt with config 0 , algorithm  Greedy Euclidean avoidance: delta_t = 24.308028909895157 std_t = 16.000099194681294 delta_mem = 164.44444444444446 std_mem = 70.75640703005254\n",
      "For Mazes/BigMaze02.txt with config 0 , algorithm  Greedy Shockwave: delta_t = 28.051526069641113 std_t = 16.2675859024349 delta_mem = 135.11111111111111 std_mem = 32.75988212041078\n",
      "For Mazes/BigMaze02.txt with config 0 , algorithm  A* Manhattan: delta_t = 9.879099236594307 std_t = 9.602703212295971 delta_mem = 104.55555555555556 std_mem = 87.95972703599594\n",
      "For Mazes/BigMaze02.txt with config 0 , algorithm  A* Euclidean: delta_t = 14.98859551217821 std_t = 13.671655892916766 delta_mem = 79.33333333333333 std_mem = 58.404718226450775\n",
      "For Mazes/BigMaze02.txt with config 0 , algorithm  A* Euclidean avoidance: delta_t = 23.3446626663208 std_t = 16.232033558062707 delta_mem = 147.77777777777777 std_mem = 65.25297401102841\n",
      "For Mazes/BigMaze02.txt with config 0 , algorithm  A* Shockwave: delta_t = 23.094859706030952 std_t = 16.344402289693743 delta_mem = 56.0 std_mem = 25.350871122442058\n"
     ]
    }
   ],
   "source": [
    "dfs = {}\n",
    "i_max = 1\n",
    "run_exec = 1\n",
    "\n",
    "for maze_name in maze_arqs:\n",
    "    dfs[maze_name] = create_df()\n",
    "    \n",
    "    for i in range(i_max):\n",
    "        maze, _, _ = enviroment.getMazeTest(maze_name, maze_arqs[maze_name][0], maze_arqs[maze_name][1], enviroment.ShockWaveMaze)\n",
    "        ghost_arq = maze_name.split('.')[0] + \"_ghosts_\" + str(i) + \".yaml\"\n",
    "        enviroment.set_ghost(ghost_arq, maze)\n",
    "        \n",
    "        pos_arq = maze_name.split('.')[0] + \"_pos_\" + str(i) + \".yaml\"\n",
    "        valid_pos = yaml.load(open(pos_arq, 'r'), Loader=yaml.Loader)\n",
    "        \n",
    "        for alg in algs:\n",
    "            exec_time = np.zeros((run_exec * len(valid_pos)))\n",
    "            mem = np.zeros((run_exec * len(valid_pos)))\n",
    "            for ipos, pos in enumerate(valid_pos):\n",
    "                initial_position, goal_position = pos\n",
    "                problem = pacman.PacmanProblem(maze, initial_position, goal_position, ghost_proximity_cost=1000)\n",
    "\n",
    "                for run in range(run_exec):\n",
    "                    start = time.time()\n",
    "                    solution_node, expanded_nodes, food_nodes, tam = algs[alg](problem)\n",
    "                    delta = time.time() - start\n",
    "                    exec_time[ipos*run_exec + run] = delta\n",
    "                    mem[ipos*run_exec + run] = tam\n",
    "                \n",
    "            dfs[maze_name].at[alg, 'delta_t' + str(i)] = exec_time.mean()\n",
    "            dfs[maze_name].at[alg, 'std_t' + str(i)] = exec_time.std()\n",
    "            dfs[maze_name].at[alg, 'delta_mem' + str(i)] = mem.mean()\n",
    "            dfs[maze_name].at[alg, 'std_mem' + str(i)] = mem.std()\n",
    "            \n",
    "            dfs[maze_name].at[alg, 'total_t'] += np.sum(mem)\n",
    "            dfs[maze_name].at[alg, 'total_mem'] += np.sum(mem)\n",
    "            \n",
    "            print(\"For\", maze_name, \"with config\", str(i), \", algorithm\", alg + \":\", \"delta_t =\", exec_time.mean(),\n",
    "                 'std_t =', exec_time.std(), 'delta_mem =', mem.mean(), 'std_mem =', mem.std())\n",
    "        \n",
    "    dfs[maze_name].at[alg, 'total_t']\n",
    "            \n",
    "    "
   ]
  },
  {
   "cell_type": "code",
   "execution_count": 8,
   "metadata": {},
   "outputs": [
    {
     "data": {
      "text/plain": [
       "{'Mazes/TinyMaze01.txt':                              delta_t0     std_t0 delta_mem0  std_mem0  \\\n",
       " BFS                          0.116527  0.0514826    15.8889   2.51416   \n",
       " DFS                          0.122973   0.052355    27.5556   7.00969   \n",
       " Greedy Manhattan            0.0415716  0.0537997    12.3333   4.37163   \n",
       " Greedy Euclidean             0.039899  0.0533209    11.7778   3.55208   \n",
       " Greedy Euclidean avoidance   0.151924  0.0319339    17.4444  0.831479   \n",
       " Greedy Shockwave             0.113028  0.0471543    17.2222   2.61524   \n",
       " A* Manhattan                0.0593469  0.0577001    11.6667   4.32049   \n",
       " A* Euclidean                0.0717942   0.060819    13.3333   4.44722   \n",
       " A* Euclidean avoidance       0.153314  0.0316331    18.6667   1.94365   \n",
       " A* Shockwave                 0.138587   0.037884         16   2.94392   \n",
       " \n",
       "                            delta_t1 std_t1 delta_mem1 std_mem1 delta_t2  \\\n",
       " BFS                             NaN    NaN        NaN      NaN      NaN   \n",
       " DFS                             NaN    NaN        NaN      NaN      NaN   \n",
       " Greedy Manhattan                NaN    NaN        NaN      NaN      NaN   \n",
       " Greedy Euclidean                NaN    NaN        NaN      NaN      NaN   \n",
       " Greedy Euclidean avoidance      NaN    NaN        NaN      NaN      NaN   \n",
       " Greedy Shockwave                NaN    NaN        NaN      NaN      NaN   \n",
       " A* Manhattan                    NaN    NaN        NaN      NaN      NaN   \n",
       " A* Euclidean                    NaN    NaN        NaN      NaN      NaN   \n",
       " A* Euclidean avoidance          NaN    NaN        NaN      NaN      NaN   \n",
       " A* Shockwave                    NaN    NaN        NaN      NaN      NaN   \n",
       " \n",
       "                            std_t2 delta_mem2 std_mem2 total_t total_mem  \n",
       " BFS                           NaN        NaN      NaN     NaN       NaN  \n",
       " DFS                           NaN        NaN      NaN     NaN       NaN  \n",
       " Greedy Manhattan              NaN        NaN      NaN     NaN       NaN  \n",
       " Greedy Euclidean              NaN        NaN      NaN     NaN       NaN  \n",
       " Greedy Euclidean avoidance    NaN        NaN      NaN     NaN       NaN  \n",
       " Greedy Shockwave              NaN        NaN      NaN     NaN       NaN  \n",
       " A* Manhattan                  NaN        NaN      NaN     NaN       NaN  \n",
       " A* Euclidean                  NaN        NaN      NaN     NaN       NaN  \n",
       " A* Euclidean avoidance        NaN        NaN      NaN     NaN       NaN  \n",
       " A* Shockwave                  NaN        NaN      NaN     NaN       NaN  ,\n",
       " 'Mazes/SmallMaze01.txt':                             delta_t0     std_t0 delta_mem0 std_mem0 delta_t1  \\\n",
       " BFS                          1.07862   0.413116    16.4444  1.57135      NaN   \n",
       " DFS                         0.936216   0.356556    81.6667  22.7401      NaN   \n",
       " Greedy Manhattan            0.198045  0.0503915    25.7778  9.46077      NaN   \n",
       " Greedy Euclidean            0.197378  0.0545313    23.2222  7.23844      NaN   \n",
       " Greedy Euclidean avoidance   1.14152   0.465127         55     11.7      NaN   \n",
       " Greedy Shockwave             1.13697   0.352087         27        0      NaN   \n",
       " A* Manhattan                0.476219   0.236739    30.3333  10.5515      NaN   \n",
       " A* Euclidean                0.747949   0.384809    34.8889  10.1702      NaN   \n",
       " A* Euclidean avoidance       1.16987   0.455699    49.7778   10.141      NaN   \n",
       " A* Shockwave                 1.10263   0.416804    16.1111   1.1967      NaN   \n",
       " \n",
       "                            std_t1 delta_mem1 std_mem1 delta_t2 std_t2  \\\n",
       " BFS                           NaN        NaN      NaN      NaN    NaN   \n",
       " DFS                           NaN        NaN      NaN      NaN    NaN   \n",
       " Greedy Manhattan              NaN        NaN      NaN      NaN    NaN   \n",
       " Greedy Euclidean              NaN        NaN      NaN      NaN    NaN   \n",
       " Greedy Euclidean avoidance    NaN        NaN      NaN      NaN    NaN   \n",
       " Greedy Shockwave              NaN        NaN      NaN      NaN    NaN   \n",
       " A* Manhattan                  NaN        NaN      NaN      NaN    NaN   \n",
       " A* Euclidean                  NaN        NaN      NaN      NaN    NaN   \n",
       " A* Euclidean avoidance        NaN        NaN      NaN      NaN    NaN   \n",
       " A* Shockwave                  NaN        NaN      NaN      NaN    NaN   \n",
       " \n",
       "                            delta_mem2 std_mem2 total_t total_mem  \n",
       " BFS                               NaN      NaN     NaN       NaN  \n",
       " DFS                               NaN      NaN     NaN       NaN  \n",
       " Greedy Manhattan                  NaN      NaN     NaN       NaN  \n",
       " Greedy Euclidean                  NaN      NaN     NaN       NaN  \n",
       " Greedy Euclidean avoidance        NaN      NaN     NaN       NaN  \n",
       " Greedy Shockwave                  NaN      NaN     NaN       NaN  \n",
       " A* Manhattan                      NaN      NaN     NaN       NaN  \n",
       " A* Euclidean                      NaN      NaN     NaN       NaN  \n",
       " A* Euclidean avoidance            NaN      NaN     NaN       NaN  \n",
       " A* Shockwave                      NaN      NaN     NaN       NaN  ,\n",
       " 'Mazes/SmallMaze02.txt':                             delta_t0     std_t0 delta_mem0 std_mem0 delta_t1  \\\n",
       " BFS                         0.295127    0.15511    18.8889  2.37788      NaN   \n",
       " DFS                         0.491279   0.140517    36.1111  4.53246      NaN   \n",
       " Greedy Manhattan            0.056235  0.0209215         12  3.09121      NaN   \n",
       " Greedy Euclidean            0.051793  0.0248419    11.4444  2.75322      NaN   \n",
       " Greedy Euclidean avoidance  0.388925   0.249058    23.1111  5.91504      NaN   \n",
       " Greedy Shockwave            0.373084   0.198961    18.8889  5.78205      NaN   \n",
       " A* Manhattan                0.104357  0.0697295    13.4444  6.39637      NaN   \n",
       " A* Euclidean                0.138256  0.0988808    14.3333  6.12826      NaN   \n",
       " A* Euclidean avoidance      0.384756   0.251074    23.2222  6.35571      NaN   \n",
       " A* Shockwave                0.301627   0.152923    19.5556  3.68514      NaN   \n",
       " \n",
       "                            std_t1 delta_mem1 std_mem1 delta_t2 std_t2  \\\n",
       " BFS                           NaN        NaN      NaN      NaN    NaN   \n",
       " DFS                           NaN        NaN      NaN      NaN    NaN   \n",
       " Greedy Manhattan              NaN        NaN      NaN      NaN    NaN   \n",
       " Greedy Euclidean              NaN        NaN      NaN      NaN    NaN   \n",
       " Greedy Euclidean avoidance    NaN        NaN      NaN      NaN    NaN   \n",
       " Greedy Shockwave              NaN        NaN      NaN      NaN    NaN   \n",
       " A* Manhattan                  NaN        NaN      NaN      NaN    NaN   \n",
       " A* Euclidean                  NaN        NaN      NaN      NaN    NaN   \n",
       " A* Euclidean avoidance        NaN        NaN      NaN      NaN    NaN   \n",
       " A* Shockwave                  NaN        NaN      NaN      NaN    NaN   \n",
       " \n",
       "                            delta_mem2 std_mem2 total_t total_mem  \n",
       " BFS                               NaN      NaN     NaN       NaN  \n",
       " DFS                               NaN      NaN     NaN       NaN  \n",
       " Greedy Manhattan                  NaN      NaN     NaN       NaN  \n",
       " Greedy Euclidean                  NaN      NaN     NaN       NaN  \n",
       " Greedy Euclidean avoidance        NaN      NaN     NaN       NaN  \n",
       " Greedy Shockwave                  NaN      NaN     NaN       NaN  \n",
       " A* Manhattan                      NaN      NaN     NaN       NaN  \n",
       " A* Euclidean                      NaN      NaN     NaN       NaN  \n",
       " A* Euclidean avoidance            NaN      NaN     NaN       NaN  \n",
       " A* Shockwave                      NaN      NaN     NaN       NaN  ,\n",
       " 'Mazes/MediumMaze01.txt':                             delta_t0     std_t0 delta_mem0 std_mem0 delta_t1  \\\n",
       " BFS                          1.31353   0.717058    30.5556  10.2536      NaN   \n",
       " DFS                          1.02668   0.580449    74.2222  30.1838      NaN   \n",
       " Greedy Manhattan            0.125807  0.0566171    15.6667  6.66667      NaN   \n",
       " Greedy Euclidean            0.132475  0.0674655    15.4444  6.48265      NaN   \n",
       " Greedy Euclidean avoidance   1.54869    1.03846    74.5556  30.5618      NaN   \n",
       " Greedy Shockwave             1.81634   0.707172    32.5556  9.62764      NaN   \n",
       " A* Manhattan                0.354084   0.259365    22.2222  11.6978      NaN   \n",
       " A* Euclidean                0.509562   0.349505    23.1111  10.6817      NaN   \n",
       " A* Euclidean avoidance       1.53424    1.00055    73.3333  29.5672      NaN   \n",
       " A* Shockwave                 1.35321   0.711174    32.1111  9.33862      NaN   \n",
       " \n",
       "                            std_t1 delta_mem1 std_mem1 delta_t2 std_t2  \\\n",
       " BFS                           NaN        NaN      NaN      NaN    NaN   \n",
       " DFS                           NaN        NaN      NaN      NaN    NaN   \n",
       " Greedy Manhattan              NaN        NaN      NaN      NaN    NaN   \n",
       " Greedy Euclidean              NaN        NaN      NaN      NaN    NaN   \n",
       " Greedy Euclidean avoidance    NaN        NaN      NaN      NaN    NaN   \n",
       " Greedy Shockwave              NaN        NaN      NaN      NaN    NaN   \n",
       " A* Manhattan                  NaN        NaN      NaN      NaN    NaN   \n",
       " A* Euclidean                  NaN        NaN      NaN      NaN    NaN   \n",
       " A* Euclidean avoidance        NaN        NaN      NaN      NaN    NaN   \n",
       " A* Shockwave                  NaN        NaN      NaN      NaN    NaN   \n",
       " \n",
       "                            delta_mem2 std_mem2 total_t total_mem  \n",
       " BFS                               NaN      NaN     NaN       NaN  \n",
       " DFS                               NaN      NaN     NaN       NaN  \n",
       " Greedy Manhattan                  NaN      NaN     NaN       NaN  \n",
       " Greedy Euclidean                  NaN      NaN     NaN       NaN  \n",
       " Greedy Euclidean avoidance        NaN      NaN     NaN       NaN  \n",
       " Greedy Shockwave                  NaN      NaN     NaN       NaN  \n",
       " A* Manhattan                      NaN      NaN     NaN       NaN  \n",
       " A* Euclidean                      NaN      NaN     NaN       NaN  \n",
       " A* Euclidean avoidance            NaN      NaN     NaN       NaN  \n",
       " A* Shockwave                      NaN      NaN     NaN       NaN  ,\n",
       " 'Mazes/MediumMaze02.txt':                             delta_t0    std_t0 delta_mem0 std_mem0 delta_t1  \\\n",
       " BFS                          5.90393   3.91451    36.1111  9.15841      NaN   \n",
       " DFS                           7.7689   3.78579    248.333  68.0359      NaN   \n",
       " Greedy Manhattan            0.486929  0.273473    30.5556  11.5769      NaN   \n",
       " Greedy Euclidean            0.369393   0.18035    30.5556  14.8332      NaN   \n",
       " Greedy Euclidean avoidance   4.99722   3.50702         82  17.5246      NaN   \n",
       " Greedy Shockwave             5.26059   2.34431         51  13.2162      NaN   \n",
       " A* Manhattan                0.938845   0.90292    35.6667   21.145      NaN   \n",
       " A* Euclidean                 2.40535    2.3784    38.4444  18.3734      NaN   \n",
       " A* Euclidean avoidance       5.13195   3.37007         78  15.7198      NaN   \n",
       " A* Shockwave                 6.21965   4.06179    36.2222  9.57749      NaN   \n",
       " \n",
       "                            std_t1 delta_mem1 std_mem1 delta_t2 std_t2  \\\n",
       " BFS                           NaN        NaN      NaN      NaN    NaN   \n",
       " DFS                           NaN        NaN      NaN      NaN    NaN   \n",
       " Greedy Manhattan              NaN        NaN      NaN      NaN    NaN   \n",
       " Greedy Euclidean              NaN        NaN      NaN      NaN    NaN   \n",
       " Greedy Euclidean avoidance    NaN        NaN      NaN      NaN    NaN   \n",
       " Greedy Shockwave              NaN        NaN      NaN      NaN    NaN   \n",
       " A* Manhattan                  NaN        NaN      NaN      NaN    NaN   \n",
       " A* Euclidean                  NaN        NaN      NaN      NaN    NaN   \n",
       " A* Euclidean avoidance        NaN        NaN      NaN      NaN    NaN   \n",
       " A* Shockwave                  NaN        NaN      NaN      NaN    NaN   \n",
       " \n",
       "                            delta_mem2 std_mem2 total_t total_mem  \n",
       " BFS                               NaN      NaN     NaN       NaN  \n",
       " DFS                               NaN      NaN     NaN       NaN  \n",
       " Greedy Manhattan                  NaN      NaN     NaN       NaN  \n",
       " Greedy Euclidean                  NaN      NaN     NaN       NaN  \n",
       " Greedy Euclidean avoidance        NaN      NaN     NaN       NaN  \n",
       " Greedy Shockwave                  NaN      NaN     NaN       NaN  \n",
       " A* Manhattan                      NaN      NaN     NaN       NaN  \n",
       " A* Euclidean                      NaN      NaN     NaN       NaN  \n",
       " A* Euclidean avoidance            NaN      NaN     NaN       NaN  \n",
       " A* Shockwave                      NaN      NaN     NaN       NaN  ,\n",
       " 'Mazes/BigMaze01.txt':                            delta_t0   std_t0 delta_mem0 std_mem0 delta_t1  \\\n",
       " BFS                         8.97309  6.62743    40.5556  18.2093      NaN   \n",
       " DFS                         13.7866   6.7783        367  153.695      NaN   \n",
       " Greedy Manhattan            1.43546  1.16422    42.6667  32.0347      NaN   \n",
       " Greedy Euclidean            1.16474   1.0882    32.8889  21.3565      NaN   \n",
       " Greedy Euclidean avoidance   10.947  6.87169    97.7778  37.5966      NaN   \n",
       " Greedy Shockwave            7.89228  5.71093    67.7778  55.0591      NaN   \n",
       " A* Manhattan                3.27705   4.0025         50   44.587      NaN   \n",
       " A* Euclidean                4.50769  4.80629    49.8889  35.8157      NaN   \n",
       " A* Euclidean avoidance      11.1254  6.52391    99.3333  33.8657      NaN   \n",
       " A* Shockwave                9.09889  6.64381    40.5556  18.6971      NaN   \n",
       " \n",
       "                            std_t1 delta_mem1 std_mem1 delta_t2 std_t2  \\\n",
       " BFS                           NaN        NaN      NaN      NaN    NaN   \n",
       " DFS                           NaN        NaN      NaN      NaN    NaN   \n",
       " Greedy Manhattan              NaN        NaN      NaN      NaN    NaN   \n",
       " Greedy Euclidean              NaN        NaN      NaN      NaN    NaN   \n",
       " Greedy Euclidean avoidance    NaN        NaN      NaN      NaN    NaN   \n",
       " Greedy Shockwave              NaN        NaN      NaN      NaN    NaN   \n",
       " A* Manhattan                  NaN        NaN      NaN      NaN    NaN   \n",
       " A* Euclidean                  NaN        NaN      NaN      NaN    NaN   \n",
       " A* Euclidean avoidance        NaN        NaN      NaN      NaN    NaN   \n",
       " A* Shockwave                  NaN        NaN      NaN      NaN    NaN   \n",
       " \n",
       "                            delta_mem2 std_mem2 total_t total_mem  \n",
       " BFS                               NaN      NaN     NaN       NaN  \n",
       " DFS                               NaN      NaN     NaN       NaN  \n",
       " Greedy Manhattan                  NaN      NaN     NaN       NaN  \n",
       " Greedy Euclidean                  NaN      NaN     NaN       NaN  \n",
       " Greedy Euclidean avoidance        NaN      NaN     NaN       NaN  \n",
       " Greedy Shockwave                  NaN      NaN     NaN       NaN  \n",
       " A* Manhattan                      NaN      NaN     NaN       NaN  \n",
       " A* Euclidean                      NaN      NaN     NaN       NaN  \n",
       " A* Euclidean avoidance            NaN      NaN     NaN       NaN  \n",
       " A* Shockwave                      NaN      NaN     NaN       NaN  ,\n",
       " 'Mazes/BigMaze02.txt':                            delta_t0   std_t0 delta_mem0 std_mem0 delta_t1  \\\n",
       " BFS                         22.7357  16.2369    55.4444  25.2592      NaN   \n",
       " DFS                         27.9638  14.2937    595.222  67.0883      NaN   \n",
       " Greedy Manhattan            8.30826   12.847    64.4444  33.7017      NaN   \n",
       " Greedy Euclidean            9.72605  15.9201    64.8889  34.9013      NaN   \n",
       " Greedy Euclidean avoidance   24.308  16.0001    164.444  70.7564      NaN   \n",
       " Greedy Shockwave            28.0515  16.2676    135.111  32.7599      NaN   \n",
       " A* Manhattan                 9.8791   9.6027    104.556  87.9597      NaN   \n",
       " A* Euclidean                14.9886  13.6717    79.3333  58.4047      NaN   \n",
       " A* Euclidean avoidance      23.3447   16.232    147.778   65.253      NaN   \n",
       " A* Shockwave                23.0949  16.3444         56  25.3509      NaN   \n",
       " \n",
       "                            std_t1 delta_mem1 std_mem1 delta_t2 std_t2  \\\n",
       " BFS                           NaN        NaN      NaN      NaN    NaN   \n",
       " DFS                           NaN        NaN      NaN      NaN    NaN   \n",
       " Greedy Manhattan              NaN        NaN      NaN      NaN    NaN   \n",
       " Greedy Euclidean              NaN        NaN      NaN      NaN    NaN   \n",
       " Greedy Euclidean avoidance    NaN        NaN      NaN      NaN    NaN   \n",
       " Greedy Shockwave              NaN        NaN      NaN      NaN    NaN   \n",
       " A* Manhattan                  NaN        NaN      NaN      NaN    NaN   \n",
       " A* Euclidean                  NaN        NaN      NaN      NaN    NaN   \n",
       " A* Euclidean avoidance        NaN        NaN      NaN      NaN    NaN   \n",
       " A* Shockwave                  NaN        NaN      NaN      NaN    NaN   \n",
       " \n",
       "                            delta_mem2 std_mem2 total_t total_mem  \n",
       " BFS                               NaN      NaN     NaN       NaN  \n",
       " DFS                               NaN      NaN     NaN       NaN  \n",
       " Greedy Manhattan                  NaN      NaN     NaN       NaN  \n",
       " Greedy Euclidean                  NaN      NaN     NaN       NaN  \n",
       " Greedy Euclidean avoidance        NaN      NaN     NaN       NaN  \n",
       " Greedy Shockwave                  NaN      NaN     NaN       NaN  \n",
       " A* Manhattan                      NaN      NaN     NaN       NaN  \n",
       " A* Euclidean                      NaN      NaN     NaN       NaN  \n",
       " A* Euclidean avoidance            NaN      NaN     NaN       NaN  \n",
       " A* Shockwave                      NaN      NaN     NaN       NaN  }"
      ]
     },
     "execution_count": 8,
     "metadata": {},
     "output_type": "execute_result"
    }
   ],
   "source": [
    "dfs"
   ]
  },
  {
   "cell_type": "code",
   "execution_count": 23,
   "metadata": {},
   "outputs": [
    {
     "data": {
      "text/html": [
       "<div>\n",
       "<style scoped>\n",
       "    .dataframe tbody tr th:only-of-type {\n",
       "        vertical-align: middle;\n",
       "    }\n",
       "\n",
       "    .dataframe tbody tr th {\n",
       "        vertical-align: top;\n",
       "    }\n",
       "\n",
       "    .dataframe thead th {\n",
       "        text-align: right;\n",
       "    }\n",
       "</style>\n",
       "<table border=\"1\" class=\"dataframe\">\n",
       "  <thead>\n",
       "    <tr style=\"text-align: right;\">\n",
       "      <th></th>\n",
       "      <th>delta_t0</th>\n",
       "      <th>std_t0</th>\n",
       "      <th>delta_mem0</th>\n",
       "      <th>std_mem0</th>\n",
       "      <th>delta_t1</th>\n",
       "      <th>std_t1</th>\n",
       "      <th>delta_mem1</th>\n",
       "      <th>std_mem1</th>\n",
       "      <th>delta_t2</th>\n",
       "      <th>std_t2</th>\n",
       "      <th>delta_mem2</th>\n",
       "      <th>std_mem2</th>\n",
       "      <th>total_t</th>\n",
       "      <th>total_mem</th>\n",
       "    </tr>\n",
       "  </thead>\n",
       "  <tbody>\n",
       "    <tr>\n",
       "      <th>BFS</th>\n",
       "      <td>5.90393</td>\n",
       "      <td>3.91451</td>\n",
       "      <td>36.1111</td>\n",
       "      <td>9.15841</td>\n",
       "      <td>NaN</td>\n",
       "      <td>NaN</td>\n",
       "      <td>NaN</td>\n",
       "      <td>NaN</td>\n",
       "      <td>NaN</td>\n",
       "      <td>NaN</td>\n",
       "      <td>NaN</td>\n",
       "      <td>NaN</td>\n",
       "      <td>NaN</td>\n",
       "      <td>NaN</td>\n",
       "    </tr>\n",
       "    <tr>\n",
       "      <th>DFS</th>\n",
       "      <td>7.7689</td>\n",
       "      <td>3.78579</td>\n",
       "      <td>248.333</td>\n",
       "      <td>68.0359</td>\n",
       "      <td>NaN</td>\n",
       "      <td>NaN</td>\n",
       "      <td>NaN</td>\n",
       "      <td>NaN</td>\n",
       "      <td>NaN</td>\n",
       "      <td>NaN</td>\n",
       "      <td>NaN</td>\n",
       "      <td>NaN</td>\n",
       "      <td>NaN</td>\n",
       "      <td>NaN</td>\n",
       "    </tr>\n",
       "    <tr>\n",
       "      <th>Greedy Manhattan</th>\n",
       "      <td>0.486929</td>\n",
       "      <td>0.273473</td>\n",
       "      <td>30.5556</td>\n",
       "      <td>11.5769</td>\n",
       "      <td>NaN</td>\n",
       "      <td>NaN</td>\n",
       "      <td>NaN</td>\n",
       "      <td>NaN</td>\n",
       "      <td>NaN</td>\n",
       "      <td>NaN</td>\n",
       "      <td>NaN</td>\n",
       "      <td>NaN</td>\n",
       "      <td>NaN</td>\n",
       "      <td>NaN</td>\n",
       "    </tr>\n",
       "    <tr>\n",
       "      <th>Greedy Euclidean</th>\n",
       "      <td>0.369393</td>\n",
       "      <td>0.18035</td>\n",
       "      <td>30.5556</td>\n",
       "      <td>14.8332</td>\n",
       "      <td>NaN</td>\n",
       "      <td>NaN</td>\n",
       "      <td>NaN</td>\n",
       "      <td>NaN</td>\n",
       "      <td>NaN</td>\n",
       "      <td>NaN</td>\n",
       "      <td>NaN</td>\n",
       "      <td>NaN</td>\n",
       "      <td>NaN</td>\n",
       "      <td>NaN</td>\n",
       "    </tr>\n",
       "    <tr>\n",
       "      <th>Greedy Euclidean avoidance</th>\n",
       "      <td>4.99722</td>\n",
       "      <td>3.50702</td>\n",
       "      <td>82</td>\n",
       "      <td>17.5246</td>\n",
       "      <td>NaN</td>\n",
       "      <td>NaN</td>\n",
       "      <td>NaN</td>\n",
       "      <td>NaN</td>\n",
       "      <td>NaN</td>\n",
       "      <td>NaN</td>\n",
       "      <td>NaN</td>\n",
       "      <td>NaN</td>\n",
       "      <td>NaN</td>\n",
       "      <td>NaN</td>\n",
       "    </tr>\n",
       "    <tr>\n",
       "      <th>Greedy Shockwave</th>\n",
       "      <td>5.26059</td>\n",
       "      <td>2.34431</td>\n",
       "      <td>51</td>\n",
       "      <td>13.2162</td>\n",
       "      <td>NaN</td>\n",
       "      <td>NaN</td>\n",
       "      <td>NaN</td>\n",
       "      <td>NaN</td>\n",
       "      <td>NaN</td>\n",
       "      <td>NaN</td>\n",
       "      <td>NaN</td>\n",
       "      <td>NaN</td>\n",
       "      <td>NaN</td>\n",
       "      <td>NaN</td>\n",
       "    </tr>\n",
       "    <tr>\n",
       "      <th>A* Manhattan</th>\n",
       "      <td>0.938845</td>\n",
       "      <td>0.90292</td>\n",
       "      <td>35.6667</td>\n",
       "      <td>21.145</td>\n",
       "      <td>NaN</td>\n",
       "      <td>NaN</td>\n",
       "      <td>NaN</td>\n",
       "      <td>NaN</td>\n",
       "      <td>NaN</td>\n",
       "      <td>NaN</td>\n",
       "      <td>NaN</td>\n",
       "      <td>NaN</td>\n",
       "      <td>NaN</td>\n",
       "      <td>NaN</td>\n",
       "    </tr>\n",
       "    <tr>\n",
       "      <th>A* Euclidean</th>\n",
       "      <td>2.40535</td>\n",
       "      <td>2.3784</td>\n",
       "      <td>38.4444</td>\n",
       "      <td>18.3734</td>\n",
       "      <td>NaN</td>\n",
       "      <td>NaN</td>\n",
       "      <td>NaN</td>\n",
       "      <td>NaN</td>\n",
       "      <td>NaN</td>\n",
       "      <td>NaN</td>\n",
       "      <td>NaN</td>\n",
       "      <td>NaN</td>\n",
       "      <td>NaN</td>\n",
       "      <td>NaN</td>\n",
       "    </tr>\n",
       "    <tr>\n",
       "      <th>A* Euclidean avoidance</th>\n",
       "      <td>5.13195</td>\n",
       "      <td>3.37007</td>\n",
       "      <td>78</td>\n",
       "      <td>15.7198</td>\n",
       "      <td>NaN</td>\n",
       "      <td>NaN</td>\n",
       "      <td>NaN</td>\n",
       "      <td>NaN</td>\n",
       "      <td>NaN</td>\n",
       "      <td>NaN</td>\n",
       "      <td>NaN</td>\n",
       "      <td>NaN</td>\n",
       "      <td>NaN</td>\n",
       "      <td>NaN</td>\n",
       "    </tr>\n",
       "    <tr>\n",
       "      <th>A* Shockwave</th>\n",
       "      <td>6.21965</td>\n",
       "      <td>4.06179</td>\n",
       "      <td>36.2222</td>\n",
       "      <td>9.57749</td>\n",
       "      <td>NaN</td>\n",
       "      <td>NaN</td>\n",
       "      <td>NaN</td>\n",
       "      <td>NaN</td>\n",
       "      <td>NaN</td>\n",
       "      <td>NaN</td>\n",
       "      <td>NaN</td>\n",
       "      <td>NaN</td>\n",
       "      <td>NaN</td>\n",
       "      <td>NaN</td>\n",
       "    </tr>\n",
       "  </tbody>\n",
       "</table>\n",
       "</div>"
      ],
      "text/plain": [
       "                            delta_t0    std_t0 delta_mem0 std_mem0 delta_t1  \\\n",
       "BFS                          5.90393   3.91451    36.1111  9.15841      NaN   \n",
       "DFS                           7.7689   3.78579    248.333  68.0359      NaN   \n",
       "Greedy Manhattan            0.486929  0.273473    30.5556  11.5769      NaN   \n",
       "Greedy Euclidean            0.369393   0.18035    30.5556  14.8332      NaN   \n",
       "Greedy Euclidean avoidance   4.99722   3.50702         82  17.5246      NaN   \n",
       "Greedy Shockwave             5.26059   2.34431         51  13.2162      NaN   \n",
       "A* Manhattan                0.938845   0.90292    35.6667   21.145      NaN   \n",
       "A* Euclidean                 2.40535    2.3784    38.4444  18.3734      NaN   \n",
       "A* Euclidean avoidance       5.13195   3.37007         78  15.7198      NaN   \n",
       "A* Shockwave                 6.21965   4.06179    36.2222  9.57749      NaN   \n",
       "\n",
       "                           std_t1 delta_mem1 std_mem1 delta_t2 std_t2  \\\n",
       "BFS                           NaN        NaN      NaN      NaN    NaN   \n",
       "DFS                           NaN        NaN      NaN      NaN    NaN   \n",
       "Greedy Manhattan              NaN        NaN      NaN      NaN    NaN   \n",
       "Greedy Euclidean              NaN        NaN      NaN      NaN    NaN   \n",
       "Greedy Euclidean avoidance    NaN        NaN      NaN      NaN    NaN   \n",
       "Greedy Shockwave              NaN        NaN      NaN      NaN    NaN   \n",
       "A* Manhattan                  NaN        NaN      NaN      NaN    NaN   \n",
       "A* Euclidean                  NaN        NaN      NaN      NaN    NaN   \n",
       "A* Euclidean avoidance        NaN        NaN      NaN      NaN    NaN   \n",
       "A* Shockwave                  NaN        NaN      NaN      NaN    NaN   \n",
       "\n",
       "                           delta_mem2 std_mem2 total_t total_mem  \n",
       "BFS                               NaN      NaN     NaN       NaN  \n",
       "DFS                               NaN      NaN     NaN       NaN  \n",
       "Greedy Manhattan                  NaN      NaN     NaN       NaN  \n",
       "Greedy Euclidean                  NaN      NaN     NaN       NaN  \n",
       "Greedy Euclidean avoidance        NaN      NaN     NaN       NaN  \n",
       "Greedy Shockwave                  NaN      NaN     NaN       NaN  \n",
       "A* Manhattan                      NaN      NaN     NaN       NaN  \n",
       "A* Euclidean                      NaN      NaN     NaN       NaN  \n",
       "A* Euclidean avoidance            NaN      NaN     NaN       NaN  \n",
       "A* Shockwave                      NaN      NaN     NaN       NaN  "
      ]
     },
     "execution_count": 23,
     "metadata": {},
     "output_type": "execute_result"
    }
   ],
   "source": [
    "dfs['Mazes/MediumMaze02.txt']"
   ]
  },
  {
   "cell_type": "code",
   "execution_count": 24,
   "metadata": {},
   "outputs": [],
   "source": [
    "df_s = dfs['Mazes/MediumMaze02.txt']"
   ]
  },
  {
   "cell_type": "code",
   "execution_count": 26,
   "metadata": {},
   "outputs": [],
   "source": [
    "df_s = dfs['Mazes/SmallMaze02.txt']"
   ]
  },
  {
   "cell_type": "code",
   "execution_count": 27,
   "metadata": {
    "scrolled": false
   },
   "outputs": [
    {
     "data": {
      "application/vnd.plotly.v1+json": {
       "config": {
        "plotlyServerURL": "https://plot.ly"
       },
       "data": [
        {
         "error_y": {
          "array": [
           0.15510986694088522,
           0.14051730235749474,
           0.020921520291254613,
           0.024841941708610673,
           0.24905805999079575,
           0.19896075410613354,
           0.06972947811301157,
           0.09888082873439764,
           0.25107429088307076,
           0.15292263415318236
          ],
          "type": "data",
          "visible": true
         },
         "marker": {
          "size": 15
         },
         "mode": "markers",
         "name": "Execution time",
         "type": "scatter",
         "x": [
          "BFS",
          "DFS",
          "Greedy Manhattan",
          "Greedy Euclidean",
          "Greedy Euclidean avoidance",
          "Greedy Shockwave",
          "A* Manhattan",
          "A* Euclidean",
          "A* Euclidean avoidance",
          "A* Shockwave"
         ],
         "xaxis": "x",
         "y": [
          0.29512739181518555,
          0.4912794166141086,
          0.05623496903313531,
          0.0517929924858941,
          0.388925207985772,
          0.3730844126807319,
          0.10435681872897679,
          0.13825599352518717,
          0.3847556644015842,
          0.30162737104627824
         ],
         "yaxis": "y"
        },
        {
         "error_y": {
          "array": [
           2.3778816176702997,
           4.532461789860253,
           3.0912061651652345,
           2.7532248207475263,
           5.915036290758295,
           5.782049702781194,
           6.396372428721891,
           6.128258770283412,
           6.355710953811152,
           3.6851386559504444
          ],
          "type": "data",
          "visible": true
         },
         "marker": {
          "size": 10,
          "symbol": "diamond"
         },
         "mode": "markers",
         "name": "Queue max size",
         "type": "scatter",
         "x": [
          "BFS",
          "DFS",
          "Greedy Manhattan",
          "Greedy Euclidean",
          "Greedy Euclidean avoidance",
          "Greedy Shockwave",
          "A* Manhattan",
          "A* Euclidean",
          "A* Euclidean avoidance",
          "A* Shockwave"
         ],
         "xaxis": "x",
         "y": [
          18.88888888888889,
          36.111111111111114,
          12,
          11.444444444444445,
          23.11111111111111,
          18.88888888888889,
          13.444444444444445,
          14.333333333333334,
          23.22222222222222,
          19.555555555555557
         ],
         "yaxis": "y2"
        }
       ],
       "layout": {
        "template": {
         "data": {
          "bar": [
           {
            "error_x": {
             "color": "#2a3f5f"
            },
            "error_y": {
             "color": "#2a3f5f"
            },
            "marker": {
             "line": {
              "color": "#E5ECF6",
              "width": 0.5
             }
            },
            "type": "bar"
           }
          ],
          "barpolar": [
           {
            "marker": {
             "line": {
              "color": "#E5ECF6",
              "width": 0.5
             }
            },
            "type": "barpolar"
           }
          ],
          "carpet": [
           {
            "aaxis": {
             "endlinecolor": "#2a3f5f",
             "gridcolor": "white",
             "linecolor": "white",
             "minorgridcolor": "white",
             "startlinecolor": "#2a3f5f"
            },
            "baxis": {
             "endlinecolor": "#2a3f5f",
             "gridcolor": "white",
             "linecolor": "white",
             "minorgridcolor": "white",
             "startlinecolor": "#2a3f5f"
            },
            "type": "carpet"
           }
          ],
          "choropleth": [
           {
            "colorbar": {
             "outlinewidth": 0,
             "ticks": ""
            },
            "type": "choropleth"
           }
          ],
          "contour": [
           {
            "colorbar": {
             "outlinewidth": 0,
             "ticks": ""
            },
            "colorscale": [
             [
              0,
              "#0d0887"
             ],
             [
              0.1111111111111111,
              "#46039f"
             ],
             [
              0.2222222222222222,
              "#7201a8"
             ],
             [
              0.3333333333333333,
              "#9c179e"
             ],
             [
              0.4444444444444444,
              "#bd3786"
             ],
             [
              0.5555555555555556,
              "#d8576b"
             ],
             [
              0.6666666666666666,
              "#ed7953"
             ],
             [
              0.7777777777777778,
              "#fb9f3a"
             ],
             [
              0.8888888888888888,
              "#fdca26"
             ],
             [
              1,
              "#f0f921"
             ]
            ],
            "type": "contour"
           }
          ],
          "contourcarpet": [
           {
            "colorbar": {
             "outlinewidth": 0,
             "ticks": ""
            },
            "type": "contourcarpet"
           }
          ],
          "heatmap": [
           {
            "colorbar": {
             "outlinewidth": 0,
             "ticks": ""
            },
            "colorscale": [
             [
              0,
              "#0d0887"
             ],
             [
              0.1111111111111111,
              "#46039f"
             ],
             [
              0.2222222222222222,
              "#7201a8"
             ],
             [
              0.3333333333333333,
              "#9c179e"
             ],
             [
              0.4444444444444444,
              "#bd3786"
             ],
             [
              0.5555555555555556,
              "#d8576b"
             ],
             [
              0.6666666666666666,
              "#ed7953"
             ],
             [
              0.7777777777777778,
              "#fb9f3a"
             ],
             [
              0.8888888888888888,
              "#fdca26"
             ],
             [
              1,
              "#f0f921"
             ]
            ],
            "type": "heatmap"
           }
          ],
          "heatmapgl": [
           {
            "colorbar": {
             "outlinewidth": 0,
             "ticks": ""
            },
            "colorscale": [
             [
              0,
              "#0d0887"
             ],
             [
              0.1111111111111111,
              "#46039f"
             ],
             [
              0.2222222222222222,
              "#7201a8"
             ],
             [
              0.3333333333333333,
              "#9c179e"
             ],
             [
              0.4444444444444444,
              "#bd3786"
             ],
             [
              0.5555555555555556,
              "#d8576b"
             ],
             [
              0.6666666666666666,
              "#ed7953"
             ],
             [
              0.7777777777777778,
              "#fb9f3a"
             ],
             [
              0.8888888888888888,
              "#fdca26"
             ],
             [
              1,
              "#f0f921"
             ]
            ],
            "type": "heatmapgl"
           }
          ],
          "histogram": [
           {
            "marker": {
             "colorbar": {
              "outlinewidth": 0,
              "ticks": ""
             }
            },
            "type": "histogram"
           }
          ],
          "histogram2d": [
           {
            "colorbar": {
             "outlinewidth": 0,
             "ticks": ""
            },
            "colorscale": [
             [
              0,
              "#0d0887"
             ],
             [
              0.1111111111111111,
              "#46039f"
             ],
             [
              0.2222222222222222,
              "#7201a8"
             ],
             [
              0.3333333333333333,
              "#9c179e"
             ],
             [
              0.4444444444444444,
              "#bd3786"
             ],
             [
              0.5555555555555556,
              "#d8576b"
             ],
             [
              0.6666666666666666,
              "#ed7953"
             ],
             [
              0.7777777777777778,
              "#fb9f3a"
             ],
             [
              0.8888888888888888,
              "#fdca26"
             ],
             [
              1,
              "#f0f921"
             ]
            ],
            "type": "histogram2d"
           }
          ],
          "histogram2dcontour": [
           {
            "colorbar": {
             "outlinewidth": 0,
             "ticks": ""
            },
            "colorscale": [
             [
              0,
              "#0d0887"
             ],
             [
              0.1111111111111111,
              "#46039f"
             ],
             [
              0.2222222222222222,
              "#7201a8"
             ],
             [
              0.3333333333333333,
              "#9c179e"
             ],
             [
              0.4444444444444444,
              "#bd3786"
             ],
             [
              0.5555555555555556,
              "#d8576b"
             ],
             [
              0.6666666666666666,
              "#ed7953"
             ],
             [
              0.7777777777777778,
              "#fb9f3a"
             ],
             [
              0.8888888888888888,
              "#fdca26"
             ],
             [
              1,
              "#f0f921"
             ]
            ],
            "type": "histogram2dcontour"
           }
          ],
          "mesh3d": [
           {
            "colorbar": {
             "outlinewidth": 0,
             "ticks": ""
            },
            "type": "mesh3d"
           }
          ],
          "parcoords": [
           {
            "line": {
             "colorbar": {
              "outlinewidth": 0,
              "ticks": ""
             }
            },
            "type": "parcoords"
           }
          ],
          "pie": [
           {
            "automargin": true,
            "type": "pie"
           }
          ],
          "scatter": [
           {
            "marker": {
             "colorbar": {
              "outlinewidth": 0,
              "ticks": ""
             }
            },
            "type": "scatter"
           }
          ],
          "scatter3d": [
           {
            "line": {
             "colorbar": {
              "outlinewidth": 0,
              "ticks": ""
             }
            },
            "marker": {
             "colorbar": {
              "outlinewidth": 0,
              "ticks": ""
             }
            },
            "type": "scatter3d"
           }
          ],
          "scattercarpet": [
           {
            "marker": {
             "colorbar": {
              "outlinewidth": 0,
              "ticks": ""
             }
            },
            "type": "scattercarpet"
           }
          ],
          "scattergeo": [
           {
            "marker": {
             "colorbar": {
              "outlinewidth": 0,
              "ticks": ""
             }
            },
            "type": "scattergeo"
           }
          ],
          "scattergl": [
           {
            "marker": {
             "colorbar": {
              "outlinewidth": 0,
              "ticks": ""
             }
            },
            "type": "scattergl"
           }
          ],
          "scattermapbox": [
           {
            "marker": {
             "colorbar": {
              "outlinewidth": 0,
              "ticks": ""
             }
            },
            "type": "scattermapbox"
           }
          ],
          "scatterpolar": [
           {
            "marker": {
             "colorbar": {
              "outlinewidth": 0,
              "ticks": ""
             }
            },
            "type": "scatterpolar"
           }
          ],
          "scatterpolargl": [
           {
            "marker": {
             "colorbar": {
              "outlinewidth": 0,
              "ticks": ""
             }
            },
            "type": "scatterpolargl"
           }
          ],
          "scatterternary": [
           {
            "marker": {
             "colorbar": {
              "outlinewidth": 0,
              "ticks": ""
             }
            },
            "type": "scatterternary"
           }
          ],
          "surface": [
           {
            "colorbar": {
             "outlinewidth": 0,
             "ticks": ""
            },
            "colorscale": [
             [
              0,
              "#0d0887"
             ],
             [
              0.1111111111111111,
              "#46039f"
             ],
             [
              0.2222222222222222,
              "#7201a8"
             ],
             [
              0.3333333333333333,
              "#9c179e"
             ],
             [
              0.4444444444444444,
              "#bd3786"
             ],
             [
              0.5555555555555556,
              "#d8576b"
             ],
             [
              0.6666666666666666,
              "#ed7953"
             ],
             [
              0.7777777777777778,
              "#fb9f3a"
             ],
             [
              0.8888888888888888,
              "#fdca26"
             ],
             [
              1,
              "#f0f921"
             ]
            ],
            "type": "surface"
           }
          ],
          "table": [
           {
            "cells": {
             "fill": {
              "color": "#EBF0F8"
             },
             "line": {
              "color": "white"
             }
            },
            "header": {
             "fill": {
              "color": "#C8D4E3"
             },
             "line": {
              "color": "white"
             }
            },
            "type": "table"
           }
          ]
         },
         "layout": {
          "annotationdefaults": {
           "arrowcolor": "#2a3f5f",
           "arrowhead": 0,
           "arrowwidth": 1
          },
          "coloraxis": {
           "colorbar": {
            "outlinewidth": 0,
            "ticks": ""
           }
          },
          "colorscale": {
           "diverging": [
            [
             0,
             "#8e0152"
            ],
            [
             0.1,
             "#c51b7d"
            ],
            [
             0.2,
             "#de77ae"
            ],
            [
             0.3,
             "#f1b6da"
            ],
            [
             0.4,
             "#fde0ef"
            ],
            [
             0.5,
             "#f7f7f7"
            ],
            [
             0.6,
             "#e6f5d0"
            ],
            [
             0.7,
             "#b8e186"
            ],
            [
             0.8,
             "#7fbc41"
            ],
            [
             0.9,
             "#4d9221"
            ],
            [
             1,
             "#276419"
            ]
           ],
           "sequential": [
            [
             0,
             "#0d0887"
            ],
            [
             0.1111111111111111,
             "#46039f"
            ],
            [
             0.2222222222222222,
             "#7201a8"
            ],
            [
             0.3333333333333333,
             "#9c179e"
            ],
            [
             0.4444444444444444,
             "#bd3786"
            ],
            [
             0.5555555555555556,
             "#d8576b"
            ],
            [
             0.6666666666666666,
             "#ed7953"
            ],
            [
             0.7777777777777778,
             "#fb9f3a"
            ],
            [
             0.8888888888888888,
             "#fdca26"
            ],
            [
             1,
             "#f0f921"
            ]
           ],
           "sequentialminus": [
            [
             0,
             "#0d0887"
            ],
            [
             0.1111111111111111,
             "#46039f"
            ],
            [
             0.2222222222222222,
             "#7201a8"
            ],
            [
             0.3333333333333333,
             "#9c179e"
            ],
            [
             0.4444444444444444,
             "#bd3786"
            ],
            [
             0.5555555555555556,
             "#d8576b"
            ],
            [
             0.6666666666666666,
             "#ed7953"
            ],
            [
             0.7777777777777778,
             "#fb9f3a"
            ],
            [
             0.8888888888888888,
             "#fdca26"
            ],
            [
             1,
             "#f0f921"
            ]
           ]
          },
          "colorway": [
           "#636efa",
           "#EF553B",
           "#00cc96",
           "#ab63fa",
           "#FFA15A",
           "#19d3f3",
           "#FF6692",
           "#B6E880",
           "#FF97FF",
           "#FECB52"
          ],
          "font": {
           "color": "#2a3f5f"
          },
          "geo": {
           "bgcolor": "white",
           "lakecolor": "white",
           "landcolor": "#E5ECF6",
           "showlakes": true,
           "showland": true,
           "subunitcolor": "white"
          },
          "hoverlabel": {
           "align": "left"
          },
          "hovermode": "closest",
          "mapbox": {
           "style": "light"
          },
          "paper_bgcolor": "white",
          "plot_bgcolor": "#E5ECF6",
          "polar": {
           "angularaxis": {
            "gridcolor": "white",
            "linecolor": "white",
            "ticks": ""
           },
           "bgcolor": "#E5ECF6",
           "radialaxis": {
            "gridcolor": "white",
            "linecolor": "white",
            "ticks": ""
           }
          },
          "scene": {
           "xaxis": {
            "backgroundcolor": "#E5ECF6",
            "gridcolor": "white",
            "gridwidth": 2,
            "linecolor": "white",
            "showbackground": true,
            "ticks": "",
            "zerolinecolor": "white"
           },
           "yaxis": {
            "backgroundcolor": "#E5ECF6",
            "gridcolor": "white",
            "gridwidth": 2,
            "linecolor": "white",
            "showbackground": true,
            "ticks": "",
            "zerolinecolor": "white"
           },
           "zaxis": {
            "backgroundcolor": "#E5ECF6",
            "gridcolor": "white",
            "gridwidth": 2,
            "linecolor": "white",
            "showbackground": true,
            "ticks": "",
            "zerolinecolor": "white"
           }
          },
          "shapedefaults": {
           "line": {
            "color": "#2a3f5f"
           }
          },
          "ternary": {
           "aaxis": {
            "gridcolor": "white",
            "linecolor": "white",
            "ticks": ""
           },
           "baxis": {
            "gridcolor": "white",
            "linecolor": "white",
            "ticks": ""
           },
           "bgcolor": "#E5ECF6",
           "caxis": {
            "gridcolor": "white",
            "linecolor": "white",
            "ticks": ""
           }
          },
          "title": {
           "x": 0.05
          },
          "xaxis": {
           "automargin": true,
           "gridcolor": "white",
           "linecolor": "white",
           "ticks": "",
           "title": {
            "standoff": 15
           },
           "zerolinecolor": "white",
           "zerolinewidth": 2
          },
          "yaxis": {
           "automargin": true,
           "gridcolor": "white",
           "linecolor": "white",
           "ticks": "",
           "title": {
            "standoff": 15
           },
           "zerolinecolor": "white",
           "zerolinewidth": 2
          }
         }
        },
        "title": {
         "text": "MediumMaze 02",
         "x": 0.5,
         "xanchor": "center",
         "y": 0.9,
         "yanchor": "top"
        },
        "xaxis": {
         "anchor": "y",
         "domain": [
          0,
          0.94
         ]
        },
        "yaxis": {
         "anchor": "x",
         "domain": [
          0,
          1
         ],
         "gridcolor": "LightBlue",
         "nticks": 10,
         "ticks": "inside",
         "title": {
          "text": "Execution Time [s]"
         }
        },
        "yaxis2": {
         "anchor": "x",
         "gridcolor": "LightPink",
         "nticks": 10,
         "overlaying": "y",
         "side": "right",
         "ticks": "inside",
         "title": {
          "text": "Max Queue Size [#nodes]"
         }
        }
       }
      },
      "text/html": [
       "<div>\n",
       "        \n",
       "        \n",
       "            <div id=\"e6934bef-636b-4f44-addd-483e0b23b51e\" class=\"plotly-graph-div\" style=\"height:525px; width:100%;\"></div>\n",
       "            <script type=\"text/javascript\">\n",
       "                require([\"plotly\"], function(Plotly) {\n",
       "                    window.PLOTLYENV=window.PLOTLYENV || {};\n",
       "                    \n",
       "                if (document.getElementById(\"e6934bef-636b-4f44-addd-483e0b23b51e\")) {\n",
       "                    Plotly.newPlot(\n",
       "                        'e6934bef-636b-4f44-addd-483e0b23b51e',\n",
       "                        [{\"error_y\": {\"array\": [0.15510986694088522, 0.14051730235749474, 0.020921520291254613, 0.024841941708610673, 0.24905805999079575, 0.19896075410613354, 0.06972947811301157, 0.09888082873439764, 0.25107429088307076, 0.15292263415318236], \"type\": \"data\", \"visible\": true}, \"marker\": {\"size\": 15}, \"mode\": \"markers\", \"name\": \"Execution time\", \"type\": \"scatter\", \"x\": [\"BFS\", \"DFS\", \"Greedy Manhattan\", \"Greedy Euclidean\", \"Greedy Euclidean avoidance\", \"Greedy Shockwave\", \"A* Manhattan\", \"A* Euclidean\", \"A* Euclidean avoidance\", \"A* Shockwave\"], \"xaxis\": \"x\", \"y\": [0.29512739181518555, 0.4912794166141086, 0.05623496903313531, 0.0517929924858941, 0.388925207985772, 0.3730844126807319, 0.10435681872897679, 0.13825599352518717, 0.3847556644015842, 0.30162737104627824], \"yaxis\": \"y\"}, {\"error_y\": {\"array\": [2.3778816176702997, 4.532461789860253, 3.0912061651652345, 2.7532248207475263, 5.915036290758295, 5.782049702781194, 6.396372428721891, 6.128258770283412, 6.355710953811152, 3.6851386559504444], \"type\": \"data\", \"visible\": true}, \"marker\": {\"size\": 10, \"symbol\": \"diamond\"}, \"mode\": \"markers\", \"name\": \"Queue max size\", \"type\": \"scatter\", \"x\": [\"BFS\", \"DFS\", \"Greedy Manhattan\", \"Greedy Euclidean\", \"Greedy Euclidean avoidance\", \"Greedy Shockwave\", \"A* Manhattan\", \"A* Euclidean\", \"A* Euclidean avoidance\", \"A* Shockwave\"], \"xaxis\": \"x\", \"y\": [18.88888888888889, 36.111111111111114, 12.0, 11.444444444444445, 23.11111111111111, 18.88888888888889, 13.444444444444445, 14.333333333333334, 23.22222222222222, 19.555555555555557], \"yaxis\": \"y2\"}],\n",
       "                        {\"template\": {\"data\": {\"bar\": [{\"error_x\": {\"color\": \"#2a3f5f\"}, \"error_y\": {\"color\": \"#2a3f5f\"}, \"marker\": {\"line\": {\"color\": \"#E5ECF6\", \"width\": 0.5}}, \"type\": \"bar\"}], \"barpolar\": [{\"marker\": {\"line\": {\"color\": \"#E5ECF6\", \"width\": 0.5}}, \"type\": \"barpolar\"}], \"carpet\": [{\"aaxis\": {\"endlinecolor\": \"#2a3f5f\", \"gridcolor\": \"white\", \"linecolor\": \"white\", \"minorgridcolor\": \"white\", \"startlinecolor\": \"#2a3f5f\"}, \"baxis\": {\"endlinecolor\": \"#2a3f5f\", \"gridcolor\": \"white\", \"linecolor\": \"white\", \"minorgridcolor\": \"white\", \"startlinecolor\": \"#2a3f5f\"}, \"type\": \"carpet\"}], \"choropleth\": [{\"colorbar\": {\"outlinewidth\": 0, \"ticks\": \"\"}, \"type\": \"choropleth\"}], \"contour\": [{\"colorbar\": {\"outlinewidth\": 0, \"ticks\": \"\"}, \"colorscale\": [[0.0, \"#0d0887\"], [0.1111111111111111, \"#46039f\"], [0.2222222222222222, \"#7201a8\"], [0.3333333333333333, \"#9c179e\"], [0.4444444444444444, \"#bd3786\"], [0.5555555555555556, \"#d8576b\"], [0.6666666666666666, \"#ed7953\"], [0.7777777777777778, \"#fb9f3a\"], [0.8888888888888888, \"#fdca26\"], [1.0, \"#f0f921\"]], \"type\": \"contour\"}], \"contourcarpet\": [{\"colorbar\": {\"outlinewidth\": 0, \"ticks\": \"\"}, \"type\": \"contourcarpet\"}], \"heatmap\": [{\"colorbar\": {\"outlinewidth\": 0, \"ticks\": \"\"}, \"colorscale\": [[0.0, \"#0d0887\"], [0.1111111111111111, \"#46039f\"], [0.2222222222222222, \"#7201a8\"], [0.3333333333333333, \"#9c179e\"], [0.4444444444444444, \"#bd3786\"], [0.5555555555555556, \"#d8576b\"], [0.6666666666666666, \"#ed7953\"], [0.7777777777777778, \"#fb9f3a\"], [0.8888888888888888, \"#fdca26\"], [1.0, \"#f0f921\"]], \"type\": \"heatmap\"}], \"heatmapgl\": [{\"colorbar\": {\"outlinewidth\": 0, \"ticks\": \"\"}, \"colorscale\": [[0.0, \"#0d0887\"], [0.1111111111111111, \"#46039f\"], [0.2222222222222222, \"#7201a8\"], [0.3333333333333333, \"#9c179e\"], [0.4444444444444444, \"#bd3786\"], [0.5555555555555556, \"#d8576b\"], [0.6666666666666666, \"#ed7953\"], [0.7777777777777778, \"#fb9f3a\"], [0.8888888888888888, \"#fdca26\"], [1.0, \"#f0f921\"]], \"type\": \"heatmapgl\"}], \"histogram\": [{\"marker\": {\"colorbar\": {\"outlinewidth\": 0, \"ticks\": \"\"}}, \"type\": \"histogram\"}], \"histogram2d\": [{\"colorbar\": {\"outlinewidth\": 0, \"ticks\": \"\"}, \"colorscale\": [[0.0, \"#0d0887\"], [0.1111111111111111, \"#46039f\"], [0.2222222222222222, \"#7201a8\"], [0.3333333333333333, \"#9c179e\"], [0.4444444444444444, \"#bd3786\"], [0.5555555555555556, \"#d8576b\"], [0.6666666666666666, \"#ed7953\"], [0.7777777777777778, \"#fb9f3a\"], [0.8888888888888888, \"#fdca26\"], [1.0, \"#f0f921\"]], \"type\": \"histogram2d\"}], \"histogram2dcontour\": [{\"colorbar\": {\"outlinewidth\": 0, \"ticks\": \"\"}, \"colorscale\": [[0.0, \"#0d0887\"], [0.1111111111111111, \"#46039f\"], [0.2222222222222222, \"#7201a8\"], [0.3333333333333333, \"#9c179e\"], [0.4444444444444444, \"#bd3786\"], [0.5555555555555556, \"#d8576b\"], [0.6666666666666666, \"#ed7953\"], [0.7777777777777778, \"#fb9f3a\"], [0.8888888888888888, \"#fdca26\"], [1.0, \"#f0f921\"]], \"type\": \"histogram2dcontour\"}], \"mesh3d\": [{\"colorbar\": {\"outlinewidth\": 0, \"ticks\": \"\"}, \"type\": \"mesh3d\"}], \"parcoords\": [{\"line\": {\"colorbar\": {\"outlinewidth\": 0, \"ticks\": \"\"}}, \"type\": \"parcoords\"}], \"pie\": [{\"automargin\": true, \"type\": \"pie\"}], \"scatter\": [{\"marker\": {\"colorbar\": {\"outlinewidth\": 0, \"ticks\": \"\"}}, \"type\": \"scatter\"}], \"scatter3d\": [{\"line\": {\"colorbar\": {\"outlinewidth\": 0, \"ticks\": \"\"}}, \"marker\": {\"colorbar\": {\"outlinewidth\": 0, \"ticks\": \"\"}}, \"type\": \"scatter3d\"}], \"scattercarpet\": [{\"marker\": {\"colorbar\": {\"outlinewidth\": 0, \"ticks\": \"\"}}, \"type\": \"scattercarpet\"}], \"scattergeo\": [{\"marker\": {\"colorbar\": {\"outlinewidth\": 0, \"ticks\": \"\"}}, \"type\": \"scattergeo\"}], \"scattergl\": [{\"marker\": {\"colorbar\": {\"outlinewidth\": 0, \"ticks\": \"\"}}, \"type\": \"scattergl\"}], \"scattermapbox\": [{\"marker\": {\"colorbar\": {\"outlinewidth\": 0, \"ticks\": \"\"}}, \"type\": \"scattermapbox\"}], \"scatterpolar\": [{\"marker\": {\"colorbar\": {\"outlinewidth\": 0, \"ticks\": \"\"}}, \"type\": \"scatterpolar\"}], \"scatterpolargl\": [{\"marker\": {\"colorbar\": {\"outlinewidth\": 0, \"ticks\": \"\"}}, \"type\": \"scatterpolargl\"}], \"scatterternary\": [{\"marker\": {\"colorbar\": {\"outlinewidth\": 0, \"ticks\": \"\"}}, \"type\": \"scatterternary\"}], \"surface\": [{\"colorbar\": {\"outlinewidth\": 0, \"ticks\": \"\"}, \"colorscale\": [[0.0, \"#0d0887\"], [0.1111111111111111, \"#46039f\"], [0.2222222222222222, \"#7201a8\"], [0.3333333333333333, \"#9c179e\"], [0.4444444444444444, \"#bd3786\"], [0.5555555555555556, \"#d8576b\"], [0.6666666666666666, \"#ed7953\"], [0.7777777777777778, \"#fb9f3a\"], [0.8888888888888888, \"#fdca26\"], [1.0, \"#f0f921\"]], \"type\": \"surface\"}], \"table\": [{\"cells\": {\"fill\": {\"color\": \"#EBF0F8\"}, \"line\": {\"color\": \"white\"}}, \"header\": {\"fill\": {\"color\": \"#C8D4E3\"}, \"line\": {\"color\": \"white\"}}, \"type\": \"table\"}]}, \"layout\": {\"annotationdefaults\": {\"arrowcolor\": \"#2a3f5f\", \"arrowhead\": 0, \"arrowwidth\": 1}, \"coloraxis\": {\"colorbar\": {\"outlinewidth\": 0, \"ticks\": \"\"}}, \"colorscale\": {\"diverging\": [[0, \"#8e0152\"], [0.1, \"#c51b7d\"], [0.2, \"#de77ae\"], [0.3, \"#f1b6da\"], [0.4, \"#fde0ef\"], [0.5, \"#f7f7f7\"], [0.6, \"#e6f5d0\"], [0.7, \"#b8e186\"], [0.8, \"#7fbc41\"], [0.9, \"#4d9221\"], [1, \"#276419\"]], \"sequential\": [[0.0, \"#0d0887\"], [0.1111111111111111, \"#46039f\"], [0.2222222222222222, \"#7201a8\"], [0.3333333333333333, \"#9c179e\"], [0.4444444444444444, \"#bd3786\"], [0.5555555555555556, \"#d8576b\"], [0.6666666666666666, \"#ed7953\"], [0.7777777777777778, \"#fb9f3a\"], [0.8888888888888888, \"#fdca26\"], [1.0, \"#f0f921\"]], \"sequentialminus\": [[0.0, \"#0d0887\"], [0.1111111111111111, \"#46039f\"], [0.2222222222222222, \"#7201a8\"], [0.3333333333333333, \"#9c179e\"], [0.4444444444444444, \"#bd3786\"], [0.5555555555555556, \"#d8576b\"], [0.6666666666666666, \"#ed7953\"], [0.7777777777777778, \"#fb9f3a\"], [0.8888888888888888, \"#fdca26\"], [1.0, \"#f0f921\"]]}, \"colorway\": [\"#636efa\", \"#EF553B\", \"#00cc96\", \"#ab63fa\", \"#FFA15A\", \"#19d3f3\", \"#FF6692\", \"#B6E880\", \"#FF97FF\", \"#FECB52\"], \"font\": {\"color\": \"#2a3f5f\"}, \"geo\": {\"bgcolor\": \"white\", \"lakecolor\": \"white\", \"landcolor\": \"#E5ECF6\", \"showlakes\": true, \"showland\": true, \"subunitcolor\": \"white\"}, \"hoverlabel\": {\"align\": \"left\"}, \"hovermode\": \"closest\", \"mapbox\": {\"style\": \"light\"}, \"paper_bgcolor\": \"white\", \"plot_bgcolor\": \"#E5ECF6\", \"polar\": {\"angularaxis\": {\"gridcolor\": \"white\", \"linecolor\": \"white\", \"ticks\": \"\"}, \"bgcolor\": \"#E5ECF6\", \"radialaxis\": {\"gridcolor\": \"white\", \"linecolor\": \"white\", \"ticks\": \"\"}}, \"scene\": {\"xaxis\": {\"backgroundcolor\": \"#E5ECF6\", \"gridcolor\": \"white\", \"gridwidth\": 2, \"linecolor\": \"white\", \"showbackground\": true, \"ticks\": \"\", \"zerolinecolor\": \"white\"}, \"yaxis\": {\"backgroundcolor\": \"#E5ECF6\", \"gridcolor\": \"white\", \"gridwidth\": 2, \"linecolor\": \"white\", \"showbackground\": true, \"ticks\": \"\", \"zerolinecolor\": \"white\"}, \"zaxis\": {\"backgroundcolor\": \"#E5ECF6\", \"gridcolor\": \"white\", \"gridwidth\": 2, \"linecolor\": \"white\", \"showbackground\": true, \"ticks\": \"\", \"zerolinecolor\": \"white\"}}, \"shapedefaults\": {\"line\": {\"color\": \"#2a3f5f\"}}, \"ternary\": {\"aaxis\": {\"gridcolor\": \"white\", \"linecolor\": \"white\", \"ticks\": \"\"}, \"baxis\": {\"gridcolor\": \"white\", \"linecolor\": \"white\", \"ticks\": \"\"}, \"bgcolor\": \"#E5ECF6\", \"caxis\": {\"gridcolor\": \"white\", \"linecolor\": \"white\", \"ticks\": \"\"}}, \"title\": {\"x\": 0.05}, \"xaxis\": {\"automargin\": true, \"gridcolor\": \"white\", \"linecolor\": \"white\", \"ticks\": \"\", \"title\": {\"standoff\": 15}, \"zerolinecolor\": \"white\", \"zerolinewidth\": 2}, \"yaxis\": {\"automargin\": true, \"gridcolor\": \"white\", \"linecolor\": \"white\", \"ticks\": \"\", \"title\": {\"standoff\": 15}, \"zerolinecolor\": \"white\", \"zerolinewidth\": 2}}}, \"title\": {\"text\": \"MediumMaze 02\", \"x\": 0.5, \"xanchor\": \"center\", \"y\": 0.9, \"yanchor\": \"top\"}, \"xaxis\": {\"anchor\": \"y\", \"domain\": [0.0, 0.94]}, \"yaxis\": {\"anchor\": \"x\", \"domain\": [0.0, 1.0], \"gridcolor\": \"LightBlue\", \"nticks\": 10, \"ticks\": \"inside\", \"title\": {\"text\": \"Execution Time [s]\"}}, \"yaxis2\": {\"anchor\": \"x\", \"gridcolor\": \"LightPink\", \"nticks\": 10, \"overlaying\": \"y\", \"side\": \"right\", \"ticks\": \"inside\", \"title\": {\"text\": \"Max Queue Size [#nodes]\"}}},\n",
       "                        {\"responsive\": true}\n",
       "                    ).then(function(){\n",
       "                            \n",
       "var gd = document.getElementById('e6934bef-636b-4f44-addd-483e0b23b51e');\n",
       "var x = new MutationObserver(function (mutations, observer) {{\n",
       "        var display = window.getComputedStyle(gd).display;\n",
       "        if (!display || display === 'none') {{\n",
       "            console.log([gd, 'removed!']);\n",
       "            Plotly.purge(gd);\n",
       "            observer.disconnect();\n",
       "        }}\n",
       "}});\n",
       "\n",
       "// Listen for the removal of the full notebook cells\n",
       "var notebookContainer = gd.closest('#notebook-container');\n",
       "if (notebookContainer) {{\n",
       "    x.observe(notebookContainer, {childList: true});\n",
       "}}\n",
       "\n",
       "// Listen for the clearing of the current output cell\n",
       "var outputEl = gd.closest('.output');\n",
       "if (outputEl) {{\n",
       "    x.observe(outputEl, {childList: true});\n",
       "}}\n",
       "\n",
       "                        })\n",
       "                };\n",
       "                });\n",
       "            </script>\n",
       "        </div>"
      ]
     },
     "metadata": {},
     "output_type": "display_data"
    }
   ],
   "source": [
    "from plotly.subplots import make_subplots\n",
    "import plotly.graph_objects as go\n",
    "\n",
    "# fig = go.Figure()\n",
    "fig = make_subplots(specs=[[{\"secondary_y\": True}]])\n",
    "\n",
    "fig.add_trace(go.Scatter(x=df_s.index, y=df_s['delta_t0'], error_y=dict(\n",
    "                                                                        type='data', # value of error bar given in data coordinates\n",
    "                                                                        array=df_s['std_t0'],\n",
    "                                                                        visible=True),\n",
    "                    mode='markers',\n",
    "                    name='Execution time',\n",
    "                    marker_size=15),\n",
    "             secondary_y=False)\n",
    "fig.add_trace(go.Scatter(x=df_s.index, y=df_s['delta_mem0'], error_y=dict(\n",
    "                                                                        type='data', # value of error bar given in data coordinates\n",
    "                                                                        array=df_s['std_mem0'],\n",
    "                                                                        visible=True),\n",
    "                    mode='markers',\n",
    "                    name='Queue max size',\n",
    "                    marker_symbol=\"diamond\",\n",
    "                        marker_size=10),\n",
    "              secondary_y=True)\n",
    "\n",
    "fig.update_yaxes(title_text=\"Execution Time [s]\", secondary_y=False, gridcolor='LightBlue', ticks=\"inside\", nticks=10)\n",
    "fig.update_yaxes(title_text=\"Max Queue Size [#nodes]\", secondary_y=True, gridcolor='LightPink', ticks=\"inside\", nticks=10)\n",
    "\n",
    "fig.update_layout(\n",
    "    title={\n",
    "        'text': \"MediumMaze 02\",\n",
    "        'y':0.9,\n",
    "        'x':0.5,\n",
    "        'xanchor': 'center',\n",
    "        'yanchor': 'top'})\n",
    "\n",
    "fig.show()"
   ]
  },
  {
   "cell_type": "code",
   "execution_count": 4,
   "metadata": {},
   "outputs": [
    {
     "name": "stdout",
     "output_type": "stream",
     "text": [
      "Initial position: (-1, -1)\n",
      "Goal position: (-1, -1)\n"
     ]
    }
   ],
   "source": [
    "maze_name = 'Mazes/SmallMaze01.txt'\n",
    "maze, initial_position, goal_position = enviroment.getMazeTest(maze_name, maze_arqs[maze_name][0], maze_arqs[maze_name][1])\n",
    "print(\"Initial position: \" + str(initial_position))\n",
    "print(\"Goal position: \" + str(goal_position))"
   ]
  },
  {
   "cell_type": "code",
   "execution_count": 5,
   "metadata": {},
   "outputs": [],
   "source": [
    "initial_position = (12, 1)\n",
    "goal_position = (1, 82)"
   ]
  },
  {
   "cell_type": "code",
   "execution_count": 6,
   "metadata": {},
   "outputs": [
    {
     "name": "stdout",
     "output_type": "stream",
     "text": [
      "[(28, 1), (28, 2), (28, 3), (28, 4), (28, 5), (28, 6), (28, 9), (28, 10), (28, 11), (28, 12), (28, 13), (28, 14), (28, 15), (28, 16), (28, 17), (28, 18), (28, 19), (28, 20), (28, 21), (28, 22), (28, 23), (28, 24), (28, 25), (28, 26), (28, 29), (28, 30), (28, 31), (28, 32), (28, 33), (28, 34), (28, 35), (28, 36), (28, 37), (28, 38), (28, 39), (28, 40), (28, 41), (28, 42), (28, 43), (28, 44), (28, 45), (28, 46), (28, 47), (28, 48), (28, 49), (28, 50), (28, 51), (28, 52), (28, 53), (28, 54), (28, 55), (28, 56), (28, 57), (28, 58), (28, 59), (28, 60), (28, 61), (28, 62), (28, 63), (28, 64), (28, 65), (28, 66), (28, 67), (28, 68), (28, 69), (28, 70), (28, 71), (28, 72), (28, 73), (28, 74), (28, 75), (28, 76), (28, 77), (28, 78), (28, 79), (28, 80), (28, 81), (28, 82), (27, 1), (27, 6), (27, 9), (27, 18), (27, 21), (27, 26), (27, 29), (27, 34), (27, 37), (27, 46), (27, 49), (27, 54), (27, 55), (27, 56), (27, 57), (27, 60), (27, 65), (27, 74), (27, 79), (27, 82), (26, 1), (26, 6), (26, 9), (26, 11), (26, 12), (26, 13), (26, 14), (26, 15), (26, 16), (26, 18), (26, 21), (26, 26), (26, 29), (26, 31), (26, 32), (26, 34), (26, 37), (26, 46), (26, 49), (26, 51), (26, 52), (26, 54), (26, 57), (26, 60), (26, 65), (26, 74), (26, 79), (26, 82), (25, 1), (25, 2), (25, 3), (25, 6), (25, 9), (25, 18), (25, 21), (25, 24), (25, 25), (25, 26), (25, 29), (25, 34), (25, 37), (25, 38), (25, 39), (25, 40), (25, 43), (25, 44), (25, 45), (25, 46), (25, 49), (25, 54), (25, 57), (25, 60), (25, 61), (25, 62), (25, 65), (25, 68), (25, 69), (25, 70), (25, 71), (25, 74), (25, 77), (25, 78), (25, 79), (25, 82), (24, 3), (24, 6), (24, 7), (24, 8), (24, 9), (24, 10), (24, 11), (24, 12), (24, 13), (24, 14), (24, 15), (24, 16), (24, 17), (24, 18), (24, 19), (24, 20), (24, 21), (24, 24), (24, 29), (24, 30), (24, 31), (24, 32), (24, 33), (24, 34), (24, 37), (24, 40), (24, 43), (24, 46), (24, 49), (24, 50), (24, 51), (24, 52), (24, 53), (24, 54), (24, 55), (24, 56), (24, 57), (24, 62), (24, 65), (24, 68), (24, 71), (24, 74), (24, 77), (24, 82), (23, 3), (23, 6), (23, 9), (23, 18), (23, 21), (23, 24), (23, 29), (23, 37), (23, 40), (23, 43), (23, 46), (23, 54), (23, 57), (23, 62), (23, 65), (23, 68), (23, 71), (23, 74), (23, 77), (23, 82), (22, 0), (22, 1), (22, 2), (22, 3), (22, 4), (22, 5), (22, 6), (22, 9), (22, 18), (22, 21), (22, 22), (22, 23), (22, 24), (22, 25), (22, 26), (22, 27), (22, 28), (22, 29), (22, 37), (22, 40), (22, 43), (22, 46), (22, 54), (22, 57), (22, 58), (22, 59), (22, 60), (22, 61), (22, 62), (22, 65), (22, 68), (22, 71), (22, 74), (22, 77), (22, 78), (22, 79), (22, 80), (22, 81), (22, 82), (21, 3), (21, 6), (21, 9), (21, 10), (21, 11), (21, 12), (21, 15), (21, 16), (21, 17), (21, 18), (21, 21), (21, 24), (21, 29), (21, 30), (21, 31), (21, 32), (21, 33), (21, 34), (21, 35), (21, 36), (21, 37), (21, 40), (21, 41), (21, 42), (21, 43), (21, 46), (21, 47), (21, 48), (21, 49), (21, 50), (21, 51), (21, 52), (21, 53), (21, 54), (21, 55), (21, 56), (21, 57), (21, 58), (21, 59), (21, 62), (21, 65), (21, 66), (21, 67), (21, 68), (21, 71), (21, 72), (21, 73), (21, 74), (21, 77), (21, 80), (20, 0), (20, 1), (20, 3), (20, 6), (20, 12), (20, 15), (20, 21), (20, 24), (20, 27), (20, 29), (20, 30), (20, 34), (20, 37), (20, 46), (20, 49), (20, 54), (20, 56), (20, 57), (20, 59), (20, 62), (20, 65), (20, 74), (20, 77), (20, 80), (20, 82), (20, 83), (19, 0), (19, 1), (19, 3), (19, 6), (19, 12), (19, 15), (19, 21), (19, 24), (19, 27), (19, 29), (19, 30), (19, 34), (19, 37), (19, 46), (19, 49), (19, 54), (19, 59), (19, 62), (19, 65), (19, 74), (19, 77), (19, 80), (18, 0), (18, 1), (18, 3), (18, 6), (18, 7), (18, 8), (18, 9), (18, 10), (18, 11), (18, 12), (18, 13), (18, 14), (18, 15), (18, 16), (18, 17), (18, 18), (18, 19), (18, 20), (18, 21), (18, 24), (18, 26), (18, 27), (18, 29), (18, 32), (18, 33), (18, 34), (18, 37), (18, 38), (18, 39), (18, 40), (18, 41), (18, 42), (18, 43), (18, 44), (18, 45), (18, 46), (18, 49), (18, 50), (18, 51), (18, 54), (18, 57), (18, 58), (18, 59), (18, 62), (18, 63), (18, 64), (18, 65), (18, 66), (18, 67), (18, 68), (18, 69), (18, 70), (18, 71), (18, 72), (18, 73), (18, 74), (18, 75), (18, 76), (18, 77), (18, 80), (18, 81), (18, 82), (17, 0), (17, 1), (17, 3), (17, 9), (17, 13), (17, 14), (17, 18), (17, 24), (17, 26), (17, 27), (17, 29), (17, 32), (17, 37), (17, 41), (17, 42), (17, 46), (17, 51), (17, 54), (17, 57), (17, 65), (17, 69), (17, 70), (17, 74), (17, 82), (16, 3), (16, 9), (16, 11), (16, 12), (16, 13), (16, 14), (16, 15), (16, 16), (16, 18), (16, 24), (16, 29), (16, 32), (16, 37), (16, 39), (16, 40), (16, 41), (16, 42), (16, 43), (16, 44), (16, 46), (16, 51), (16, 54), (16, 57), (16, 65), (16, 67), (16, 68), (16, 69), (16, 70), (16, 71), (16, 72), (16, 80), (16, 82), (16, 83), (15, 1), (15, 2), (15, 3), (15, 4), (15, 5), (15, 6), (15, 7), (15, 8), (15, 9), (15, 11), (15, 12), (15, 13), (15, 14), (15, 15), (15, 16), (15, 18), (15, 19), (15, 20), (15, 21), (15, 22), (15, 23), (15, 24), (15, 25), (15, 26), (15, 27), (15, 28), (15, 29), (15, 30), (15, 31), (15, 32), (15, 33), (15, 34), (15, 35), (15, 36), (15, 37), (15, 39), (15, 40), (15, 41), (15, 42), (15, 43), (15, 44), (15, 46), (15, 47), (15, 48), (15, 49), (15, 50), (15, 51), (15, 52), (15, 53), (15, 54), (15, 55), (15, 56), (15, 57), (15, 58), (15, 59), (15, 62), (15, 63), (15, 64), (15, 65), (15, 67), (15, 68), (15, 69), (15, 70), (15, 71), (15, 72), (15, 74), (15, 75), (15, 76), (15, 77), (15, 80), (15, 81), (15, 82), (14, 1), (14, 6), (14, 9), (14, 11), (14, 12), (14, 13), (14, 14), (14, 15), (14, 16), (14, 18), (14, 21), (14, 26), (14, 29), (14, 34), (14, 37), (14, 39), (14, 40), (14, 41), (14, 42), (14, 43), (14, 44), (14, 46), (14, 49), (14, 54), (14, 59), (14, 62), (14, 65), (14, 67), (14, 68), (14, 69), (14, 70), (14, 71), (14, 72), (14, 74), (14, 77), (14, 80), (13, 1), (13, 6), (13, 9), (13, 18), (13, 21), (13, 26), (13, 29), (13, 34), (13, 37), (13, 46), (13, 49), (13, 54), (13, 59), (13, 62), (13, 65), (13, 74), (13, 77), (13, 80), (12, 1), (12, 2), (12, 3), (12, 4), (12, 5), (12, 6), (12, 9), (12, 10), (12, 11), (12, 12), (12, 13), (12, 14), (12, 15), (12, 16), (12, 17), (12, 18), (12, 21), (12, 22), (12, 23), (12, 24), (12, 25), (12, 26), (12, 29), (12, 30), (12, 31), (12, 34), (12, 37), (12, 38), (12, 39), (12, 40), (12, 41), (12, 42), (12, 43), (12, 44), (12, 45), (12, 46), (12, 49), (12, 52), (12, 53), (12, 54), (12, 56), (12, 57), (12, 58), (12, 59), (12, 60), (12, 61), (12, 62), (12, 65), (12, 66), (12, 67), (12, 68), (12, 69), (12, 70), (12, 71), (12, 72), (12, 73), (12, 74), (12, 77), (12, 78), (12, 79), (12, 80), (12, 81), (12, 82), (12, 83), (11, 3), (11, 12), (11, 15), (11, 24), (11, 25), (11, 26), (11, 27), (11, 28), (11, 29), (11, 31), (11, 34), (11, 40), (11, 43), (11, 49), (11, 52), (11, 59), (11, 62), (11, 68), (11, 71), (11, 77), (11, 80), (10, 3), (10, 12), (10, 15), (10, 24), (10, 31), (10, 34), (10, 40), (10, 43), (10, 49), (10, 52), (10, 55), (10, 56), (10, 57), (10, 59), (10, 62), (10, 68), (10, 71), (10, 77), (10, 80), (9, 1), (9, 2), (9, 3), (9, 4), (9, 5), (9, 6), (9, 9), (9, 10), (9, 11), (9, 12), (9, 15), (9, 16), (9, 17), (9, 18), (9, 21), (9, 22), (9, 23), (9, 24), (9, 25), (9, 26), (9, 28), (9, 29), (9, 30), (9, 31), (9, 32), (9, 33), (9, 34), (9, 35), (9, 36), (9, 37), (9, 38), (9, 39), (9, 40), (9, 43), (9, 44), (9, 45), (9, 46), (9, 47), (9, 48), (9, 49), (9, 50), (9, 51), (9, 52), (9, 53), (9, 54), (9, 55), (9, 57), (9, 58), (9, 59), (9, 62), (9, 63), (9, 64), (9, 65), (9, 66), (9, 67), (9, 68), (9, 71), (9, 72), (9, 73), (9, 74), (9, 75), (9, 76), (9, 77), (9, 80), (9, 81), (9, 82), (8, 1), (8, 6), (8, 9), (8, 18), (8, 21), (8, 26), (8, 31), (8, 37), (8, 46), (8, 52), (8, 57), (8, 62), (8, 65), (8, 74), (8, 77), (8, 82), (7, 1), (7, 6), (7, 9), (7, 18), (7, 21), (7, 26), (7, 28), (7, 29), (7, 31), (7, 37), (7, 46), (7, 52), (7, 54), (7, 55), (7, 57), (7, 62), (7, 65), (7, 74), (7, 77), (7, 82), (6, 1), (6, 4), (6, 5), (6, 6), (6, 7), (6, 8), (6, 9), (6, 10), (6, 11), (6, 12), (6, 13), (6, 14), (6, 15), (6, 16), (6, 17), (6, 18), (6, 19), (6, 20), (6, 21), (6, 22), (6, 23), (6, 26), (6, 28), (6, 29), (6, 30), (6, 31), (6, 32), (6, 33), (6, 34), (6, 37), (6, 38), (6, 39), (6, 40), (6, 41), (6, 42), (6, 43), (6, 44), (6, 45), (6, 46), (6, 49), (6, 50), (6, 51), (6, 52), (6, 54), (6, 55), (6, 56), (6, 57), (6, 58), (6, 59), (6, 60), (6, 61), (6, 62), (6, 65), (6, 66), (6, 67), (6, 68), (6, 69), (6, 70), (6, 71), (6, 72), (6, 73), (6, 74), (6, 77), (6, 78), (6, 79), (6, 80), (6, 81), (6, 82), (5, 1), (5, 4), (5, 9), (5, 18), (5, 23), (5, 26), (5, 27), (5, 28), (5, 29), (5, 30), (5, 31), (5, 34), (5, 37), (5, 46), (5, 49), (5, 52), (5, 54), (5, 55), (5, 57), (5, 60), (5, 65), (5, 74), (5, 79), (5, 82), (4, 1), (4, 4), (4, 9), (4, 18), (4, 23), (4, 26), (4, 31), (4, 34), (4, 37), (4, 46), (4, 49), (4, 52), (4, 55), (4, 57), (4, 60), (4, 65), (4, 74), (4, 79), (4, 82), (3, 1), (3, 2), (3, 3), (3, 4), (3, 5), (3, 6), (3, 9), (3, 12), (3, 13), (3, 14), (3, 15), (3, 18), (3, 21), (3, 22), (3, 23), (3, 24), (3, 25), (3, 26), (3, 27), (3, 29), (3, 30), (3, 31), (3, 34), (3, 35), (3, 36), (3, 37), (3, 38), (3, 39), (3, 40), (3, 41), (3, 42), (3, 43), (3, 44), (3, 45), (3, 46), (3, 47), (3, 48), (3, 49), (3, 52), (3, 53), (3, 54), (3, 55), (3, 57), (3, 60), (3, 61), (3, 62), (3, 65), (3, 68), (3, 69), (3, 70), (3, 71), (3, 74), (3, 77), (3, 78), (3, 79), (3, 82), (2, 1), (2, 6), (2, 9), (2, 12), (2, 15), (2, 18), (2, 21), (2, 26), (2, 29), (2, 34), (2, 40), (2, 43), (2, 49), (2, 54), (2, 57), (2, 62), (2, 65), (2, 68), (2, 71), (2, 74), (2, 77), (2, 82), (1, 1), (1, 2), (1, 3), (1, 4), (1, 5), (1, 6), (1, 7), (1, 8), (1, 9), (1, 10), (1, 11), (1, 12), (1, 13), (1, 14), (1, 15), (1, 16), (1, 17), (1, 18), (1, 19), (1, 20), (1, 21), (1, 22), (1, 23), (1, 24), (1, 25), (1, 26), (1, 27), (1, 28), (1, 29), (1, 30), (1, 31), (1, 32), (1, 33), (1, 34), (1, 35), (1, 36), (1, 37), (1, 38), (1, 39), (1, 40), (1, 41), (1, 42), (1, 43), (1, 44), (1, 45), (1, 46), (1, 47), (1, 48), (1, 49), (1, 50), (1, 51), (1, 52), (1, 53), (1, 56), (1, 57), (1, 58), (1, 59), (1, 60), (1, 61), (1, 62), (1, 63), (1, 64), (1, 65), (1, 66), (1, 67), (1, 68), (1, 69), (1, 70), (1, 71), (1, 72), (1, 73), (1, 74), (1, 75), (1, 76), (1, 77), (1, 78), (1, 79), (1, 80), (1, 81), (1, 82)]\n",
      "(26, 1)\n",
      "popping: <src.enviroment2.Position object at 0x00000240F5B73F98> (26, 1)\n",
      "(26, 26)\n",
      "popping: <src.enviroment2.Position object at 0x00000240F5B71240> (26, 26)\n",
      "(26, 29)\n",
      "popping: <src.enviroment2.Position object at 0x00000240F5B71278> (26, 29)\n",
      "(26, 54)\n",
      "popping: <src.enviroment2.Position object at 0x00000240F5B714A8> (26, 54)\n",
      "(26, 82)\n",
      "popping: <src.enviroment2.Position object at 0x00000240F5B715C0> (26, 82)\n",
      "(25, 57)\n",
      "popping: <src.enviroment2.Position object at 0x00000240F5B71AC8> (25, 57)\n",
      "(24, 82)\n",
      "popping: <src.enviroment2.Position object at 0x00000240F5B76780> (24, 82)\n",
      "(2, 26)\n",
      "popping: <src.enviroment2.Position object at 0x00000240F5BB3588> (2, 26)\n",
      "(2, 29)\n",
      "popping: <src.enviroment2.Position object at 0x00000240F5BB35C0> (2, 29)\n"
     ]
    }
   ],
   "source": [
    "enviroment.set_ghost(\"Mazes/SmallMaze01_ghosts.yml\", maze)"
   ]
  },
  {
   "cell_type": "code",
   "execution_count": 7,
   "metadata": {},
   "outputs": [],
   "source": [
    "tam_plot = 30\n",
    "mazeName_plot = maze_name[6:maze_name.index('.')]"
   ]
  },
  {
   "cell_type": "code",
   "execution_count": 8,
   "metadata": {},
   "outputs": [],
   "source": [
    "def get_solution_info(node, expanded_nodes, food_nodes):\n",
    "    print(\"Number of expanded nodes:\")\n",
    "    print(expanded_nodes)\n",
    "    print(\"Number of expanded food nodes:\")\n",
    "    print(food_nodes)\n",
    "    food_nodes_path = 0\n",
    "    for n in node.path():\n",
    "        food_nodes_path += problem.check_food(n.state)\n",
    "    print(\"Number of nodes in the path:\")\n",
    "    print(len(node.path()))\n",
    "    print(\"Number of food nodes in the path:\")\n",
    "    print(food_nodes_path)\n",
    "    \n",
    "    print(\"------------------------------------------------\")\n",
    "    \n",
    "    print(node.solution())\n",
    "    print(\"Path:\")\n",
    "    print(node.path())"
   ]
  },
  {
   "cell_type": "code",
   "execution_count": 9,
   "metadata": {},
   "outputs": [],
   "source": [
    "def make_grid_plot(maze, initial_position, goal_position, maze_name):\n",
    "    grid, food_x, food_y = maze.get_int_grid(initial_position, goal_position)\n",
    "\n",
    "    fig, ax = plt.subplots(figsize=(tam_plot, tam_plot))\n",
    "    cmap = colors.ListedColormap(['yellow', 'red', 'darkblue','gray','black'])\n",
    "\n",
    "    im = ax.imshow(grid, cmap=cmap)\n",
    "    ax = plt.gca()\n",
    "\n",
    "    ax.set_xticks(np.arange(len(grid[0])))\n",
    "    ax.set_yticks(np.arange(len(grid)))\n",
    "    ax.set_xticklabels(np.arange(0, len(grid[0]), 1))\n",
    "    ax.set_yticklabels(np.arange(0, len(grid), 1))\n",
    "\n",
    "    ax.set_xticks(np.arange(-.5, len(grid[0])-1, 1), minor=True);\n",
    "    ax.set_yticks(np.arange(-.5, len(grid)-1, 1), minor=True);\n",
    "    ax.grid(which='minor', color='black', linestyle='-', linewidth=2)\n",
    "\n",
    "    ax.scatter(food_y, food_x, color = 'white', zorder=10)\n",
    "\n",
    "    plt.savefig(\"Figure/\"+maze_name+str(initial_position)+str(goal_position)+'.png', dpi=300, bbox_inches='tight')\n",
    "    plt.show()"
   ]
  },
  {
   "cell_type": "code",
   "execution_count": 10,
   "metadata": {},
   "outputs": [],
   "source": [
    "def make_shockwave_grid_plot(maze, initial_position, goal_position, mazeName_plot):\n",
    "    grid, food_x, food_y = maze.get_int_grid(initial_position, goal_position)\n",
    "\n",
    "    fig, ax = plt.subplots(figsize=(tam_plot, tam_plot))\n",
    "    cmap = 'hot'\n",
    "\n",
    "    im = ax.imshow(maze.shockwave_grid, cmap=cmap)\n",
    "    ax = plt.gca()\n",
    "\n",
    "    ax.set_xticks(np.arange(len(grid[0])))\n",
    "    ax.set_yticks(np.arange(len(grid)))\n",
    "    ax.set_xticklabels(np.arange(0, len(grid[0]), 1))\n",
    "    ax.set_yticklabels(np.arange(0, len(grid), 1))\n",
    "\n",
    "    ax.set_xticks(np.arange(-.5, len(grid[0])-1, 1), minor=True);\n",
    "    ax.set_yticks(np.arange(-.5, len(grid)-1, 1), minor=True);\n",
    "    ax.grid(which='minor', color='black', linestyle='-', linewidth=2)\n",
    "\n",
    "    plt.savefig(\"Figure/\"+mazeName_plot+str(initial_position)+str(goal_position)+ 'SW.png', dpi=300, bbox_inches='tight')\n",
    "    plt.show()"
   ]
  },
  {
   "cell_type": "code",
   "execution_count": 11,
   "metadata": {},
   "outputs": [],
   "source": [
    "def make_path_plot(maze, initial_position, goal_position, node, maze_name, alg):    \n",
    "    fig, ax = plt.subplots(figsize=(tam_plot, tam_plot))\n",
    "    cmap = colors.ListedColormap(['yellow', 'red', 'purple', 'black'])\n",
    "\n",
    "    grid, food_x, food_y = maze.get_final_grid(initial_position, goal_position, [n.state for n in node.path()])\n",
    "\n",
    "    im = ax.imshow(grid, cmap=cmap)\n",
    "    ax = plt.gca()\n",
    "\n",
    "    ax.set_xticks(np.arange(len(grid[0])))\n",
    "    ax.set_yticks(np.arange(len(grid)))\n",
    "    ax.set_xticklabels(np.arange(0, len(grid[0]), 1))\n",
    "    ax.set_yticklabels(np.arange(0, len(grid), 1))\n",
    "\n",
    "    ax.set_xticks(np.arange(-.5, len(grid[0])-1, 1), minor=True);\n",
    "    ax.set_yticks(np.arange(-.5, len(grid)-1, 1), minor=True);\n",
    "    ax.grid(which='minor', color='black', linestyle='-', linewidth=2)\n",
    "\n",
    "    ax.scatter(food_y, food_x, color = 'white', zorder=10)\n",
    "    \n",
    "    plt.savefig(\"Figure/\"+alg+\"Path_\"+maze_name+str(initial_position)+str(goal_position)+'.png', dpi=300, bbox_inches='tight')\n",
    "    plt.show()\n",
    "    "
   ]
  },
  {
   "cell_type": "code",
   "execution_count": 20,
   "metadata": {},
   "outputs": [
    {
     "data": {
      "image/png": "[encoded data removed]",
      "text/plain": [
       "<Figure size 2160x2160 with 1 Axes>"
      ]
     },
     "metadata": {
      "needs_background": "light"
     },
     "output_type": "display_data"
    }
   ],
   "source": [
    "make_grid_plot(maze, initial_position, goal_position, mazeName_plot)"
   ]
  },
  {
   "cell_type": "code",
   "execution_count": null,
   "metadata": {},
   "outputs": [],
   "source": []
  }
 ],
 "metadata": {
  "kernelspec": {
   "display_name": "Python 3.6.6 64-bit",
   "language": "python",
   "name": "python36664bitf19c0b2f8a9745a38e1053a58ecdf09b"
  },
  "language_info": {
   "codemirror_mode": {
    "name": "ipython",
    "version": 3
   },
   "file_extension": ".py",
   "mimetype": "text/x-python",
   "name": "python",
   "nbconvert_exporter": "python",
   "pygments_lexer": "ipython3",
   "version": "3.6.6"
  }
 },
 "nbformat": 4,
 "nbformat_minor": 4
}
