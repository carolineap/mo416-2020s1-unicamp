{
 "cells": [
  {
   "cell_type": "code",
   "execution_count": null,
   "metadata": {},
   "outputs": [],
   "source": [
    "import sys\n",
    "sys.path.append(\"../\")\n",
    "sys.path.append(\"../lib/\")\n",
    "\n",
    "sys.path"
   ]
  },
  {
   "cell_type": "code",
   "execution_count": null,
   "metadata": {},
   "outputs": [],
   "source": [
    "import src.enviroment as enviroment\n",
    "import src.pacman_problem as pacman\n",
    "import numpy as np\n",
    "import matplotlib.pyplot as plt\n",
    "from matplotlib import colors\n",
    "\n",
    "#from ghost_avoidance_heuristic import GhostAvoidanceHeuristic\n",
    "# Needed to hide warnings in the matplotlib sections\n",
    "import warnings\n",
    "import numpy as np\n",
    "import time\n",
    "warnings.filterwarnings(\"ignore\")"
   ]
  },
  {
   "cell_type": "code",
   "execution_count": null,
   "metadata": {},
   "outputs": [],
   "source": [
    "maze_arqs = {'Mazes/TinyMaze01.txt':[30,28],\n",
    "             'Mazes/SmallMaze01.txt':[30,84],\n",
    "             'Mazes/SmallMaze02.txt':[30,56],\n",
    "             'Mazes/MediumMaze01.txt':[60,56],\n",
    "             'Mazes/MediumMaze02.txt':[60,112],\n",
    "             'Mazes/BigMaze01.txt':[60,140],\n",
    "             'Mazes/BigMaze02.txt':[90,140],\n",
    "             'maze-test.txt':[28,28]}"
   ]
  },
  {
   "cell_type": "code",
   "execution_count": null,
   "metadata": {},
   "outputs": [],
   "source": [
    "maze_name = 'Mazes/BigMaze02.txt'\n",
    "maze, initial_position, goal_position = enviroment.getMazeTest(maze_name, maze_arqs[maze_name][0], maze_arqs[maze_name][1])\n",
    "print(\"Initial position: \" + str(initial_position))\n",
    "print(\"Goal position: \" + str(goal_position))"
   ]
  },
  {
   "cell_type": "code",
   "execution_count": null,
   "metadata": {},
   "outputs": [],
   "source": [
    "tam_plot = 30\n",
    "mazeName_plot = maze_name[6:maze_name.index('.')]"
   ]
  },
  {
   "cell_type": "code",
   "execution_count": null,
   "metadata": {},
   "outputs": [],
   "source": [
    "if maze_name == 'Mazes/BigMaze02.txt':\n",
    "    initial_position = (1, 15)\n",
    "    goal_position = (59, 125)"
   ]
  },
  {
   "cell_type": "code",
   "execution_count": null,
   "metadata": {},
   "outputs": [],
   "source": [
    "def get_solution_info(node, expanded_nodes, food_nodes):\n",
    "    print(\"Number of expanded nodes:\")\n",
    "    print(expanded_nodes)\n",
    "    print(\"Number of expanded food nodes:\")\n",
    "    print(food_nodes)\n",
    "    food_nodes_path = 0\n",
    "    for n in node.path():\n",
    "        food_nodes_path += problem.check_food(n.state)\n",
    "    print(\"Number of nodes in the path:\")\n",
    "    print(len(node.path()))\n",
    "    print(\"Number of food nodes in the path:\")\n",
    "    print(food_nodes_path)\n",
    "    \n",
    "    print(\"------------------------------------------------\")\n",
    "    \n",
    "    print(node.solution())\n",
    "    print(\"Path:\")\n",
    "    print(node.path())"
   ]
  },
  {
   "cell_type": "code",
   "execution_count": null,
   "metadata": {},
   "outputs": [],
   "source": [
    "def make_grid_plot(maze, initial_position, goal_position, maze_name):\n",
    "    grid, food_x, food_y = maze.get_int_grid(initial_position, goal_position)\n",
    "\n",
    "    fig, ax = plt.subplots(figsize=(tam_plot, tam_plot))\n",
    "    cmap = colors.ListedColormap(['yellow', 'red', 'darkblue','gray','black'])\n",
    "\n",
    "    im = ax.imshow(grid, cmap=cmap)\n",
    "    ax = plt.gca()\n",
    "\n",
    "    ax.set_xticks(np.arange(len(grid[0])))\n",
    "    ax.set_yticks(np.arange(len(grid)))\n",
    "    ax.set_xticklabels(np.arange(0, len(grid[0]), 1))\n",
    "    ax.set_yticklabels(np.arange(0, len(grid), 1))\n",
    "\n",
    "    ax.set_xticks(np.arange(-.5, len(grid[0])-1, 1), minor=True);\n",
    "    ax.set_yticks(np.arange(-.5, len(grid)-1, 1), minor=True);\n",
    "    ax.grid(which='minor', color='black', linestyle='-', linewidth=2)\n",
    "\n",
    "    ax.scatter(food_y, food_x, color = 'white', zorder=10)\n",
    "\n",
    "    plt.savefig(\"Figure/\"+maze_name+str(initial_position)+str(goal_position)+'.png', dpi=300, bbox_inches='tight')\n",
    "    plt.show()"
   ]
  },
  {
   "cell_type": "code",
   "execution_count": null,
   "metadata": {},
   "outputs": [],
   "source": [
    "def make_shockwave_grid_plot(maze, initial_position, goal_position, mazeName_plot):\n",
    "    grid, food_x, food_y = maze.get_int_grid(initial_position, goal_position)\n",
    "\n",
    "    fig, ax = plt.subplots(figsize=(tam_plot, tam_plot))\n",
    "    cmap = 'hot'\n",
    "\n",
    "    im = ax.imshow(maze.shockwave_grid, cmap=cmap)\n",
    "    ax = plt.gca()\n",
    "\n",
    "    ax.set_xticks(np.arange(len(grid[0])))\n",
    "    ax.set_yticks(np.arange(len(grid)))\n",
    "    ax.set_xticklabels(np.arange(0, len(grid[0]), 1))\n",
    "    ax.set_yticklabels(np.arange(0, len(grid), 1))\n",
    "\n",
    "    ax.set_xticks(np.arange(-.5, len(grid[0])-1, 1), minor=True);\n",
    "    ax.set_yticks(np.arange(-.5, len(grid)-1, 1), minor=True);\n",
    "    ax.grid(which='minor', color='black', linestyle='-', linewidth=2)\n",
    "\n",
    "    plt.savefig(\"Figure/\"+mazeName_plot+str(initial_position)+str(goal_position)+ 'SW.png', dpi=300, bbox_inches='tight')\n",
    "    plt.show()"
   ]
  },
  {
   "cell_type": "code",
   "execution_count": null,
   "metadata": {},
   "outputs": [],
   "source": [
    "def make_path_plot(maze, initial_position, goal_position, node, maze_name, alg):    \n",
    "    fig, ax = plt.subplots(figsize=(tam_plot, tam_plot))\n",
    "    cmap = colors.ListedColormap(['yellow', 'red', 'purple', 'black'])\n",
    "\n",
    "    grid, food_x, food_y = maze.get_final_grid(initial_position, goal_position, [n.state for n in node.path()])\n",
    "\n",
    "    im = ax.imshow(grid, cmap=cmap)\n",
    "    ax = plt.gca()\n",
    "\n",
    "    ax.set_xticks(np.arange(len(grid[0])))\n",
    "    ax.set_yticks(np.arange(len(grid)))\n",
    "    ax.set_xticklabels(np.arange(0, len(grid[0]), 1))\n",
    "    ax.set_yticklabels(np.arange(0, len(grid), 1))\n",
    "\n",
    "    ax.set_xticks(np.arange(-.5, len(grid[0])-1, 1), minor=True);\n",
    "    ax.set_yticks(np.arange(-.5, len(grid)-1, 1), minor=True);\n",
    "    ax.grid(which='minor', color='black', linestyle='-', linewidth=2)\n",
    "\n",
    "    ax.scatter(food_y, food_x, color = 'white', zorder=10)\n",
    "    \n",
    "    plt.savefig(\"Figure/\"+alg+\"Path_\"+maze_name+str(initial_position)+str(goal_position)+'.png', dpi=300, bbox_inches='tight')\n",
    "    plt.show()\n",
    "    "
   ]
  },
  {
   "cell_type": "code",
   "execution_count": null,
   "metadata": {},
   "outputs": [],
   "source": [
    "make_grid_plot(maze, initial_position, goal_position, mazeName_plot)"
   ]
  },
  {
   "cell_type": "code",
   "execution_count": null,
   "metadata": {},
   "outputs": [],
   "source": [
    "problem = pacman.PacmanProblem(maze, initial_position, goal_position)"
   ]
  },
  {
   "cell_type": "markdown",
   "metadata": {},
   "source": [
    "# Breadth First Search - BFS"
   ]
  },
  {
   "cell_type": "code",
   "execution_count": null,
   "metadata": {},
   "outputs": [],
   "source": [
    "ini = time.time()\n",
    "solution_node, expanded_nodes, food_nodes, tam = pacman.breadth_first_graph_search(problem)\n",
    "fim = time.time()\n",
    "print (\"Tempo execução: \", fim-ini)\n",
    "print(\"Number of nodes created: \", tam)\n",
    "get_solution_info(solution_node, expanded_nodes, food_nodes)\n",
    "make_path_plot(maze, initial_position, goal_position, solution_node, mazeName_plot, \"BFS\")"
   ]
  },
  {
   "cell_type": "markdown",
   "metadata": {},
   "source": [
    "# Depth First Search - DFS"
   ]
  },
  {
   "cell_type": "code",
   "execution_count": null,
   "metadata": {},
   "outputs": [],
   "source": [
    "ini = time.time()\n",
    "solution_node, expanded_nodes, food_nodes, tam = pacman.depth_first_graph_search(problem)\n",
    "fim = time.time()\n",
    "print (\"Tempo execução: \", fim-ini)\n",
    "print(\"Number of nodes created: \", tam)\n",
    "get_solution_info(solution_node, expanded_nodes, food_nodes)\n",
    "make_path_plot(maze, initial_position, goal_position, solution_node, mazeName_plot, \"DFS\")"
   ]
  },
  {
   "cell_type": "markdown",
   "metadata": {},
   "source": [
    "# Greedy Search - Manhattan Distance"
   ]
  },
  {
   "cell_type": "code",
   "execution_count": null,
   "metadata": {},
   "outputs": [],
   "source": [
    "ini = time.time()\n",
    "solution_node, expanded_nodes, food_nodes, tam = pacman.greedy_best_first_search(problem)\n",
    "fim = time.time()\n",
    "print (\"Tempo execução: \", fim-ini)\n",
    "print(\"Number of nodes created: \", tam)\n",
    "get_solution_info(solution_node, expanded_nodes, food_nodes)\n",
    "make_path_plot(maze, initial_position, goal_position, solution_node, mazeName_plot, \"GS-MD\")"
   ]
  },
  {
   "cell_type": "markdown",
   "metadata": {},
   "source": [
    "# A* Search - Manhattan Distance"
   ]
  },
  {
   "cell_type": "code",
   "execution_count": null,
   "metadata": {},
   "outputs": [],
   "source": [
    "ini = time.time()\n",
    "solution_node, expanded_nodes, food_nodes, tam = pacman.a_star_best_first_search(problem)\n",
    "fim = time.time()\n",
    "print (\"Tempo execução: \", fim-ini)\n",
    "print(\"Number of nodes created: \", tam)\n",
    "get_solution_info(solution_node, expanded_nodes, food_nodes)\n",
    "make_path_plot(maze, initial_position, goal_position, solution_node, mazeName_plot, \"AS-MD\")"
   ]
  },
  {
   "cell_type": "markdown",
   "metadata": {},
   "source": [
    "# Greedy Search - Ghost Avoidance Heuristic with Euclidean Distance"
   ]
  },
  {
   "cell_type": "code",
   "execution_count": null,
   "metadata": {},
   "outputs": [],
   "source": [
    "problem_ghost = pacman.PacmanProblem(maze, initial_position, goal_position, ghost_proximity_cost=1000)"
   ]
  },
  {
   "cell_type": "code",
   "execution_count": null,
   "metadata": {},
   "outputs": [],
   "source": [
    "ini = time.time()\n",
    "solution_node, expanded_nodes, food_nodes, tam = pacman.greedy_best_first_search(problem_ghost, problem_ghost.h_ghost_avoidance_euclidean)\n",
    "fim = time.time()\n",
    "print (\"Tempo execução: \", fim-ini)\n",
    "print(\"Number of nodes created: \", tam)\n",
    "get_solution_info(solution_node, expanded_nodes, food_nodes)\n",
    "make_path_plot(maze, initial_position, goal_position, solution_node, mazeName_plot, \"GS-GAHED\")"
   ]
  },
  {
   "cell_type": "markdown",
   "metadata": {},
   "source": [
    "# A* Search - Ghost Avoidance Heuristic with Euclidean Distance"
   ]
  },
  {
   "cell_type": "code",
   "execution_count": null,
   "metadata": {},
   "outputs": [],
   "source": [
    "problem_ghost = pacman.PacmanProblem(maze, initial_position, goal_position, ghost_proximity_cost=1000)"
   ]
  },
  {
   "cell_type": "code",
   "execution_count": null,
   "metadata": {
    "scrolled": false
   },
   "outputs": [],
   "source": [
    "ini = time.time()\n",
    "solution_node, expanded_nodes, food_nodes, tam = pacman.a_star_best_first_search(problem_ghost, problem_ghost.h_ghost_avoidance_euclidean)\n",
    "fim = time.time()\n",
    "print (\"Tempo execução: \", fim-ini)\n",
    "print(\"Number of nodes created: \", tam)\n",
    "get_solution_info(solution_node, expanded_nodes, food_nodes)\n",
    "make_path_plot(maze, initial_position, goal_position, solution_node, mazeName_plot, \"AS-GAHED\")"
   ]
  },
  {
   "cell_type": "markdown",
   "metadata": {},
   "source": [
    "# A* Search - Shockwave Heuristic"
   ]
  },
  {
   "cell_type": "code",
   "execution_count": null,
   "metadata": {},
   "outputs": [],
   "source": [
    "maze, _, _ = enviroment.getMazeTest(maze_name, maze_arqs[maze_name][0], maze_arqs[maze_name][1], enviroment.ShockWaveMaze)\n",
    "problem = pacman.PacmanProblem(maze, initial_position, goal_position)"
   ]
  },
  {
   "cell_type": "markdown",
   "metadata": {},
   "source": [
    "### The lighter, the further from the goal"
   ]
  },
  {
   "cell_type": "code",
   "execution_count": null,
   "metadata": {},
   "outputs": [],
   "source": [
    "maze.set_shockwave(goal_position)"
   ]
  },
  {
   "cell_type": "code",
   "execution_count": null,
   "metadata": {},
   "outputs": [],
   "source": [
    "make_shockwave_grid_plot(maze, initial_position, goal_position, mazeName_plot)"
   ]
  },
  {
   "cell_type": "code",
   "execution_count": null,
   "metadata": {
    "scrolled": true
   },
   "outputs": [],
   "source": [
    "ini = time.time()\n",
    "solution_node, expanded_nodes, food_nodes, tam = pacman.a_star_best_first_search(problem, problem.h_shockwave)\n",
    "fim = time.time()\n",
    "print (\"Tempo execução: \", fim-ini)\n",
    "print(\"Number of nodes created: \", tam)\n",
    "get_solution_info(solution_node, expanded_nodes, food_nodes)\n",
    "make_path_plot(maze, initial_position, goal_position, solution_node, mazeName_plot, \"AS-SH\")"
   ]
  },
  {
   "cell_type": "markdown",
   "metadata": {},
   "source": [
    "# Greedy Search - Shockwave Heuristic"
   ]
  },
  {
   "cell_type": "code",
   "execution_count": null,
   "metadata": {},
   "outputs": [],
   "source": [
    "ini = time.time()\n",
    "solution_node, expanded_nodes, food_nodes, tam = pacman.greedy_best_first_search(problem, problem.h_shockwave)\n",
    "fim = time.time()\n",
    "print (\"Tempo execução: \", fim-ini)\n",
    "print(\"Number of nodes created: \", tam)\n",
    "get_solution_info(solution_node, expanded_nodes, food_nodes)\n",
    "make_path_plot(maze, initial_position, goal_position, solution_node, mazeName_plot, \"AS-SH\")"
   ]
  }
 ],
 "metadata": {
  "kernelspec": {
   "display_name": "Python 3",
   "language": "python",
   "name": "python3"
  },
  "language_info": {
   "codemirror_mode": {
    "name": "ipython",
    "version": 3
   },
   "file_extension": ".py",
   "mimetype": "text/x-python",
   "name": "python",
   "nbconvert_exporter": "python",
   "pygments_lexer": "ipython3",
   "version": "3.6.9"
  }
 },
 "nbformat": 4,
 "nbformat_minor": 4
}
