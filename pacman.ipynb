{
 "cells": [
  {
   "cell_type": "code",
   "execution_count": 1,
   "metadata": {},
   "outputs": [],
   "source": [
    "import enviroment\n",
    "import pacman\n",
    "import matplotlib.pyplot as plt\n",
    "\n",
    "# Needed to hide warnings in the matplotlib sections\n",
    "import warnings\n",
    "warnings.filterwarnings(\"ignore\")"
   ]
  },
  {
   "cell_type": "code",
   "execution_count": 2,
   "metadata": {},
   "outputs": [
    {
     "name": "stdout",
     "output_type": "stream",
     "text": [
      "Initial position: (5, 1)\n",
      "Goal position: (23, 22)\n"
     ]
    }
   ],
   "source": [
    "maze, initial_position, goal_position = enviroment.getMazeTest()\n",
    "print(\"Initial position: \" + str(initial_position))\n",
    "print(\"Goal position: \" + str(goal_position))"
   ]
  },
  {
   "cell_type": "code",
   "execution_count": 3,
   "metadata": {},
   "outputs": [
    {
     "data": {
      "image/png": "[encoded data removed]",
      "text/plain": [
       "<Figure size 576x576 with 1 Axes>"
      ]
     },
     "metadata": {},
     "output_type": "display_data"
    }
   ],
   "source": [
    "plt.figure(figsize=(8, 8))\n",
    "plt.xticks([]) \n",
    "plt.yticks([]) \n",
    "plt.gca().invert_yaxis()\n",
    "plt.pcolormesh(maze.get_int_grid(initial_position, goal_position), cmap=\"Set1\")\n",
    "plt.show()"
   ]
  },
  {
   "cell_type": "code",
   "execution_count": 4,
   "metadata": {},
   "outputs": [],
   "source": [
    "problem = pacman.Problem(maze, initial_position, goal_position)"
   ]
  },
  {
   "cell_type": "markdown",
   "metadata": {},
   "source": [
    "# Breadth First Search - BFS"
   ]
  },
  {
   "cell_type": "code",
   "execution_count": 5,
   "metadata": {},
   "outputs": [
    {
     "name": "stdout",
     "output_type": "stream",
     "text": [
      "Number of expanded nodes:\n",
      "280\n",
      "Number of expanded food nodes:\n",
      "203\n",
      "[<Actions.UP: (1, 0)>, <Actions.UP: (1, 0)>, <Actions.RIGHT: (0, 1)>, <Actions.RIGHT: (0, 1)>, <Actions.RIGHT: (0, 1)>, <Actions.RIGHT: (0, 1)>, <Actions.RIGHT: (0, 1)>, <Actions.UP: (1, 0)>, <Actions.UP: (1, 0)>, <Actions.UP: (1, 0)>, <Actions.UP: (1, 0)>, <Actions.UP: (1, 0)>, <Actions.UP: (1, 0)>, <Actions.UP: (1, 0)>, <Actions.UP: (1, 0)>, <Actions.UP: (1, 0)>, <Actions.UP: (1, 0)>, <Actions.UP: (1, 0)>, <Actions.UP: (1, 0)>, <Actions.UP: (1, 0)>, <Actions.UP: (1, 0)>, <Actions.UP: (1, 0)>, <Actions.UP: (1, 0)>, <Actions.RIGHT: (0, 1)>, <Actions.RIGHT: (0, 1)>, <Actions.RIGHT: (0, 1)>, <Actions.RIGHT: (0, 1)>, <Actions.RIGHT: (0, 1)>, <Actions.RIGHT: (0, 1)>, <Actions.RIGHT: (0, 1)>, <Actions.RIGHT: (0, 1)>, <Actions.RIGHT: (0, 1)>, <Actions.RIGHT: (0, 1)>, <Actions.RIGHT: (0, 1)>, <Actions.RIGHT: (0, 1)>, <Actions.RIGHT: (0, 1)>, <Actions.RIGHT: (0, 1)>, <Actions.RIGHT: (0, 1)>, <Actions.RIGHT: (0, 1)>]\n",
      "Path:\n",
      "[<Node (5, 1)>, <Node (6, 1)>, <Node (7, 1)>, <Node (7, 2)>, <Node (7, 3)>, <Node (7, 4)>, <Node (7, 5)>, <Node (7, 6)>, <Node (8, 6)>, <Node (9, 6)>, <Node (10, 6)>, <Node (11, 6)>, <Node (12, 6)>, <Node (13, 6)>, <Node (14, 6)>, <Node (15, 6)>, <Node (16, 6)>, <Node (17, 6)>, <Node (18, 6)>, <Node (19, 6)>, <Node (20, 6)>, <Node (21, 6)>, <Node (22, 6)>, <Node (23, 6)>, <Node (23, 7)>, <Node (23, 8)>, <Node (23, 9)>, <Node (23, 10)>, <Node (23, 11)>, <Node (23, 12)>, <Node (23, 13)>, <Node (23, 14)>, <Node (23, 15)>, <Node (23, 16)>, <Node (23, 17)>, <Node (23, 18)>, <Node (23, 19)>, <Node (23, 20)>, <Node (23, 21)>, <Node (23, 22)>]\n"
     ]
    }
   ],
   "source": [
    "node, expanded_nodes, food_nodes = pacman.breadth_first_graph_search(problem)\n",
    "print(\"Number of expanded nodes:\")\n",
    "print(expanded_nodes)\n",
    "print(\"Number of expanded food nodes:\")\n",
    "print(food_nodes)\n",
    "print(node.solution())\n",
    "print(\"Path:\")\n",
    "print(node.path())"
   ]
  },
  {
   "cell_type": "code",
   "execution_count": 6,
   "metadata": {},
   "outputs": [
    {
     "data": {
      "image/png": "[encoded data removed]",
      "text/plain": [
       "<Figure size 576x576 with 1 Axes>"
      ]
     },
     "metadata": {},
     "output_type": "display_data"
    }
   ],
   "source": [
    "plt.figure(figsize=(8, 8))\n",
    "plt.xticks([]) \n",
    "plt.yticks([]) \n",
    "plt.gca().invert_yaxis()\n",
    "plt.pcolormesh(maze.get_final_grid(initial_position, goal_position, [n.state for n in node.path()]), cmap=\"Set1\")\n",
    "plt.show()"
   ]
  },
  {
   "cell_type": "markdown",
   "metadata": {},
   "source": [
    "# Depth First Search - DFS"
   ]
  },
  {
   "cell_type": "code",
   "execution_count": 7,
   "metadata": {
    "scrolled": true
   },
   "outputs": [
    {
     "name": "stdout",
     "output_type": "stream",
     "text": [
      "Number of expanded nodes:\n",
      "146\n",
      "Number of expanded food nodes:\n",
      "127\n",
      "[<Actions.DOWN: (-1, 0)>, <Actions.DOWN: (-1, 0)>, <Actions.DOWN: (-1, 0)>, <Actions.DOWN: (-1, 0)>, <Actions.RIGHT: (0, 1)>, <Actions.RIGHT: (0, 1)>, <Actions.RIGHT: (0, 1)>, <Actions.RIGHT: (0, 1)>, <Actions.RIGHT: (0, 1)>, <Actions.RIGHT: (0, 1)>, <Actions.RIGHT: (0, 1)>, <Actions.RIGHT: (0, 1)>, <Actions.RIGHT: (0, 1)>, <Actions.RIGHT: (0, 1)>, <Actions.RIGHT: (0, 1)>, <Actions.UP: (1, 0)>, <Actions.UP: (1, 0)>, <Actions.UP: (1, 0)>, <Actions.UP: (1, 0)>, <Actions.RIGHT: (0, 1)>, <Actions.RIGHT: (0, 1)>, <Actions.RIGHT: (0, 1)>, <Actions.DOWN: (-1, 0)>, <Actions.DOWN: (-1, 0)>, <Actions.DOWN: (-1, 0)>, <Actions.DOWN: (-1, 0)>, <Actions.RIGHT: (0, 1)>, <Actions.RIGHT: (0, 1)>, <Actions.RIGHT: (0, 1)>, <Actions.RIGHT: (0, 1)>, <Actions.RIGHT: (0, 1)>, <Actions.RIGHT: (0, 1)>, <Actions.UP: (1, 0)>, <Actions.UP: (1, 0)>, <Actions.UP: (1, 0)>, <Actions.LEFT: (0, -1)>, <Actions.LEFT: (0, -1)>, <Actions.LEFT: (0, -1)>, <Actions.UP: (1, 0)>, <Actions.UP: (1, 0)>, <Actions.UP: (1, 0)>, <Actions.UP: (1, 0)>, <Actions.UP: (1, 0)>, <Actions.UP: (1, 0)>, <Actions.UP: (1, 0)>, <Actions.LEFT: (0, -1)>, <Actions.LEFT: (0, -1)>, <Actions.LEFT: (0, -1)>, <Actions.LEFT: (0, -1)>, <Actions.LEFT: (0, -1)>, <Actions.LEFT: (0, -1)>, <Actions.LEFT: (0, -1)>, <Actions.LEFT: (0, -1)>, <Actions.LEFT: (0, -1)>, <Actions.LEFT: (0, -1)>, <Actions.LEFT: (0, -1)>, <Actions.LEFT: (0, -1)>, <Actions.UP: (1, 0)>, <Actions.UP: (1, 0)>, <Actions.UP: (1, 0)>, <Actions.LEFT: (0, -1)>, <Actions.LEFT: (0, -1)>, <Actions.LEFT: (0, -1)>, <Actions.LEFT: (0, -1)>, <Actions.LEFT: (0, -1)>, <Actions.UP: (1, 0)>, <Actions.UP: (1, 0)>, <Actions.UP: (1, 0)>, <Actions.RIGHT: (0, 1)>, <Actions.RIGHT: (0, 1)>, <Actions.UP: (1, 0)>, <Actions.UP: (1, 0)>, <Actions.UP: (1, 0)>, <Actions.LEFT: (0, -1)>, <Actions.LEFT: (0, -1)>, <Actions.UP: (1, 0)>, <Actions.UP: (1, 0)>, <Actions.UP: (1, 0)>, <Actions.UP: (1, 0)>, <Actions.UP: (1, 0)>, <Actions.UP: (1, 0)>, <Actions.RIGHT: (0, 1)>, <Actions.RIGHT: (0, 1)>, <Actions.RIGHT: (0, 1)>, <Actions.DOWN: (-1, 0)>, <Actions.DOWN: (-1, 0)>, <Actions.DOWN: (-1, 0)>, <Actions.RIGHT: (0, 1)>, <Actions.RIGHT: (0, 1)>, <Actions.RIGHT: (0, 1)>, <Actions.RIGHT: (0, 1)>, <Actions.RIGHT: (0, 1)>, <Actions.RIGHT: (0, 1)>, <Actions.RIGHT: (0, 1)>, <Actions.RIGHT: (0, 1)>, <Actions.RIGHT: (0, 1)>, <Actions.RIGHT: (0, 1)>, <Actions.RIGHT: (0, 1)>, <Actions.RIGHT: (0, 1)>, <Actions.RIGHT: (0, 1)>, <Actions.RIGHT: (0, 1)>, <Actions.RIGHT: (0, 1)>, <Actions.RIGHT: (0, 1)>, <Actions.RIGHT: (0, 1)>, <Actions.RIGHT: (0, 1)>]\n",
      "Path:\n",
      "[<Node (5, 1)>, <Node (4, 1)>, <Node (3, 1)>, <Node (2, 1)>, <Node (1, 1)>, <Node (1, 2)>, <Node (1, 3)>, <Node (1, 4)>, <Node (1, 5)>, <Node (1, 6)>, <Node (1, 7)>, <Node (1, 8)>, <Node (1, 9)>, <Node (1, 10)>, <Node (1, 11)>, <Node (1, 12)>, <Node (2, 12)>, <Node (3, 12)>, <Node (4, 12)>, <Node (5, 12)>, <Node (5, 13)>, <Node (5, 14)>, <Node (5, 15)>, <Node (4, 15)>, <Node (3, 15)>, <Node (2, 15)>, <Node (1, 15)>, <Node (1, 16)>, <Node (1, 17)>, <Node (1, 18)>, <Node (1, 19)>, <Node (1, 20)>, <Node (1, 21)>, <Node (2, 21)>, <Node (3, 21)>, <Node (4, 21)>, <Node (4, 20)>, <Node (4, 19)>, <Node (4, 18)>, <Node (5, 18)>, <Node (6, 18)>, <Node (7, 18)>, <Node (8, 18)>, <Node (9, 18)>, <Node (10, 18)>, <Node (11, 18)>, <Node (11, 17)>, <Node (11, 16)>, <Node (11, 15)>, <Node (11, 14)>, <Node (11, 13)>, <Node (11, 12)>, <Node (11, 11)>, <Node (11, 10)>, <Node (11, 9)>, <Node (11, 8)>, <Node (11, 7)>, <Node (11, 6)>, <Node (12, 6)>, <Node (13, 6)>, <Node (14, 6)>, <Node (14, 5)>, <Node (14, 4)>, <Node (14, 3)>, <Node (14, 2)>, <Node (14, 1)>, <Node (15, 1)>, <Node (16, 1)>, <Node (17, 1)>, <Node (17, 2)>, <Node (17, 3)>, <Node (18, 3)>, <Node (19, 3)>, <Node (20, 3)>, <Node (20, 2)>, <Node (20, 1)>, <Node (21, 1)>, <Node (22, 1)>, <Node (23, 1)>, <Node (24, 1)>, <Node (25, 1)>, <Node (26, 1)>, <Node (26, 2)>, <Node (26, 3)>, <Node (26, 4)>, <Node (25, 4)>, <Node (24, 4)>, <Node (23, 4)>, <Node (23, 5)>, <Node (23, 6)>, <Node (23, 7)>, <Node (23, 8)>, <Node (23, 9)>, <Node (23, 10)>, <Node (23, 11)>, <Node (23, 12)>, <Node (23, 13)>, <Node (23, 14)>, <Node (23, 15)>, <Node (23, 16)>, <Node (23, 17)>, <Node (23, 18)>, <Node (23, 19)>, <Node (23, 20)>, <Node (23, 21)>, <Node (23, 22)>]\n"
     ]
    }
   ],
   "source": [
    "node, expanded_nodes, food_nodes = pacman.depth_first_graph_search(problem)\n",
    "print(\"Number of expanded nodes:\")\n",
    "print(expanded_nodes)\n",
    "print(\"Number of expanded food nodes:\")\n",
    "print(food_nodes)\n",
    "print(node.solution())\n",
    "print(\"Path:\")\n",
    "print(node.path())"
   ]
  },
  {
   "cell_type": "code",
   "execution_count": 8,
   "metadata": {},
   "outputs": [
    {
     "data": {
      "image/png": "[encoded data removed]",
      "text/plain": [
       "<Figure size 576x576 with 1 Axes>"
      ]
     },
     "metadata": {},
     "output_type": "display_data"
    }
   ],
   "source": [
    "plt.figure(figsize=(8, 8))\n",
    "plt.xticks([]) \n",
    "plt.yticks([]) \n",
    "plt.gca().invert_yaxis()\n",
    "plt.pcolormesh(maze.get_final_grid(initial_position, goal_position, [n.state for n in node.path()]), cmap=\"Set1\")\n",
    "plt.show()"
   ]
  },
  {
   "cell_type": "markdown",
   "metadata": {},
   "source": [
    "# Greedy Search - Manhattan Distance"
   ]
  },
  {
   "cell_type": "code",
   "execution_count": 9,
   "metadata": {},
   "outputs": [
    {
     "name": "stdout",
     "output_type": "stream",
     "text": [
      "Number of expanded nodes:\n",
      "109\n",
      "Number of expanded food nodes:\n",
      "56\n",
      "[<Actions.DOWN: (-1, 0)>, <Actions.DOWN: (-1, 0)>, <Actions.DOWN: (-1, 0)>, <Actions.DOWN: (-1, 0)>, <Actions.RIGHT: (0, 1)>, <Actions.RIGHT: (0, 1)>, <Actions.RIGHT: (0, 1)>, <Actions.RIGHT: (0, 1)>, <Actions.RIGHT: (0, 1)>, <Actions.UP: (1, 0)>, <Actions.UP: (1, 0)>, <Actions.UP: (1, 0)>, <Actions.RIGHT: (0, 1)>, <Actions.RIGHT: (0, 1)>, <Actions.RIGHT: (0, 1)>, <Actions.UP: (1, 0)>, <Actions.UP: (1, 0)>, <Actions.UP: (1, 0)>, <Actions.UP: (1, 0)>, <Actions.UP: (1, 0)>, <Actions.UP: (1, 0)>, <Actions.UP: (1, 0)>, <Actions.RIGHT: (0, 1)>, <Actions.RIGHT: (0, 1)>, <Actions.RIGHT: (0, 1)>, <Actions.RIGHT: (0, 1)>, <Actions.RIGHT: (0, 1)>, <Actions.RIGHT: (0, 1)>, <Actions.RIGHT: (0, 1)>, <Actions.RIGHT: (0, 1)>, <Actions.RIGHT: (0, 1)>, <Actions.UP: (1, 0)>, <Actions.UP: (1, 0)>, <Actions.UP: (1, 0)>, <Actions.UP: (1, 0)>, <Actions.UP: (1, 0)>, <Actions.UP: (1, 0)>, <Actions.LEFT: (0, -1)>, <Actions.LEFT: (0, -1)>, <Actions.LEFT: (0, -1)>, <Actions.UP: (1, 0)>, <Actions.UP: (1, 0)>, <Actions.UP: (1, 0)>, <Actions.RIGHT: (0, 1)>, <Actions.RIGHT: (0, 1)>, <Actions.RIGHT: (0, 1)>, <Actions.UP: (1, 0)>, <Actions.UP: (1, 0)>, <Actions.UP: (1, 0)>, <Actions.RIGHT: (0, 1)>, <Actions.RIGHT: (0, 1)>, <Actions.RIGHT: (0, 1)>, <Actions.RIGHT: (0, 1)>]\n",
      "Path:\n",
      "[<Node (5, 1)>, <Node (4, 1)>, <Node (3, 1)>, <Node (2, 1)>, <Node (1, 1)>, <Node (1, 2)>, <Node (1, 3)>, <Node (1, 4)>, <Node (1, 5)>, <Node (1, 6)>, <Node (2, 6)>, <Node (3, 6)>, <Node (4, 6)>, <Node (4, 7)>, <Node (4, 8)>, <Node (4, 9)>, <Node (5, 9)>, <Node (6, 9)>, <Node (7, 9)>, <Node (8, 9)>, <Node (9, 9)>, <Node (10, 9)>, <Node (11, 9)>, <Node (11, 10)>, <Node (11, 11)>, <Node (11, 12)>, <Node (11, 13)>, <Node (11, 14)>, <Node (11, 15)>, <Node (11, 16)>, <Node (11, 17)>, <Node (11, 18)>, <Node (12, 18)>, <Node (13, 18)>, <Node (14, 18)>, <Node (15, 18)>, <Node (16, 18)>, <Node (17, 18)>, <Node (17, 17)>, <Node (17, 16)>, <Node (17, 15)>, <Node (18, 15)>, <Node (19, 15)>, <Node (20, 15)>, <Node (20, 16)>, <Node (20, 17)>, <Node (20, 18)>, <Node (21, 18)>, <Node (22, 18)>, <Node (23, 18)>, <Node (23, 19)>, <Node (23, 20)>, <Node (23, 21)>, <Node (23, 22)>]\n"
     ]
    }
   ],
   "source": [
    "node, expanded_nodes, food_nodes = pacman.greedy_best_first_search(problem)\n",
    "print(\"Number of expanded nodes:\")\n",
    "print(expanded_nodes)\n",
    "print(\"Number of expanded food nodes:\")\n",
    "print(food_nodes)\n",
    "print(node.solution())\n",
    "print(\"Path:\")\n",
    "print(node.path())"
   ]
  },
  {
   "cell_type": "code",
   "execution_count": 10,
   "metadata": {},
   "outputs": [
    {
     "data": {
      "image/png": "[encoded data removed]",
      "text/plain": [
       "<Figure size 576x576 with 1 Axes>"
      ]
     },
     "metadata": {},
     "output_type": "display_data"
    }
   ],
   "source": [
    "plt.figure(figsize=(8, 8))\n",
    "plt.xticks([]) \n",
    "plt.yticks([]) \n",
    "plt.gca().invert_yaxis()\n",
    "plt.pcolormesh(maze.get_final_grid(initial_position, goal_position, [n.state for n in node.path()]), cmap=\"Set1\")\n",
    "plt.show()"
   ]
  },
  {
   "cell_type": "code",
   "execution_count": null,
   "metadata": {},
   "outputs": [],
   "source": []
  }
 ],
 "metadata": {
  "kernelspec": {
   "display_name": "Python 3",
   "language": "python",
   "name": "python3"
  },
  "language_info": {
   "codemirror_mode": {
    "name": "ipython",
    "version": 3
   },
   "file_extension": ".py",
   "mimetype": "text/x-python",
   "name": "python",
   "nbconvert_exporter": "python",
   "pygments_lexer": "ipython3",
   "version": "3.5.2"
  }
 },
 "nbformat": 4,
 "nbformat_minor": 4
}
