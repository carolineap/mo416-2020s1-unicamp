{
 "cells": [
  {
   "cell_type": "code",
   "execution_count": 12,
   "metadata": {},
   "outputs": [],
   "source": [
    "import enviroment\n",
    "import pacman\n",
    "import matplotlib.pyplot as plt\n",
    "\n",
    "# Needed to hide warnings in the matplotlib sections\n",
    "import warnings\n",
    "warnings.filterwarnings(\"ignore\")"
   ]
  },
  {
   "cell_type": "code",
   "execution_count": 13,
   "metadata": {},
   "outputs": [],
   "source": [
    "maze_arqs = {'Mazes/TinyMaze01.txt':[30,28],\n",
    "             'Mazes/SmallMaze01.txt':[30,84],\n",
    "             'Mazes/SmallMaze02.txt':[30,56],\n",
    "             'Mazes/MediumMaze01.txt':[60,56],\n",
    "             'Mazes/MediumMaze02.txt':[60,112],\n",
    "             'Mazes/BigMaze01.txt':[60,140],\n",
    "             'Mazes/BigMaze02.txt':[90,140],\n",
    "             'maze-test.txt':[28,28]}"
   ]
  },
  {
   "cell_type": "code",
   "execution_count": 14,
   "metadata": {},
   "outputs": [
    {
     "ename": "IndexError",
     "evalue": "string index out of range",
     "output_type": "error",
     "traceback": [
      "\u001b[0;31m---------------------------------------------------------------------------\u001b[0m",
      "\u001b[0;31mIndexError\u001b[0m                                Traceback (most recent call last)",
      "\u001b[0;32m<ipython-input-14-7ee82fff937e>\u001b[0m in \u001b[0;36m<module>\u001b[0;34m()\u001b[0m\n\u001b[1;32m      1\u001b[0m \u001b[0mmaze_name\u001b[0m \u001b[0;34m=\u001b[0m \u001b[0;34m'Mazes/MediumMaze01.txt'\u001b[0m\u001b[0;34m\u001b[0m\u001b[0m\n\u001b[0;32m----> 2\u001b[0;31m \u001b[0mmaze\u001b[0m\u001b[0;34m,\u001b[0m \u001b[0minitial_position\u001b[0m\u001b[0;34m,\u001b[0m \u001b[0mgoal_position\u001b[0m \u001b[0;34m=\u001b[0m \u001b[0menviroment\u001b[0m\u001b[0;34m.\u001b[0m\u001b[0mgetMazeTest\u001b[0m\u001b[0;34m(\u001b[0m\u001b[0mmaze_name\u001b[0m\u001b[0;34m,\u001b[0m \u001b[0mmaze_arqs\u001b[0m\u001b[0;34m[\u001b[0m\u001b[0mmaze_name\u001b[0m\u001b[0;34m]\u001b[0m\u001b[0;34m[\u001b[0m\u001b[0;36m0\u001b[0m\u001b[0;34m]\u001b[0m\u001b[0;34m,\u001b[0m \u001b[0mmaze_arqs\u001b[0m\u001b[0;34m[\u001b[0m\u001b[0mmaze_name\u001b[0m\u001b[0;34m]\u001b[0m\u001b[0;34m[\u001b[0m\u001b[0;36m1\u001b[0m\u001b[0;34m]\u001b[0m\u001b[0;34m)\u001b[0m\u001b[0;34m\u001b[0m\u001b[0m\n\u001b[0m\u001b[1;32m      3\u001b[0m \u001b[0mprint\u001b[0m\u001b[0;34m(\u001b[0m\u001b[0;34m\"Initial position: \"\u001b[0m \u001b[0;34m+\u001b[0m \u001b[0mstr\u001b[0m\u001b[0;34m(\u001b[0m\u001b[0minitial_position\u001b[0m\u001b[0;34m)\u001b[0m\u001b[0;34m)\u001b[0m\u001b[0;34m\u001b[0m\u001b[0m\n\u001b[1;32m      4\u001b[0m \u001b[0mprint\u001b[0m\u001b[0;34m(\u001b[0m\u001b[0;34m\"Goal position: \"\u001b[0m \u001b[0;34m+\u001b[0m \u001b[0mstr\u001b[0m\u001b[0;34m(\u001b[0m\u001b[0mgoal_position\u001b[0m\u001b[0;34m)\u001b[0m\u001b[0;34m)\u001b[0m\u001b[0;34m\u001b[0m\u001b[0m\n",
      "\u001b[0;32m~/Development/MO416/T1/mo416-2020s1-unicamp/enviroment.py\u001b[0m in \u001b[0;36mgetMazeTest\u001b[0;34m(maze_arq, num_rows, num_cols)\u001b[0m\n\u001b[1;32m     96\u001b[0m \u001b[0;32mdef\u001b[0m \u001b[0mgetMazeTest\u001b[0m\u001b[0;34m(\u001b[0m\u001b[0mmaze_arq\u001b[0m\u001b[0;34m,\u001b[0m \u001b[0mnum_rows\u001b[0m\u001b[0;34m,\u001b[0m \u001b[0mnum_cols\u001b[0m\u001b[0;34m)\u001b[0m\u001b[0;34m:\u001b[0m\u001b[0;34m\u001b[0m\u001b[0m\n\u001b[1;32m     97\u001b[0m         \u001b[0mmaze_file\u001b[0m \u001b[0;34m=\u001b[0m \u001b[0mopen\u001b[0m\u001b[0;34m(\u001b[0m\u001b[0mmaze_arq\u001b[0m\u001b[0;34m,\u001b[0m\u001b[0;34m\"r\"\u001b[0m\u001b[0;34m)\u001b[0m\u001b[0;34m.\u001b[0m\u001b[0mread\u001b[0m\u001b[0;34m(\u001b[0m\u001b[0;34m)\u001b[0m\u001b[0;34m\u001b[0m\u001b[0m\n\u001b[0;32m---> 98\u001b[0;31m         \u001b[0;32mreturn\u001b[0m \u001b[0mread_maze\u001b[0m\u001b[0;34m(\u001b[0m\u001b[0mmaze_file\u001b[0m\u001b[0;34m,\u001b[0m \u001b[0mnum_rows\u001b[0m\u001b[0;34m,\u001b[0m \u001b[0mnum_cols\u001b[0m\u001b[0;34m)\u001b[0m\u001b[0;34m\u001b[0m\u001b[0m\n\u001b[0m\u001b[1;32m     99\u001b[0m         \u001b[0;31m#read_maze(maze_file, num_rows = 30, num_cols = 28)\u001b[0m\u001b[0;34m\u001b[0m\u001b[0;34m\u001b[0m\u001b[0m\n\u001b[1;32m    100\u001b[0m \u001b[0;31m#getMazeTest()\u001b[0m\u001b[0;34m\u001b[0m\u001b[0;34m\u001b[0m\u001b[0m\n",
      "\u001b[0;32m~/Development/MO416/T1/mo416-2020s1-unicamp/enviroment.py\u001b[0m in \u001b[0;36mread_maze\u001b[0;34m(maze_file, num_rows, num_cols)\u001b[0m\n\u001b[1;32m     75\u001b[0m         \u001b[0;32mfor\u001b[0m \u001b[0mi\u001b[0m \u001b[0;32min\u001b[0m \u001b[0mrange\u001b[0m\u001b[0;34m(\u001b[0m\u001b[0;36m0\u001b[0m\u001b[0;34m,\u001b[0m \u001b[0mmaze\u001b[0m\u001b[0;34m.\u001b[0m\u001b[0mnum_rows\u001b[0m\u001b[0;34m)\u001b[0m\u001b[0;34m:\u001b[0m\u001b[0;34m\u001b[0m\u001b[0m\n\u001b[1;32m     76\u001b[0m                 \u001b[0;32mfor\u001b[0m \u001b[0mj\u001b[0m \u001b[0;32min\u001b[0m \u001b[0mrange\u001b[0m\u001b[0;34m(\u001b[0m\u001b[0;36m0\u001b[0m\u001b[0;34m,\u001b[0m \u001b[0mmaze\u001b[0m\u001b[0;34m.\u001b[0m\u001b[0mnum_cols\u001b[0m\u001b[0;34m)\u001b[0m\u001b[0;34m:\u001b[0m\u001b[0;34m\u001b[0m\u001b[0m\n\u001b[0;32m---> 77\u001b[0;31m                         \u001b[0mpos\u001b[0m \u001b[0;34m=\u001b[0m \u001b[0mmaze_file\u001b[0m\u001b[0;34m[\u001b[0m\u001b[0mk\u001b[0m\u001b[0;34m]\u001b[0m\u001b[0;34m\u001b[0m\u001b[0m\n\u001b[0m\u001b[1;32m     78\u001b[0m                         \u001b[0mposition\u001b[0m \u001b[0;34m=\u001b[0m \u001b[0mPosition\u001b[0m\u001b[0;34m(\u001b[0m\u001b[0;34m(\u001b[0m\u001b[0mi\u001b[0m\u001b[0;34m,\u001b[0m \u001b[0mj\u001b[0m\u001b[0;34m)\u001b[0m\u001b[0;34m)\u001b[0m\u001b[0;34m\u001b[0m\u001b[0m\n\u001b[1;32m     79\u001b[0m \u001b[0;34m\u001b[0m\u001b[0m\n",
      "\u001b[0;31mIndexError\u001b[0m: string index out of range"
     ]
    }
   ],
   "source": [
    "maze_name = 'Mazes/TinyMaze01.txt'\n",
    "maze, initial_position, goal_position = enviroment.getMazeTest(maze_name, maze_arqs[maze_name][0], maze_arqs[maze_name][1])\n",
    "print(\"Initial position: \" + str(initial_position))\n",
    "print(\"Goal position: \" + str(goal_position))"
   ]
  },
  {
   "cell_type": "code",
   "execution_count": 4,
   "metadata": {},
   "outputs": [
    {
     "data": {
      "image/png": "[encoded data removed]",
      "text/plain": [
       "<Figure size 576x576 with 1 Axes>"
      ]
     },
     "metadata": {},
     "output_type": "display_data"
    }
   ],
   "source": [
    "plt.figure(figsize=(8, 8))\n",
    "plt.xticks([]) \n",
    "plt.yticks([]) \n",
    "plt.gca().invert_yaxis()\n",
    "plt.pcolormesh(maze.get_int_grid(initial_position, goal_position), cmap=\"Set1\")\n",
    "plt.show()"
   ]
  },
  {
   "cell_type": "code",
   "execution_count": 5,
   "metadata": {},
   "outputs": [],
   "source": [
    "problem = pacman.Problem(maze, initial_position, goal_position)"
   ]
  },
  {
   "cell_type": "markdown",
   "metadata": {},
   "source": [
    "# Breadth First Search - BFS"
   ]
  },
  {
   "cell_type": "code",
   "execution_count": 6,
   "metadata": {},
   "outputs": [
    {
     "name": "stdout",
     "output_type": "stream",
     "text": [
      "Number of expanded nodes:\n",
      "288\n",
      "Number of expanded food nodes:\n",
      "210\n",
      "[<Actions.RIGHT: (0, 1)>, <Actions.RIGHT: (0, 1)>, <Actions.RIGHT: (0, 1)>, <Actions.DOWN: (-1, 0)>, <Actions.DOWN: (-1, 0)>, <Actions.DOWN: (-1, 0)>, <Actions.RIGHT: (0, 1)>, <Actions.RIGHT: (0, 1)>, <Actions.RIGHT: (0, 1)>, <Actions.DOWN: (-1, 0)>, <Actions.DOWN: (-1, 0)>, <Actions.DOWN: (-1, 0)>, <Actions.RIGHT: (0, 1)>, <Actions.RIGHT: (0, 1)>, <Actions.DOWN: (-1, 0)>, <Actions.DOWN: (-1, 0)>, <Actions.DOWN: (-1, 0)>, <Actions.RIGHT: (0, 1)>, <Actions.RIGHT: (0, 1)>, <Actions.RIGHT: (0, 1)>, <Actions.RIGHT: (0, 1)>, <Actions.RIGHT: (0, 1)>, <Actions.RIGHT: (0, 1)>, <Actions.DOWN: (-1, 0)>, <Actions.DOWN: (-1, 0)>, <Actions.DOWN: (-1, 0)>, <Actions.DOWN: (-1, 0)>, <Actions.DOWN: (-1, 0)>, <Actions.DOWN: (-1, 0)>, <Actions.RIGHT: (0, 1)>, <Actions.RIGHT: (0, 1)>, <Actions.RIGHT: (0, 1)>, <Actions.DOWN: (-1, 0)>, <Actions.DOWN: (-1, 0)>, <Actions.DOWN: (-1, 0)>, <Actions.DOWN: (-1, 0)>, <Actions.DOWN: (-1, 0)>, <Actions.DOWN: (-1, 0)>]\n",
      "Path:\n",
      "[<Node (26, 4)>, <Node (26, 5)>, <Node (26, 6)>, <Node (26, 7)>, <Node (25, 7)>, <Node (24, 7)>, <Node (23, 7)>, <Node (23, 8)>, <Node (23, 9)>, <Node (23, 10)>, <Node (22, 10)>, <Node (21, 10)>, <Node (20, 10)>, <Node (20, 11)>, <Node (20, 12)>, <Node (19, 12)>, <Node (18, 12)>, <Node (17, 12)>, <Node (17, 13)>, <Node (17, 14)>, <Node (17, 15)>, <Node (17, 16)>, <Node (17, 17)>, <Node (17, 18)>, <Node (16, 18)>, <Node (15, 18)>, <Node (14, 18)>, <Node (13, 18)>, <Node (12, 18)>, <Node (11, 18)>, <Node (11, 19)>, <Node (11, 20)>, <Node (11, 21)>, <Node (10, 21)>, <Node (9, 21)>, <Node (8, 21)>, <Node (7, 21)>, <Node (6, 21)>, <Node (5, 21)>]\n"
     ]
    }
   ],
   "source": [
    "node, expanded_nodes, food_nodes = pacman.breadth_first_graph_search(problem)\n",
    "print(\"Number of expanded nodes:\")\n",
    "print(expanded_nodes)\n",
    "print(\"Number of expanded food nodes:\")\n",
    "print(food_nodes)\n",
    "print(node.solution())\n",
    "print(\"Path:\")\n",
    "print(node.path())"
   ]
  },
  {
   "cell_type": "code",
   "execution_count": 7,
   "metadata": {},
   "outputs": [
    {
     "data": {
      "image/png": "[encoded data removed]",
      "text/plain": [
       "<Figure size 576x576 with 1 Axes>"
      ]
     },
     "metadata": {},
     "output_type": "display_data"
    }
   ],
   "source": [
    "plt.figure(figsize=(8, 8))\n",
    "plt.xticks([]) \n",
    "plt.yticks([]) \n",
    "plt.gca().invert_yaxis()\n",
    "plt.pcolormesh(maze.get_final_grid(initial_position, goal_position, [n.state for n in node.path()]), cmap=\"Set1\")\n",
    "plt.show()"
   ]
  },
  {
   "cell_type": "markdown",
   "metadata": {},
   "source": [
    "# Depth First Search - DFS"
   ]
  },
  {
   "cell_type": "code",
   "execution_count": 8,
   "metadata": {
    "scrolled": true
   },
   "outputs": [
    {
     "name": "stdout",
     "output_type": "stream",
     "text": [
      "Number of expanded nodes:\n",
      "202\n",
      "Number of expanded food nodes:\n",
      "147\n",
      "[<Actions.RIGHT: (0, 1)>, <Actions.RIGHT: (0, 1)>, <Actions.RIGHT: (0, 1)>, <Actions.DOWN: (-1, 0)>, <Actions.DOWN: (-1, 0)>, <Actions.DOWN: (-1, 0)>, <Actions.RIGHT: (0, 1)>, <Actions.RIGHT: (0, 1)>, <Actions.RIGHT: (0, 1)>, <Actions.RIGHT: (0, 1)>, <Actions.RIGHT: (0, 1)>, <Actions.RIGHT: (0, 1)>, <Actions.RIGHT: (0, 1)>, <Actions.RIGHT: (0, 1)>, <Actions.RIGHT: (0, 1)>, <Actions.RIGHT: (0, 1)>, <Actions.RIGHT: (0, 1)>, <Actions.RIGHT: (0, 1)>, <Actions.RIGHT: (0, 1)>, <Actions.UP: (1, 0)>, <Actions.UP: (1, 0)>, <Actions.UP: (1, 0)>, <Actions.RIGHT: (0, 1)>, <Actions.RIGHT: (0, 1)>, <Actions.RIGHT: (0, 1)>, <Actions.DOWN: (-1, 0)>, <Actions.DOWN: (-1, 0)>, <Actions.DOWN: (-1, 0)>, <Actions.RIGHT: (0, 1)>, <Actions.RIGHT: (0, 1)>, <Actions.RIGHT: (0, 1)>, <Actions.DOWN: (-1, 0)>, <Actions.DOWN: (-1, 0)>, <Actions.DOWN: (-1, 0)>, <Actions.LEFT: (0, -1)>, <Actions.LEFT: (0, -1)>, <Actions.LEFT: (0, -1)>, <Actions.LEFT: (0, -1)>, <Actions.LEFT: (0, -1)>, <Actions.LEFT: (0, -1)>, <Actions.LEFT: (0, -1)>, <Actions.LEFT: (0, -1)>, <Actions.LEFT: (0, -1)>, <Actions.LEFT: (0, -1)>, <Actions.LEFT: (0, -1)>, <Actions.DOWN: (-1, 0)>, <Actions.DOWN: (-1, 0)>, <Actions.DOWN: (-1, 0)>, <Actions.LEFT: (0, -1)>, <Actions.LEFT: (0, -1)>, <Actions.LEFT: (0, -1)>, <Actions.LEFT: (0, -1)>, <Actions.LEFT: (0, -1)>, <Actions.LEFT: (0, -1)>, <Actions.DOWN: (-1, 0)>, <Actions.DOWN: (-1, 0)>, <Actions.DOWN: (-1, 0)>, <Actions.LEFT: (0, -1)>, <Actions.LEFT: (0, -1)>, <Actions.LEFT: (0, -1)>, <Actions.LEFT: (0, -1)>, <Actions.LEFT: (0, -1)>, <Actions.DOWN: (-1, 0)>, <Actions.DOWN: (-1, 0)>, <Actions.DOWN: (-1, 0)>, <Actions.RIGHT: (0, 1)>, <Actions.RIGHT: (0, 1)>, <Actions.RIGHT: (0, 1)>, <Actions.RIGHT: (0, 1)>, <Actions.RIGHT: (0, 1)>, <Actions.RIGHT: (0, 1)>, <Actions.RIGHT: (0, 1)>, <Actions.RIGHT: (0, 1)>, <Actions.RIGHT: (0, 1)>, <Actions.RIGHT: (0, 1)>, <Actions.RIGHT: (0, 1)>, <Actions.RIGHT: (0, 1)>, <Actions.RIGHT: (0, 1)>, <Actions.RIGHT: (0, 1)>, <Actions.RIGHT: (0, 1)>, <Actions.RIGHT: (0, 1)>, <Actions.RIGHT: (0, 1)>, <Actions.DOWN: (-1, 0)>, <Actions.DOWN: (-1, 0)>, <Actions.DOWN: (-1, 0)>, <Actions.DOWN: (-1, 0)>, <Actions.DOWN: (-1, 0)>, <Actions.DOWN: (-1, 0)>]\n",
      "Path:\n",
      "[<Node (26, 4)>, <Node (26, 5)>, <Node (26, 6)>, <Node (26, 7)>, <Node (25, 7)>, <Node (24, 7)>, <Node (23, 7)>, <Node (23, 8)>, <Node (23, 9)>, <Node (23, 10)>, <Node (23, 11)>, <Node (23, 12)>, <Node (23, 13)>, <Node (23, 14)>, <Node (23, 15)>, <Node (23, 16)>, <Node (23, 17)>, <Node (23, 18)>, <Node (23, 19)>, <Node (23, 20)>, <Node (24, 20)>, <Node (25, 20)>, <Node (26, 20)>, <Node (26, 21)>, <Node (26, 22)>, <Node (26, 23)>, <Node (25, 23)>, <Node (24, 23)>, <Node (23, 23)>, <Node (23, 24)>, <Node (23, 25)>, <Node (23, 26)>, <Node (22, 26)>, <Node (21, 26)>, <Node (20, 26)>, <Node (20, 25)>, <Node (20, 24)>, <Node (20, 23)>, <Node (20, 22)>, <Node (20, 21)>, <Node (20, 20)>, <Node (20, 19)>, <Node (20, 18)>, <Node (20, 17)>, <Node (20, 16)>, <Node (20, 15)>, <Node (19, 15)>, <Node (18, 15)>, <Node (17, 15)>, <Node (17, 14)>, <Node (17, 13)>, <Node (17, 12)>, <Node (17, 11)>, <Node (17, 10)>, <Node (17, 9)>, <Node (16, 9)>, <Node (15, 9)>, <Node (14, 9)>, <Node (14, 8)>, <Node (14, 7)>, <Node (14, 6)>, <Node (14, 5)>, <Node (14, 4)>, <Node (13, 4)>, <Node (12, 4)>, <Node (11, 4)>, <Node (11, 5)>, <Node (11, 6)>, <Node (11, 7)>, <Node (11, 8)>, <Node (11, 9)>, <Node (11, 10)>, <Node (11, 11)>, <Node (11, 12)>, <Node (11, 13)>, <Node (11, 14)>, <Node (11, 15)>, <Node (11, 16)>, <Node (11, 17)>, <Node (11, 18)>, <Node (11, 19)>, <Node (11, 20)>, <Node (11, 21)>, <Node (10, 21)>, <Node (9, 21)>, <Node (8, 21)>, <Node (7, 21)>, <Node (6, 21)>, <Node (5, 21)>]\n"
     ]
    }
   ],
   "source": [
    "node, expanded_nodes, food_nodes = pacman.depth_first_graph_search(problem)\n",
    "print(\"Number of expanded nodes:\")\n",
    "print(expanded_nodes)\n",
    "print(\"Number of expanded food nodes:\")\n",
    "print(food_nodes)\n",
    "print(node.solution())\n",
    "print(\"Path:\")\n",
    "print(node.path())"
   ]
  },
  {
   "cell_type": "code",
   "execution_count": 9,
   "metadata": {},
   "outputs": [
    {
     "data": {
      "image/png": "[encoded data removed]",
      "text/plain": [
       "<Figure size 576x576 with 1 Axes>"
      ]
     },
     "metadata": {},
     "output_type": "display_data"
    }
   ],
   "source": [
    "plt.figure(figsize=(8, 8))\n",
    "plt.xticks([]) \n",
    "plt.yticks([]) \n",
    "plt.gca().invert_yaxis()\n",
    "plt.pcolormesh(maze.get_final_grid(initial_position, goal_position, [n.state for n in node.path()]), cmap=\"Set1\")\n",
    "plt.show()"
   ]
  },
  {
   "cell_type": "markdown",
   "metadata": {},
   "source": [
    "# Greedy Search - Manhattan Distance"
   ]
  },
  {
   "cell_type": "code",
   "execution_count": 10,
   "metadata": {},
   "outputs": [
    {
     "name": "stdout",
     "output_type": "stream",
     "text": [
      "Number of expanded nodes:\n",
      "279\n",
      "Number of expanded food nodes:\n",
      "207\n",
      "[<Actions.RIGHT: (0, 1)>, <Actions.RIGHT: (0, 1)>, <Actions.RIGHT: (0, 1)>, <Actions.DOWN: (-1, 0)>, <Actions.DOWN: (-1, 0)>, <Actions.DOWN: (-1, 0)>, <Actions.RIGHT: (0, 1)>, <Actions.RIGHT: (0, 1)>, <Actions.RIGHT: (0, 1)>, <Actions.DOWN: (-1, 0)>, <Actions.DOWN: (-1, 0)>, <Actions.DOWN: (-1, 0)>, <Actions.RIGHT: (0, 1)>, <Actions.RIGHT: (0, 1)>, <Actions.DOWN: (-1, 0)>, <Actions.DOWN: (-1, 0)>, <Actions.DOWN: (-1, 0)>, <Actions.RIGHT: (0, 1)>, <Actions.RIGHT: (0, 1)>, <Actions.RIGHT: (0, 1)>, <Actions.RIGHT: (0, 1)>, <Actions.RIGHT: (0, 1)>, <Actions.RIGHT: (0, 1)>, <Actions.DOWN: (-1, 0)>, <Actions.DOWN: (-1, 0)>, <Actions.DOWN: (-1, 0)>, <Actions.DOWN: (-1, 0)>, <Actions.DOWN: (-1, 0)>, <Actions.DOWN: (-1, 0)>, <Actions.LEFT: (0, -1)>, <Actions.LEFT: (0, -1)>, <Actions.LEFT: (0, -1)>, <Actions.LEFT: (0, -1)>, <Actions.LEFT: (0, -1)>, <Actions.LEFT: (0, -1)>, <Actions.DOWN: (-1, 0)>, <Actions.DOWN: (-1, 0)>, <Actions.DOWN: (-1, 0)>, <Actions.LEFT: (0, -1)>, <Actions.LEFT: (0, -1)>, <Actions.LEFT: (0, -1)>, <Actions.DOWN: (-1, 0)>, <Actions.DOWN: (-1, 0)>, <Actions.DOWN: (-1, 0)>, <Actions.RIGHT: (0, 1)>, <Actions.RIGHT: (0, 1)>, <Actions.RIGHT: (0, 1)>, <Actions.RIGHT: (0, 1)>, <Actions.RIGHT: (0, 1)>, <Actions.RIGHT: (0, 1)>, <Actions.RIGHT: (0, 1)>, <Actions.RIGHT: (0, 1)>, <Actions.RIGHT: (0, 1)>, <Actions.RIGHT: (0, 1)>, <Actions.RIGHT: (0, 1)>, <Actions.RIGHT: (0, 1)>]\n",
      "Path:\n",
      "[<Node (26, 4)>, <Node (26, 5)>, <Node (26, 6)>, <Node (26, 7)>, <Node (25, 7)>, <Node (24, 7)>, <Node (23, 7)>, <Node (23, 8)>, <Node (23, 9)>, <Node (23, 10)>, <Node (22, 10)>, <Node (21, 10)>, <Node (20, 10)>, <Node (20, 11)>, <Node (20, 12)>, <Node (19, 12)>, <Node (18, 12)>, <Node (17, 12)>, <Node (17, 13)>, <Node (17, 14)>, <Node (17, 15)>, <Node (17, 16)>, <Node (17, 17)>, <Node (17, 18)>, <Node (16, 18)>, <Node (15, 18)>, <Node (14, 18)>, <Node (13, 18)>, <Node (12, 18)>, <Node (11, 18)>, <Node (11, 17)>, <Node (11, 16)>, <Node (11, 15)>, <Node (11, 14)>, <Node (11, 13)>, <Node (11, 12)>, <Node (10, 12)>, <Node (9, 12)>, <Node (8, 12)>, <Node (8, 11)>, <Node (8, 10)>, <Node (8, 9)>, <Node (7, 9)>, <Node (6, 9)>, <Node (5, 9)>, <Node (5, 10)>, <Node (5, 11)>, <Node (5, 12)>, <Node (5, 13)>, <Node (5, 14)>, <Node (5, 15)>, <Node (5, 16)>, <Node (5, 17)>, <Node (5, 18)>, <Node (5, 19)>, <Node (5, 20)>, <Node (5, 21)>]\n"
     ]
    }
   ],
   "source": [
    "node, expanded_nodes, food_nodes = pacman.greedy_best_first_search(problem)\n",
    "print(\"Number of expanded nodes:\")\n",
    "print(expanded_nodes)\n",
    "print(\"Number of expanded food nodes:\")\n",
    "print(food_nodes)\n",
    "print(node.solution())\n",
    "print(\"Path:\")\n",
    "print(node.path())"
   ]
  },
  {
   "cell_type": "code",
   "execution_count": 11,
   "metadata": {},
   "outputs": [
    {
     "data": {
      "image/png": "[encoded data removed]",
      "text/plain": [
       "<Figure size 576x576 with 1 Axes>"
      ]
     },
     "metadata": {},
     "output_type": "display_data"
    }
   ],
   "source": [
    "plt.figure(figsize=(8, 8))\n",
    "plt.xticks([]) \n",
    "plt.yticks([]) \n",
    "plt.gca().invert_yaxis()\n",
    "plt.pcolormesh(maze.get_final_grid(initial_position, goal_position, [n.state for n in node.path()]), cmap=\"Set1\")\n",
    "plt.show()"
   ]
  },
  {
   "cell_type": "code",
   "execution_count": null,
   "metadata": {},
   "outputs": [],
   "source": []
  }
 ],
 "metadata": {
  "kernelspec": {
   "display_name": "Python 3",
   "language": "python",
   "name": "python3"
  },
  "language_info": {
   "codemirror_mode": {
    "name": "ipython",
    "version": 3
   },
   "file_extension": ".py",
   "mimetype": "text/x-python",
   "name": "python",
   "nbconvert_exporter": "python",
   "pygments_lexer": "ipython3",
   "version": "3.5.2"
  }
 },
 "nbformat": 4,
 "nbformat_minor": 4
}
