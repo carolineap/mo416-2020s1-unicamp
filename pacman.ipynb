{
 "cells": [
  {
   "cell_type": "code",
   "execution_count": null,
   "metadata": {},
   "outputs": [],
   "source": [
    "import enviroment\n",
    "import pacman\n",
    "import numpy as np\n",
    "import matplotlib.pyplot as plt\n",
    "from matplotlib import colors\n",
    "\n",
    "from ghost_avoidance_heuristic import GhostAvoidanceHeuristic\n",
    "# Needed to hide warnings in the matplotlib sections\n",
    "import warnings\n",
    "import numpy as np\n",
    "warnings.filterwarnings(\"ignore\")"
   ]
  },
  {
   "cell_type": "code",
   "execution_count": null,
   "metadata": {},
   "outputs": [],
   "source": [
    "maze_arqs = {'Mazes/TinyMaze01.txt':[30,28],\n",
    "             'Mazes/SmallMaze01.txt':[30,84],\n",
    "             'Mazes/SmallMaze02.txt':[30,56],\n",
    "             'Mazes/MediumMaze01.txt':[60,56],\n",
    "             'Mazes/MediumMaze02.txt':[60,112],\n",
    "             'Mazes/BigMaze01.txt':[60,140],\n",
    "             'Mazes/BigMaze02.txt':[90,140],\n",
    "             'maze-test.txt':[28,28]}"
   ]
  },
  {
   "cell_type": "code",
   "execution_count": null,
   "metadata": {},
   "outputs": [],
   "source": [
    "maze_name = 'Mazes/TinyMaze01.txt'\n",
    "maze, initial_position, goal_position = enviroment.getMazeTest(maze_name, maze_arqs[maze_name][0], maze_arqs[maze_name][1])\n",
    "print(\"Initial position: \" + str(initial_position))\n",
    "print(\"Goal position: \" + str(goal_position))"
   ]
  },
  {
   "cell_type": "code",
   "execution_count": null,
   "metadata": {},
   "outputs": [],
   "source": [
    "def get_solution_info(node, expanded_nodes, food_nodes):\n",
    "    print(\"Number of expanded nodes:\")\n",
    "    print(expanded_nodes)\n",
    "    print(\"Number of expanded food nodes:\")\n",
    "    print(food_nodes)\n",
    "    food_nodes_path = 0\n",
    "    for n in node.path():\n",
    "        food_nodes_path += problem.check_food(n.state)\n",
    "    print(\"Number of nodes in the path:\")\n",
    "    print(len(node.path()))\n",
    "    print(\"Number of food nodes in the path:\")\n",
    "    print(food_nodes_path)\n",
    "    \n",
    "    print(\"------------------------------------------------\")\n",
    "    \n",
    "    print(node.solution())\n",
    "    print(\"Path:\")\n",
    "    print(node.path())"
   ]
  },
  {
   "cell_type": "code",
   "execution_count": null,
   "metadata": {},
   "outputs": [],
   "source": [
    "def make_grid_plot(maze, initial_position, goal_position):\n",
    "    grid, food_x, food_y = maze.get_int_grid(initial_position, goal_position)\n",
    "\n",
    "    fig, ax = plt.subplots(figsize=(10, 10))\n",
    "    cmap = colors.ListedColormap(['yellow', 'red', 'darkblue','gray','black'])\n",
    "\n",
    "    im = ax.imshow(grid, cmap=cmap)\n",
    "    ax = plt.gca()\n",
    "\n",
    "    ax.set_xticks(np.arange(len(grid)))\n",
    "    ax.set_yticks(np.arange(len(grid[0])))\n",
    "    ax.set_xticklabels(np.arange(0, len(grid), 1))\n",
    "    ax.set_yticklabels(np.arange(0, len(grid[0]), 1))\n",
    "\n",
    "    ax.set_xticks(np.arange(-.5, len(grid)-1, 1), minor=True);\n",
    "    ax.set_yticks(np.arange(-.5, len(grid)-1, 1), minor=True);\n",
    "    ax.grid(which='minor', color='black', linestyle='-', linewidth=2)\n",
    "\n",
    "\n",
    "    ax.scatter(food_y, food_x, color = 'white', zorder=10)\n",
    "    ax.scatter(initial_position[1], initial_position[0], marker='o', color='white',s=110)\n",
    "    ax.scatter(goal_position[1], goal_position[0], marker='X', color='white', s=90)\n",
    "\n",
    "    plt.show()"
   ]
  },
  {
   "cell_type": "code",
   "execution_count": null,
   "metadata": {},
   "outputs": [],
   "source": [
    "def make_path_plot(maze, initial_position, goal_position, node):    \n",
    "    fig, ax = plt.subplots(figsize=(10, 10))\n",
    "    cmap = colors.ListedColormap(['yellow', 'red', 'purple', 'black'])\n",
    "\n",
    "    grid, food_x, food_y = maze.get_final_grid(initial_position, goal_position, [n.state for n in node.path()])\n",
    "\n",
    "    im = ax.imshow(grid, cmap=cmap)\n",
    "    ax = plt.gca()\n",
    "\n",
    "    ax.set_xticks(np.arange(len(grid)))\n",
    "    ax.set_yticks(np.arange(len(grid[0])))\n",
    "    ax.set_xticklabels(np.arange(0, len(grid), 1))\n",
    "    ax.set_yticklabels(np.arange(0, len(grid[0]), 1))\n",
    "\n",
    "    ax.set_xticks(np.arange(-.5, len(grid)-1, 1), minor=True);\n",
    "    ax.set_yticks(np.arange(-.5, len(grid)-1, 1), minor=True);\n",
    "    ax.grid(which='minor', color='black', linestyle='-', linewidth=2)\n",
    "\n",
    "\n",
    "    ax.scatter(food_y, food_x, color = 'white', zorder=10)\n",
    "    ax.scatter(initial_position[1], initial_position[0], marker='o', color='white',s=110)\n",
    "    ax.scatter(goal_position[1], goal_position[0], marker='X', color='white', s=90)\n",
    "\n",
    "    plt.show()"
   ]
  },
  {
   "cell_type": "code",
   "execution_count": null,
   "metadata": {},
   "outputs": [],
   "source": [
    "make_grid_plot(maze, initial_position, goal_position)"
   ]
  },
  {
   "cell_type": "code",
   "execution_count": null,
   "metadata": {},
   "outputs": [],
   "source": [
    "problem = pacman.Problem(maze, initial_position, goal_position)"
   ]
  },
  {
   "cell_type": "markdown",
   "metadata": {},
   "source": [
    "# Breadth First Search - BFS"
   ]
  },
  {
   "cell_type": "code",
   "execution_count": null,
   "metadata": {},
   "outputs": [],
   "source": [
    "solution_node, expanded_nodes, food_nodes = pacman.breadth_first_graph_search(problem)\n",
    "get_solution_info(solution_node, expanded_nodes, food_nodes)\n",
    "make_path_plot(maze, initial_position, goal_position, solution_node)"
   ]
  },
  {
   "cell_type": "markdown",
   "metadata": {},
   "source": [
    "# Depth First Search - DFS"
   ]
  },
  {
   "cell_type": "code",
   "execution_count": null,
   "metadata": {},
   "outputs": [],
   "source": [
    "solution_node, expanded_nodes, food_nodes = pacman.depth_first_graph_search(problem)\n",
    "get_solution_info(solution_node, expanded_nodes, food_nodes)\n",
    "make_path_plot(maze, initial_position, goal_position, solution_node)"
   ]
  },
  {
   "cell_type": "markdown",
   "metadata": {},
   "source": [
    "# Greedy Search - Manhattan Distance"
   ]
  },
  {
   "cell_type": "code",
   "execution_count": null,
   "metadata": {},
   "outputs": [],
   "source": [
    "solution_node, expanded_nodes, food_nodes = pacman.greedy_best_first_search(problem)\n",
    "get_solution_info(solution_node, expanded_nodes, food_nodes)\n",
    "make_path_plot(maze, initial_position, goal_position, solution_node)"
   ]
  },
  {
   "cell_type": "markdown",
   "metadata": {},
   "source": [
    "# Greedy Search - Ghost Avoidance Heuristic with Euclidean Distance"
   ]
  },
  {
   "cell_type": "code",
   "execution_count": null,
   "metadata": {},
   "outputs": [],
   "source": [
    "problem_ghost = GhostAvoidanceHeuristic(maze, initial_position, goal_position, ghost_proximity_cost=1000)"
   ]
  },
  {
   "cell_type": "code",
   "execution_count": null,
   "metadata": {},
   "outputs": [],
   "source": [
    "solution_node, expanded_nodes, food_nodes = pacman.greedy_best_first_search(problem, problem_ghost.h)\n",
    "get_solution_info(solution_node, expanded_nodes, food_nodes)\n",
    "make_path_plot(maze, initial_position, goal_position, solution_node)"
   ]
  },
  {
   "cell_type": "markdown",
   "metadata": {},
   "source": [
    "# A* Search - Manhattan Distance"
   ]
  },
  {
   "cell_type": "code",
   "execution_count": null,
   "metadata": {},
   "outputs": [],
   "source": [
    "solution_node, expanded_nodes, food_nodes = pacman.a_star_best_first_search(problem)\n",
    "get_solution_info(solution_node, expanded_nodes, food_nodes)\n",
    "make_path_plot(maze, initial_position, goal_position, solution_node)"
   ]
  },
  {
   "cell_type": "markdown",
   "metadata": {},
   "source": [
    "# A* Search - Ghost Avoidance Heuristic with Euclidean Distance"
   ]
  },
  {
   "cell_type": "code",
   "execution_count": null,
   "metadata": {},
   "outputs": [],
   "source": [
    "problem_ghost = GhostAvoidanceHeuristic(maze, initial_position, goal_position, ghost_proximity_cost=1000)"
   ]
  },
  {
   "cell_type": "code",
   "execution_count": null,
   "metadata": {},
   "outputs": [],
   "source": [
    "node_solution, expanded_nodes, food_nodes = pacman.a_star_best_first_search(problem, problem_ghost.h)\n",
    "get_solution_info(solution_node, expanded_nodes, food_nodes)\n",
    "make_path_plot(maze, initial_position, goal_position, solution_node)"
   ]
  }
 ],
 "metadata": {
  "kernelspec": {
   "display_name": "Python 3",
   "language": "python",
   "name": "python3"
  },
  "language_info": {
   "codemirror_mode": {
    "name": "ipython",
    "version": 3
   },
   "file_extension": ".py",
   "mimetype": "text/x-python",
   "name": "python",
   "nbconvert_exporter": "python",
   "pygments_lexer": "ipython3",
   "version": "3.6.9"
  }
 },
 "nbformat": 4,
 "nbformat_minor": 4
}
