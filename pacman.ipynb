{
 "cells": [
  {
   "cell_type": "code",
   "execution_count": 1,
   "metadata": {},
   "outputs": [],
   "source": [
    "import enviroment\n",
    "import pacman\n",
    "import matplotlib.pyplot as plt\n",
    "\n",
    "from ghost_avoidance_heuristic import GhostAvoidanceHeuristic\n",
    "# Needed to hide warnings in the matplotlib sections\n",
    "import warnings\n",
    "warnings.filterwarnings(\"ignore\")"
   ]
  },
  {
   "cell_type": "code",
   "execution_count": 2,
   "metadata": {},
   "outputs": [],
   "source": [
    "maze_arqs = {'Mazes/TinyMaze01.txt':[30,28],\n",
    "             'Mazes/SmallMaze01.txt':[30,84],\n",
    "             'Mazes/SmallMaze02.txt':[30,56],\n",
    "             'Mazes/MediumMaze01.txt':[60,56],\n",
    "             'Mazes/MediumMaze02.txt':[60,112],\n",
    "             'Mazes/BigMaze01.txt':[60,140],\n",
    "             'Mazes/BigMaze02.txt':[90,140],\n",
    "             'maze-test.txt':[28,28]}"
   ]
  },
  {
   "cell_type": "code",
   "execution_count": 3,
   "metadata": {},
   "outputs": [
    {
     "name": "stdout",
     "output_type": "stream",
     "text": [
      "Initial position: (26, 4)\n",
      "Goal position: (5, 21)\n"
     ]
    }
   ],
   "source": [
    "maze_name = 'Mazes/TinyMaze01.txt'\n",
    "maze, initial_position, goal_position = enviroment.getMazeTest(maze_name, maze_arqs[maze_name][0], maze_arqs[maze_name][1])\n",
    "print(\"Initial position: \" + str(initial_position))\n",
    "print(\"Goal position: \" + str(goal_position))"
   ]
  },
  {
   "cell_type": "code",
   "execution_count": 4,
   "metadata": {},
   "outputs": [
    {
     "data": {
      "image/png": "[encoded data removed]",
      "text/plain": [
       "<Figure size 576x576 with 1 Axes>"
      ]
     },
     "metadata": {},
     "output_type": "display_data"
    }
   ],
   "source": [
    "plt.figure(figsize=(8, 8))\n",
    "plt.xticks([]) \n",
    "plt.yticks([]) \n",
    "plt.gca().invert_yaxis()\n",
    "plt.pcolormesh(maze.get_int_grid(initial_position, goal_position), cmap=\"Set1\")\n",
    "plt.show()"
   ]
  },
  {
   "cell_type": "code",
   "execution_count": 5,
   "metadata": {},
   "outputs": [],
   "source": [
    "problem = pacman.Problem(maze, initial_position, goal_position, empty_tile_cost=10)"
   ]
  },
  {
   "cell_type": "markdown",
   "metadata": {},
   "source": [
    "# Breadth First Search - BFS"
   ]
  },
  {
   "cell_type": "code",
   "execution_count": 6,
   "metadata": {},
   "outputs": [
    {
     "name": "stdout",
     "output_type": "stream",
     "text": [
      "Number of expanded nodes:\n",
      "288\n",
      "Number of expanded food nodes:\n",
      "210\n",
      "[<Actions.RIGHT: (0, 1)>, <Actions.RIGHT: (0, 1)>, <Actions.RIGHT: (0, 1)>, <Actions.DOWN: (-1, 0)>, <Actions.DOWN: (-1, 0)>, <Actions.DOWN: (-1, 0)>, <Actions.RIGHT: (0, 1)>, <Actions.RIGHT: (0, 1)>, <Actions.RIGHT: (0, 1)>, <Actions.DOWN: (-1, 0)>, <Actions.DOWN: (-1, 0)>, <Actions.DOWN: (-1, 0)>, <Actions.RIGHT: (0, 1)>, <Actions.RIGHT: (0, 1)>, <Actions.DOWN: (-1, 0)>, <Actions.DOWN: (-1, 0)>, <Actions.DOWN: (-1, 0)>, <Actions.RIGHT: (0, 1)>, <Actions.RIGHT: (0, 1)>, <Actions.RIGHT: (0, 1)>, <Actions.RIGHT: (0, 1)>, <Actions.RIGHT: (0, 1)>, <Actions.RIGHT: (0, 1)>, <Actions.DOWN: (-1, 0)>, <Actions.DOWN: (-1, 0)>, <Actions.DOWN: (-1, 0)>, <Actions.DOWN: (-1, 0)>, <Actions.DOWN: (-1, 0)>, <Actions.DOWN: (-1, 0)>, <Actions.RIGHT: (0, 1)>, <Actions.RIGHT: (0, 1)>, <Actions.RIGHT: (0, 1)>, <Actions.DOWN: (-1, 0)>, <Actions.DOWN: (-1, 0)>, <Actions.DOWN: (-1, 0)>, <Actions.DOWN: (-1, 0)>, <Actions.DOWN: (-1, 0)>, <Actions.DOWN: (-1, 0)>]\n",
      "Path:\n",
      "[<Node (26, 4)>, <Node (26, 5)>, <Node (26, 6)>, <Node (26, 7)>, <Node (25, 7)>, <Node (24, 7)>, <Node (23, 7)>, <Node (23, 8)>, <Node (23, 9)>, <Node (23, 10)>, <Node (22, 10)>, <Node (21, 10)>, <Node (20, 10)>, <Node (20, 11)>, <Node (20, 12)>, <Node (19, 12)>, <Node (18, 12)>, <Node (17, 12)>, <Node (17, 13)>, <Node (17, 14)>, <Node (17, 15)>, <Node (17, 16)>, <Node (17, 17)>, <Node (17, 18)>, <Node (16, 18)>, <Node (15, 18)>, <Node (14, 18)>, <Node (13, 18)>, <Node (12, 18)>, <Node (11, 18)>, <Node (11, 19)>, <Node (11, 20)>, <Node (11, 21)>, <Node (10, 21)>, <Node (9, 21)>, <Node (8, 21)>, <Node (7, 21)>, <Node (6, 21)>, <Node (5, 21)>]\n"
     ]
    }
   ],
   "source": [
    "node, expanded_nodes, food_nodes = pacman.breadth_first_graph_search(problem)\n",
    "print(\"Number of expanded nodes:\")\n",
    "print(expanded_nodes)\n",
    "print(\"Number of expanded food nodes:\")\n",
    "print(food_nodes)\n",
    "print(node.solution())\n",
    "print(\"Path:\")\n",
    "print(node.path())"
   ]
  },
  {
   "cell_type": "code",
   "execution_count": 7,
   "metadata": {},
   "outputs": [
    {
     "data": {
      "image/png": "[encoded data removed]",
      "text/plain": [
       "<Figure size 576x576 with 1 Axes>"
      ]
     },
     "metadata": {},
     "output_type": "display_data"
    }
   ],
   "source": [
    "plt.figure(figsize=(8, 8))\n",
    "plt.xticks([])\n",
    "plt.yticks([]) \n",
    "plt.gca().invert_yaxis()\n",
    "plt.pcolormesh(maze.get_final_grid(initial_position, goal_position, [n.state for n in node.path()]), cmap=\"Set1\")\n",
    "plt.show()"
   ]
  },
  {
   "cell_type": "markdown",
   "metadata": {},
   "source": [
    "# Depth First Search - DFS"
   ]
  },
  {
   "cell_type": "code",
   "execution_count": 8,
   "metadata": {},
   "outputs": [
    {
     "name": "stdout",
     "output_type": "stream",
     "text": [
      "Number of expanded nodes:\n",
      "202\n",
      "Number of expanded food nodes:\n",
      "147\n",
      "[<Actions.RIGHT: (0, 1)>, <Actions.RIGHT: (0, 1)>, <Actions.RIGHT: (0, 1)>, <Actions.DOWN: (-1, 0)>, <Actions.DOWN: (-1, 0)>, <Actions.DOWN: (-1, 0)>, <Actions.RIGHT: (0, 1)>, <Actions.RIGHT: (0, 1)>, <Actions.RIGHT: (0, 1)>, <Actions.RIGHT: (0, 1)>, <Actions.RIGHT: (0, 1)>, <Actions.RIGHT: (0, 1)>, <Actions.RIGHT: (0, 1)>, <Actions.RIGHT: (0, 1)>, <Actions.RIGHT: (0, 1)>, <Actions.RIGHT: (0, 1)>, <Actions.RIGHT: (0, 1)>, <Actions.RIGHT: (0, 1)>, <Actions.RIGHT: (0, 1)>, <Actions.UP: (1, 0)>, <Actions.UP: (1, 0)>, <Actions.UP: (1, 0)>, <Actions.RIGHT: (0, 1)>, <Actions.RIGHT: (0, 1)>, <Actions.RIGHT: (0, 1)>, <Actions.DOWN: (-1, 0)>, <Actions.DOWN: (-1, 0)>, <Actions.DOWN: (-1, 0)>, <Actions.RIGHT: (0, 1)>, <Actions.RIGHT: (0, 1)>, <Actions.RIGHT: (0, 1)>, <Actions.DOWN: (-1, 0)>, <Actions.DOWN: (-1, 0)>, <Actions.DOWN: (-1, 0)>, <Actions.LEFT: (0, -1)>, <Actions.LEFT: (0, -1)>, <Actions.LEFT: (0, -1)>, <Actions.LEFT: (0, -1)>, <Actions.LEFT: (0, -1)>, <Actions.LEFT: (0, -1)>, <Actions.LEFT: (0, -1)>, <Actions.LEFT: (0, -1)>, <Actions.LEFT: (0, -1)>, <Actions.LEFT: (0, -1)>, <Actions.LEFT: (0, -1)>, <Actions.DOWN: (-1, 0)>, <Actions.DOWN: (-1, 0)>, <Actions.DOWN: (-1, 0)>, <Actions.LEFT: (0, -1)>, <Actions.LEFT: (0, -1)>, <Actions.LEFT: (0, -1)>, <Actions.LEFT: (0, -1)>, <Actions.LEFT: (0, -1)>, <Actions.LEFT: (0, -1)>, <Actions.DOWN: (-1, 0)>, <Actions.DOWN: (-1, 0)>, <Actions.DOWN: (-1, 0)>, <Actions.LEFT: (0, -1)>, <Actions.LEFT: (0, -1)>, <Actions.LEFT: (0, -1)>, <Actions.LEFT: (0, -1)>, <Actions.LEFT: (0, -1)>, <Actions.DOWN: (-1, 0)>, <Actions.DOWN: (-1, 0)>, <Actions.DOWN: (-1, 0)>, <Actions.RIGHT: (0, 1)>, <Actions.RIGHT: (0, 1)>, <Actions.RIGHT: (0, 1)>, <Actions.RIGHT: (0, 1)>, <Actions.RIGHT: (0, 1)>, <Actions.RIGHT: (0, 1)>, <Actions.RIGHT: (0, 1)>, <Actions.RIGHT: (0, 1)>, <Actions.RIGHT: (0, 1)>, <Actions.RIGHT: (0, 1)>, <Actions.RIGHT: (0, 1)>, <Actions.RIGHT: (0, 1)>, <Actions.RIGHT: (0, 1)>, <Actions.RIGHT: (0, 1)>, <Actions.RIGHT: (0, 1)>, <Actions.RIGHT: (0, 1)>, <Actions.RIGHT: (0, 1)>, <Actions.DOWN: (-1, 0)>, <Actions.DOWN: (-1, 0)>, <Actions.DOWN: (-1, 0)>, <Actions.DOWN: (-1, 0)>, <Actions.DOWN: (-1, 0)>, <Actions.DOWN: (-1, 0)>]\n",
      "Path:\n",
      "[<Node (26, 4)>, <Node (26, 5)>, <Node (26, 6)>, <Node (26, 7)>, <Node (25, 7)>, <Node (24, 7)>, <Node (23, 7)>, <Node (23, 8)>, <Node (23, 9)>, <Node (23, 10)>, <Node (23, 11)>, <Node (23, 12)>, <Node (23, 13)>, <Node (23, 14)>, <Node (23, 15)>, <Node (23, 16)>, <Node (23, 17)>, <Node (23, 18)>, <Node (23, 19)>, <Node (23, 20)>, <Node (24, 20)>, <Node (25, 20)>, <Node (26, 20)>, <Node (26, 21)>, <Node (26, 22)>, <Node (26, 23)>, <Node (25, 23)>, <Node (24, 23)>, <Node (23, 23)>, <Node (23, 24)>, <Node (23, 25)>, <Node (23, 26)>, <Node (22, 26)>, <Node (21, 26)>, <Node (20, 26)>, <Node (20, 25)>, <Node (20, 24)>, <Node (20, 23)>, <Node (20, 22)>, <Node (20, 21)>, <Node (20, 20)>, <Node (20, 19)>, <Node (20, 18)>, <Node (20, 17)>, <Node (20, 16)>, <Node (20, 15)>, <Node (19, 15)>, <Node (18, 15)>, <Node (17, 15)>, <Node (17, 14)>, <Node (17, 13)>, <Node (17, 12)>, <Node (17, 11)>, <Node (17, 10)>, <Node (17, 9)>, <Node (16, 9)>, <Node (15, 9)>, <Node (14, 9)>, <Node (14, 8)>, <Node (14, 7)>, <Node (14, 6)>, <Node (14, 5)>, <Node (14, 4)>, <Node (13, 4)>, <Node (12, 4)>, <Node (11, 4)>, <Node (11, 5)>, <Node (11, 6)>, <Node (11, 7)>, <Node (11, 8)>, <Node (11, 9)>, <Node (11, 10)>, <Node (11, 11)>, <Node (11, 12)>, <Node (11, 13)>, <Node (11, 14)>, <Node (11, 15)>, <Node (11, 16)>, <Node (11, 17)>, <Node (11, 18)>, <Node (11, 19)>, <Node (11, 20)>, <Node (11, 21)>, <Node (10, 21)>, <Node (9, 21)>, <Node (8, 21)>, <Node (7, 21)>, <Node (6, 21)>, <Node (5, 21)>]\n"
     ]
    }
   ],
   "source": [
    "node, expanded_nodes, food_nodes = pacman.depth_first_graph_search(problem)\n",
    "print(\"Number of expanded nodes:\")\n",
    "print(expanded_nodes)\n",
    "print(\"Number of expanded food nodes:\")\n",
    "print(food_nodes)\n",
    "print(node.solution())\n",
    "print(\"Path:\")\n",
    "print(node.path())"
   ]
  },
  {
   "cell_type": "code",
   "execution_count": 9,
   "metadata": {},
   "outputs": [
    {
     "data": {
      "image/png": "[encoded data removed]",
      "text/plain": [
       "<Figure size 576x576 with 1 Axes>"
      ]
     },
     "metadata": {},
     "output_type": "display_data"
    }
   ],
   "source": [
    "plt.figure(figsize=(8, 8))\n",
    "plt.xticks([]) \n",
    "plt.yticks([]) \n",
    "plt.gca().invert_yaxis()\n",
    "plt.pcolormesh(maze.get_final_grid(initial_position, goal_position, [n.state for n in node.path()]), cmap=\"Set1\")\n",
    "plt.show()"
   ]
  },
  {
   "cell_type": "markdown",
   "metadata": {},
   "source": [
    "# Greedy Search - Manhattan Distance"
   ]
  },
  {
   "cell_type": "code",
   "execution_count": 10,
   "metadata": {},
   "outputs": [
    {
     "name": "stdout",
     "output_type": "stream",
     "text": [
      "Number of expanded nodes:\n",
      "279\n",
      "Number of expanded food nodes:\n",
      "207\n",
      "[<Actions.RIGHT: (0, 1)>, <Actions.RIGHT: (0, 1)>, <Actions.RIGHT: (0, 1)>, <Actions.DOWN: (-1, 0)>, <Actions.DOWN: (-1, 0)>, <Actions.DOWN: (-1, 0)>, <Actions.RIGHT: (0, 1)>, <Actions.RIGHT: (0, 1)>, <Actions.RIGHT: (0, 1)>, <Actions.DOWN: (-1, 0)>, <Actions.DOWN: (-1, 0)>, <Actions.DOWN: (-1, 0)>, <Actions.RIGHT: (0, 1)>, <Actions.RIGHT: (0, 1)>, <Actions.DOWN: (-1, 0)>, <Actions.DOWN: (-1, 0)>, <Actions.DOWN: (-1, 0)>, <Actions.RIGHT: (0, 1)>, <Actions.RIGHT: (0, 1)>, <Actions.RIGHT: (0, 1)>, <Actions.RIGHT: (0, 1)>, <Actions.RIGHT: (0, 1)>, <Actions.RIGHT: (0, 1)>, <Actions.DOWN: (-1, 0)>, <Actions.DOWN: (-1, 0)>, <Actions.DOWN: (-1, 0)>, <Actions.DOWN: (-1, 0)>, <Actions.DOWN: (-1, 0)>, <Actions.DOWN: (-1, 0)>, <Actions.LEFT: (0, -1)>, <Actions.LEFT: (0, -1)>, <Actions.LEFT: (0, -1)>, <Actions.LEFT: (0, -1)>, <Actions.LEFT: (0, -1)>, <Actions.LEFT: (0, -1)>, <Actions.DOWN: (-1, 0)>, <Actions.DOWN: (-1, 0)>, <Actions.DOWN: (-1, 0)>, <Actions.LEFT: (0, -1)>, <Actions.LEFT: (0, -1)>, <Actions.LEFT: (0, -1)>, <Actions.DOWN: (-1, 0)>, <Actions.DOWN: (-1, 0)>, <Actions.DOWN: (-1, 0)>, <Actions.RIGHT: (0, 1)>, <Actions.RIGHT: (0, 1)>, <Actions.RIGHT: (0, 1)>, <Actions.RIGHT: (0, 1)>, <Actions.RIGHT: (0, 1)>, <Actions.RIGHT: (0, 1)>, <Actions.RIGHT: (0, 1)>, <Actions.RIGHT: (0, 1)>, <Actions.RIGHT: (0, 1)>, <Actions.RIGHT: (0, 1)>, <Actions.RIGHT: (0, 1)>, <Actions.RIGHT: (0, 1)>]\n",
      "Path:\n",
      "[<Node (26, 4)>, <Node (26, 5)>, <Node (26, 6)>, <Node (26, 7)>, <Node (25, 7)>, <Node (24, 7)>, <Node (23, 7)>, <Node (23, 8)>, <Node (23, 9)>, <Node (23, 10)>, <Node (22, 10)>, <Node (21, 10)>, <Node (20, 10)>, <Node (20, 11)>, <Node (20, 12)>, <Node (19, 12)>, <Node (18, 12)>, <Node (17, 12)>, <Node (17, 13)>, <Node (17, 14)>, <Node (17, 15)>, <Node (17, 16)>, <Node (17, 17)>, <Node (17, 18)>, <Node (16, 18)>, <Node (15, 18)>, <Node (14, 18)>, <Node (13, 18)>, <Node (12, 18)>, <Node (11, 18)>, <Node (11, 17)>, <Node (11, 16)>, <Node (11, 15)>, <Node (11, 14)>, <Node (11, 13)>, <Node (11, 12)>, <Node (10, 12)>, <Node (9, 12)>, <Node (8, 12)>, <Node (8, 11)>, <Node (8, 10)>, <Node (8, 9)>, <Node (7, 9)>, <Node (6, 9)>, <Node (5, 9)>, <Node (5, 10)>, <Node (5, 11)>, <Node (5, 12)>, <Node (5, 13)>, <Node (5, 14)>, <Node (5, 15)>, <Node (5, 16)>, <Node (5, 17)>, <Node (5, 18)>, <Node (5, 19)>, <Node (5, 20)>, <Node (5, 21)>]\n"
     ]
    }
   ],
   "source": [
    "node, expanded_nodes, food_nodes = pacman.greedy_best_first_search(problem)\n",
    "print(\"Number of expanded nodes:\")\n",
    "print(expanded_nodes)\n",
    "print(\"Number of expanded food nodes:\")\n",
    "print(food_nodes)\n",
    "print(node.solution())\n",
    "print(\"Path:\")\n",
    "print(node.path())"
   ]
  },
  {
   "cell_type": "code",
   "execution_count": 11,
   "metadata": {},
   "outputs": [
    {
     "data": {
      "image/png": "[encoded data removed]",
      "text/plain": [
       "<Figure size 576x576 with 1 Axes>"
      ]
     },
     "metadata": {},
     "output_type": "display_data"
    }
   ],
   "source": [
    "plt.figure(figsize=(8, 8))\n",
    "plt.xticks([]) \n",
    "plt.yticks([]) \n",
    "plt.gca().invert_yaxis()\n",
    "plt.pcolormesh(maze.get_final_grid(initial_position, goal_position, [n.state for n in node.path()]), cmap=\"Set1\")\n",
    "plt.show()"
   ]
  },
  {
   "cell_type": "markdown",
   "metadata": {},
   "source": [
    "# Greedy Search - Euclidean Distance and Ghost Avoidance"
   ]
  },
  {
   "cell_type": "code",
   "execution_count": 12,
   "metadata": {
    "scrolled": false
   },
   "outputs": [
    {
     "name": "stdout",
     "output_type": "stream",
     "text": [
      "Number of expanded nodes:\n",
      "267\n",
      "Number of expanded food nodes:\n",
      "196\n",
      "[<Actions.RIGHT: (0, 1)>, <Actions.RIGHT: (0, 1)>, <Actions.RIGHT: (0, 1)>, <Actions.DOWN: (-1, 0)>, <Actions.DOWN: (-1, 0)>, <Actions.DOWN: (-1, 0)>, <Actions.RIGHT: (0, 1)>, <Actions.RIGHT: (0, 1)>, <Actions.RIGHT: (0, 1)>, <Actions.DOWN: (-1, 0)>, <Actions.DOWN: (-1, 0)>, <Actions.DOWN: (-1, 0)>, <Actions.RIGHT: (0, 1)>, <Actions.RIGHT: (0, 1)>, <Actions.DOWN: (-1, 0)>, <Actions.DOWN: (-1, 0)>, <Actions.DOWN: (-1, 0)>, <Actions.RIGHT: (0, 1)>, <Actions.RIGHT: (0, 1)>, <Actions.RIGHT: (0, 1)>, <Actions.RIGHT: (0, 1)>, <Actions.RIGHT: (0, 1)>, <Actions.RIGHT: (0, 1)>, <Actions.DOWN: (-1, 0)>, <Actions.DOWN: (-1, 0)>, <Actions.DOWN: (-1, 0)>, <Actions.DOWN: (-1, 0)>, <Actions.DOWN: (-1, 0)>, <Actions.DOWN: (-1, 0)>, <Actions.LEFT: (0, -1)>, <Actions.LEFT: (0, -1)>, <Actions.LEFT: (0, -1)>, <Actions.DOWN: (-1, 0)>, <Actions.DOWN: (-1, 0)>, <Actions.DOWN: (-1, 0)>, <Actions.RIGHT: (0, 1)>, <Actions.RIGHT: (0, 1)>, <Actions.RIGHT: (0, 1)>, <Actions.DOWN: (-1, 0)>, <Actions.DOWN: (-1, 0)>, <Actions.DOWN: (-1, 0)>, <Actions.RIGHT: (0, 1)>, <Actions.RIGHT: (0, 1)>, <Actions.RIGHT: (0, 1)>]\n",
      "Path:\n",
      "[<Node (26, 4)>, <Node (26, 5)>, <Node (26, 6)>, <Node (26, 7)>, <Node (25, 7)>, <Node (24, 7)>, <Node (23, 7)>, <Node (23, 8)>, <Node (23, 9)>, <Node (23, 10)>, <Node (22, 10)>, <Node (21, 10)>, <Node (20, 10)>, <Node (20, 11)>, <Node (20, 12)>, <Node (19, 12)>, <Node (18, 12)>, <Node (17, 12)>, <Node (17, 13)>, <Node (17, 14)>, <Node (17, 15)>, <Node (17, 16)>, <Node (17, 17)>, <Node (17, 18)>, <Node (16, 18)>, <Node (15, 18)>, <Node (14, 18)>, <Node (13, 18)>, <Node (12, 18)>, <Node (11, 18)>, <Node (11, 17)>, <Node (11, 16)>, <Node (11, 15)>, <Node (10, 15)>, <Node (9, 15)>, <Node (8, 15)>, <Node (8, 16)>, <Node (8, 17)>, <Node (8, 18)>, <Node (7, 18)>, <Node (6, 18)>, <Node (5, 18)>, <Node (5, 19)>, <Node (5, 20)>, <Node (5, 21)>]\n"
     ]
    }
   ],
   "source": [
    "problem_ghost = GhostAvoidanceHeuristic(maze, initial_position, goal_position, ghost_proximity_cost=1000)\n",
    "node, expanded_nodes, food_nodes = pacman.greedy_best_first_search(problem, problem_ghost.h)\n",
    "print(\"Number of expanded nodes:\")\n",
    "print(expanded_nodes)\n",
    "print(\"Number of expanded food nodes:\")\n",
    "print(food_nodes)\n",
    "print(node.solution())\n",
    "print(\"Path:\")\n",
    "print(node.path())"
   ]
  },
  {
   "cell_type": "code",
   "execution_count": 13,
   "metadata": {},
   "outputs": [
    {
     "data": {
      "image/png": "[encoded data removed]",
      "text/plain": [
       "<Figure size 576x576 with 1 Axes>"
      ]
     },
     "metadata": {},
     "output_type": "display_data"
    }
   ],
   "source": [
    "plt.figure(figsize=(8, 8))\n",
    "plt.xticks([]) \n",
    "plt.yticks([]) \n",
    "plt.gca().invert_yaxis()\n",
    "plt.pcolormesh(maze.get_final_grid(initial_position, goal_position, [n.state for n in node.path()]), cmap=\"Set1\")\n",
    "plt.show()"
   ]
  },
  {
   "cell_type": "markdown",
   "metadata": {},
   "source": [
    "# A* - Manhattan Distance"
   ]
  },
  {
   "cell_type": "code",
   "execution_count": 14,
   "metadata": {},
   "outputs": [
    {
     "name": "stdout",
     "output_type": "stream",
     "text": [
      "Number of expanded nodes:\n",
      "250\n",
      "Number of expanded food nodes:\n",
      "211\n",
      "[<Actions.DOWN: (-1, 0)>, <Actions.DOWN: (-1, 0)>, <Actions.DOWN: (-1, 0)>, <Actions.LEFT: (0, -1)>, <Actions.LEFT: (0, -1)>, <Actions.LEFT: (0, -1)>, <Actions.DOWN: (-1, 0)>, <Actions.DOWN: (-1, 0)>, <Actions.DOWN: (-1, 0)>, <Actions.DOWN: (-1, 0)>, <Actions.DOWN: (-1, 0)>, <Actions.DOWN: (-1, 0)>, <Actions.DOWN: (-1, 0)>, <Actions.DOWN: (-1, 0)>, <Actions.DOWN: (-1, 0)>, <Actions.DOWN: (-1, 0)>, <Actions.DOWN: (-1, 0)>, <Actions.DOWN: (-1, 0)>, <Actions.RIGHT: (0, 1)>, <Actions.RIGHT: (0, 1)>, <Actions.RIGHT: (0, 1)>, <Actions.RIGHT: (0, 1)>, <Actions.RIGHT: (0, 1)>, <Actions.DOWN: (-1, 0)>, <Actions.DOWN: (-1, 0)>, <Actions.DOWN: (-1, 0)>, <Actions.DOWN: (-1, 0)>, <Actions.DOWN: (-1, 0)>, <Actions.DOWN: (-1, 0)>, <Actions.RIGHT: (0, 1)>, <Actions.RIGHT: (0, 1)>, <Actions.RIGHT: (0, 1)>, <Actions.RIGHT: (0, 1)>, <Actions.RIGHT: (0, 1)>, <Actions.RIGHT: (0, 1)>, <Actions.RIGHT: (0, 1)>, <Actions.RIGHT: (0, 1)>, <Actions.RIGHT: (0, 1)>, <Actions.RIGHT: (0, 1)>, <Actions.RIGHT: (0, 1)>, <Actions.RIGHT: (0, 1)>, <Actions.RIGHT: (0, 1)>, <Actions.RIGHT: (0, 1)>, <Actions.RIGHT: (0, 1)>]\n",
      "Path:\n",
      "[<Node (26, 4)>, <Node (25, 4)>, <Node (24, 4)>, <Node (23, 4)>, <Node (23, 3)>, <Node (23, 2)>, <Node (23, 1)>, <Node (22, 1)>, <Node (21, 1)>, <Node (20, 1)>, <Node (19, 1)>, <Node (18, 1)>, <Node (17, 1)>, <Node (16, 1)>, <Node (15, 1)>, <Node (14, 1)>, <Node (13, 1)>, <Node (12, 1)>, <Node (11, 1)>, <Node (11, 2)>, <Node (11, 3)>, <Node (11, 4)>, <Node (11, 5)>, <Node (11, 6)>, <Node (10, 6)>, <Node (9, 6)>, <Node (8, 6)>, <Node (7, 6)>, <Node (6, 6)>, <Node (5, 6)>, <Node (5, 7)>, <Node (5, 8)>, <Node (5, 9)>, <Node (5, 10)>, <Node (5, 11)>, <Node (5, 12)>, <Node (5, 13)>, <Node (5, 14)>, <Node (5, 15)>, <Node (5, 16)>, <Node (5, 17)>, <Node (5, 18)>, <Node (5, 19)>, <Node (5, 20)>, <Node (5, 21)>]\n"
     ]
    }
   ],
   "source": [
    "node, expanded_nodes, food_nodes = pacman.a_star_best_first_search(problem)\n",
    "print(\"Number of expanded nodes:\")\n",
    "print(expanded_nodes)\n",
    "print(\"Number of expanded food nodes:\")\n",
    "print(food_nodes)\n",
    "print(node.solution())\n",
    "print(\"Path:\")\n",
    "print(node.path())"
   ]
  },
  {
   "cell_type": "code",
   "execution_count": 15,
   "metadata": {},
   "outputs": [
    {
     "data": {
      "image/png": "[encoded data removed]",
      "text/plain": [
       "<Figure size 576x576 with 1 Axes>"
      ]
     },
     "metadata": {},
     "output_type": "display_data"
    }
   ],
   "source": [
    "plt.figure(figsize=(8, 8))\n",
    "plt.xticks([]) \n",
    "plt.yticks([]) \n",
    "plt.gca().invert_yaxis()\n",
    "plt.pcolormesh(maze.get_final_grid(initial_position, goal_position, [n.state for n in node.path()]), cmap=\"Set1\")\n",
    "plt.show()"
   ]
  },
  {
   "cell_type": "markdown",
   "metadata": {},
   "source": [
    "# A* - Euclidean Distance and Ghost Avoidance"
   ]
  },
  {
   "cell_type": "code",
   "execution_count": 16,
   "metadata": {},
   "outputs": [
    {
     "name": "stdout",
     "output_type": "stream",
     "text": [
      "Number of expanded nodes:\n",
      "243\n",
      "Number of expanded food nodes:\n",
      "174\n",
      "[<Actions.DOWN: (-1, 0)>, <Actions.DOWN: (-1, 0)>, <Actions.DOWN: (-1, 0)>, <Actions.LEFT: (0, -1)>, <Actions.LEFT: (0, -1)>, <Actions.LEFT: (0, -1)>, <Actions.DOWN: (-1, 0)>, <Actions.DOWN: (-1, 0)>, <Actions.DOWN: (-1, 0)>, <Actions.DOWN: (-1, 0)>, <Actions.DOWN: (-1, 0)>, <Actions.DOWN: (-1, 0)>, <Actions.RIGHT: (0, 1)>, <Actions.RIGHT: (0, 1)>, <Actions.RIGHT: (0, 1)>, <Actions.RIGHT: (0, 1)>, <Actions.RIGHT: (0, 1)>, <Actions.DOWN: (-1, 0)>, <Actions.DOWN: (-1, 0)>, <Actions.DOWN: (-1, 0)>, <Actions.LEFT: (0, -1)>, <Actions.LEFT: (0, -1)>, <Actions.DOWN: (-1, 0)>, <Actions.DOWN: (-1, 0)>, <Actions.DOWN: (-1, 0)>, <Actions.RIGHT: (0, 1)>, <Actions.RIGHT: (0, 1)>, <Actions.DOWN: (-1, 0)>, <Actions.DOWN: (-1, 0)>, <Actions.DOWN: (-1, 0)>, <Actions.DOWN: (-1, 0)>, <Actions.DOWN: (-1, 0)>, <Actions.DOWN: (-1, 0)>, <Actions.RIGHT: (0, 1)>, <Actions.RIGHT: (0, 1)>, <Actions.RIGHT: (0, 1)>, <Actions.RIGHT: (0, 1)>, <Actions.RIGHT: (0, 1)>, <Actions.RIGHT: (0, 1)>, <Actions.RIGHT: (0, 1)>, <Actions.RIGHT: (0, 1)>, <Actions.RIGHT: (0, 1)>, <Actions.RIGHT: (0, 1)>, <Actions.RIGHT: (0, 1)>, <Actions.RIGHT: (0, 1)>, <Actions.RIGHT: (0, 1)>, <Actions.RIGHT: (0, 1)>, <Actions.RIGHT: (0, 1)>]\n",
      "Path:\n",
      "[<Node (26, 4)>, <Node (25, 4)>, <Node (24, 4)>, <Node (23, 4)>, <Node (23, 3)>, <Node (23, 2)>, <Node (23, 1)>, <Node (22, 1)>, <Node (21, 1)>, <Node (20, 1)>, <Node (19, 1)>, <Node (18, 1)>, <Node (17, 1)>, <Node (17, 2)>, <Node (17, 3)>, <Node (17, 4)>, <Node (17, 5)>, <Node (17, 6)>, <Node (16, 6)>, <Node (15, 6)>, <Node (14, 6)>, <Node (14, 5)>, <Node (14, 4)>, <Node (13, 4)>, <Node (12, 4)>, <Node (11, 4)>, <Node (11, 5)>, <Node (11, 6)>, <Node (10, 6)>, <Node (9, 6)>, <Node (8, 6)>, <Node (7, 6)>, <Node (6, 6)>, <Node (5, 6)>, <Node (5, 7)>, <Node (5, 8)>, <Node (5, 9)>, <Node (5, 10)>, <Node (5, 11)>, <Node (5, 12)>, <Node (5, 13)>, <Node (5, 14)>, <Node (5, 15)>, <Node (5, 16)>, <Node (5, 17)>, <Node (5, 18)>, <Node (5, 19)>, <Node (5, 20)>, <Node (5, 21)>]\n"
     ]
    }
   ],
   "source": [
    "problem_ghost = GhostAvoidanceHeuristic(maze, initial_position, goal_position, ghost_proximity_cost=1000)\n",
    "node, expanded_nodes, food_nodes = pacman.a_star_best_first_search(problem, problem_ghost.h)\n",
    "print(\"Number of expanded nodes:\")\n",
    "print(expanded_nodes)\n",
    "print(\"Number of expanded food nodes:\")\n",
    "print(food_nodes)\n",
    "print(node.solution())\n",
    "print(\"Path:\")\n",
    "print(node.path())"
   ]
  },
  {
   "cell_type": "code",
   "execution_count": 17,
   "metadata": {},
   "outputs": [
    {
     "data": {
      "image/png": "[encoded data removed]",
      "text/plain": [
       "<Figure size 576x576 with 1 Axes>"
      ]
     },
     "metadata": {},
     "output_type": "display_data"
    }
   ],
   "source": [
    "plt.figure(figsize=(8, 8))\n",
    "plt.xticks([]) \n",
    "plt.yticks([]) \n",
    "plt.gca().invert_yaxis()\n",
    "plt.pcolormesh(maze.get_final_grid(initial_position, goal_position, [n.state for n in node.path()]), cmap=\"Set1\")\n",
    "plt.show()"
   ]
  },
  {
   "cell_type": "code",
   "execution_count": null,
   "metadata": {},
   "outputs": [],
   "source": []
  },
  {
   "cell_type": "code",
   "execution_count": null,
   "metadata": {},
   "outputs": [],
   "source": []
  },
  {
   "cell_type": "code",
   "execution_count": null,
   "metadata": {},
   "outputs": [],
   "source": []
  }
 ],
 "metadata": {
  "kernelspec": {
   "display_name": "Python 3",
   "language": "python",
   "name": "python3"
  },
  "language_info": {
   "codemirror_mode": {
    "name": "ipython",
    "version": 3
   },
   "file_extension": ".py",
   "mimetype": "text/x-python",
   "name": "python",
   "nbconvert_exporter": "python",
   "pygments_lexer": "ipython3",
   "version": "3.7.3"
  }
 },
 "nbformat": 4,
 "nbformat_minor": 4
}
