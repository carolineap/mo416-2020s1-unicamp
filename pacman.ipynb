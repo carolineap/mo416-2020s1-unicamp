{
 "cells": [
  {
   "cell_type": "code",
   "execution_count": null,
   "metadata": {},
   "outputs": [],
   "source": [
    "import enviroment\n",
    "import pacman\n",
    "import matplotlib.pyplot as plt\n",
    "\n",
    "# Needed to hide warnings in the matplotlib sections\n",
    "import warnings\n",
    "warnings.filterwarnings(\"ignore\")"
   ]
  },
  {
   "cell_type": "code",
   "execution_count": null,
   "metadata": {},
   "outputs": [],
   "source": [
    "maze_arqs = {'Mazes/TinyMaze01.txt':[30,28],\n",
    "             'Mazes/SmallMaze01.txt':[30,84],\n",
    "             'Mazes/SmallMaze02.txt':[30,56],\n",
    "             'Mazes/MediumMaze01.txt':[60,56],\n",
    "             'Mazes/MediumMaze02.txt':[60,112],\n",
    "             'Mazes/BigMaze01.txt':[60,140],\n",
    "             'Mazes/BigMaze02.txt':[90,140],\n",
    "             'maze-test.txt':[28,28]}"
   ]
  },
  {
   "cell_type": "code",
   "execution_count": null,
   "metadata": {},
   "outputs": [],
   "source": [
    "maze_name = 'Mazes/TinyMaze01.txt'\n",
    "maze, initial_position, goal_position = enviroment.getMazeTest(maze_name, maze_arqs[maze_name][0], maze_arqs[maze_name][1])\n",
    "print(\"Initial position: \" + str(initial_position))\n",
    "print(\"Goal position: \" + str(goal_position))"
   ]
  },
  {
   "cell_type": "code",
   "execution_count": null,
   "metadata": {},
   "outputs": [],
   "source": [
    "plt.figure(figsize=(8, 8))\n",
    "plt.xticks([]) \n",
    "plt.yticks([]) \n",
    "plt.gca().invert_yaxis()\n",
    "plt.pcolormesh(maze.get_int_grid(initial_position, goal_position), cmap=\"Set1\")\n",
    "plt.show()"
   ]
  },
  {
   "cell_type": "code",
   "execution_count": null,
   "metadata": {},
   "outputs": [],
   "source": [
    "problem = pacman.Problem(maze, initial_position, goal_position)"
   ]
  },
  {
   "cell_type": "markdown",
   "metadata": {},
   "source": [
    "# Breadth First Search - BFS"
   ]
  },
  {
   "cell_type": "code",
   "execution_count": null,
   "metadata": {},
   "outputs": [],
   "source": [
    "node, expanded_nodes, food_nodes = pacman.breadth_first_graph_search(problem)\n",
    "print(\"Number of expanded nodes:\")\n",
    "print(expanded_nodes)\n",
    "print(\"Number of expanded food nodes:\")\n",
    "print(food_nodes)\n",
    "print(node.solution())\n",
    "print(\"Path:\")\n",
    "print(node.path())"
   ]
  },
  {
   "cell_type": "code",
   "execution_count": null,
   "metadata": {},
   "outputs": [],
   "source": [
    "plt.figure(figsize=(8, 8))\n",
    "plt.xticks([]) \n",
    "plt.yticks([]) \n",
    "plt.gca().invert_yaxis()\n",
    "plt.pcolormesh(maze.get_final_grid(initial_position, goal_position, [n.state for n in node.path()]), cmap=\"Set1\")\n",
    "plt.show()"
   ]
  },
  {
   "cell_type": "markdown",
   "metadata": {},
   "source": [
    "# Depth First Search - DFS"
   ]
  },
  {
   "cell_type": "code",
   "execution_count": null,
   "metadata": {
    "scrolled": true
   },
   "outputs": [],
   "source": [
    "node, expanded_nodes, food_nodes = pacman.depth_first_graph_search(problem)\n",
    "print(\"Number of expanded nodes:\")\n",
    "print(expanded_nodes)\n",
    "print(\"Number of expanded food nodes:\")\n",
    "print(food_nodes)\n",
    "print(node.solution())\n",
    "print(\"Path:\")\n",
    "print(node.path())"
   ]
  },
  {
   "cell_type": "code",
   "execution_count": null,
   "metadata": {},
   "outputs": [],
   "source": [
    "plt.figure(figsize=(8, 8))\n",
    "plt.xticks([]) \n",
    "plt.yticks([]) \n",
    "plt.gca().invert_yaxis()\n",
    "plt.pcolormesh(maze.get_final_grid(initial_position, goal_position, [n.state for n in node.path()]), cmap=\"Set1\")\n",
    "plt.show()"
   ]
  },
  {
   "cell_type": "markdown",
   "metadata": {},
   "source": [
    "# Greedy Search - Manhattan Distance"
   ]
  },
  {
   "cell_type": "code",
   "execution_count": null,
   "metadata": {},
   "outputs": [],
   "source": [
    "node, expanded_nodes, food_nodes = pacman.greedy_best_first_search(problem)\n",
    "print(\"Number of expanded nodes:\")\n",
    "print(expanded_nodes)\n",
    "print(\"Number of expanded food nodes:\")\n",
    "print(food_nodes)\n",
    "print(node.solution())\n",
    "print(\"Path:\")\n",
    "print(node.path())"
   ]
  },
  {
   "cell_type": "code",
   "execution_count": null,
   "metadata": {},
   "outputs": [],
   "source": [
    "plt.figure(figsize=(8, 8))\n",
    "plt.xticks([]) \n",
    "plt.yticks([]) \n",
    "plt.gca().invert_yaxis()\n",
    "plt.pcolormesh(maze.get_final_grid(initial_position, goal_position, [n.state for n in node.path()]), cmap=\"Set1\")\n",
    "plt.show()"
   ]
  },
  {
   "cell_type": "code",
   "execution_count": null,
   "metadata": {},
   "outputs": [],
   "source": []
  }
 ],
 "metadata": {
  "kernelspec": {
   "display_name": "Python 3",
   "language": "python",
   "name": "python3"
  },
  "language_info": {
   "codemirror_mode": {
    "name": "ipython",
    "version": 3
   },
   "file_extension": ".py",
   "mimetype": "text/x-python",
   "name": "python",
   "nbconvert_exporter": "python",
   "pygments_lexer": "ipython3",
   "version": "3.5.2"
  }
 },
 "nbformat": 4,
 "nbformat_minor": 4
}
