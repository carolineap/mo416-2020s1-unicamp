{
 "cells": [
  {
   "cell_type": "code",
   "execution_count": 1,
   "metadata": {},
   "outputs": [],
   "source": [
    "import enviroment\n",
    "import pacman\n",
    "import matplotlib.pyplot as plt\n",
    "\n",
    "# Needed to hide warnings in the matplotlib sections\n",
    "import warnings\n",
    "warnings.filterwarnings(\"ignore\")"
   ]
  },
  {
   "cell_type": "code",
   "execution_count": 2,
   "metadata": {},
   "outputs": [
    {
     "name": "stdout",
     "output_type": "stream",
     "text": [
      "Initial position: (8, 1)\n",
      "Goal position: (26, 22)\n"
     ]
    }
   ],
   "source": [
    "maze, initial_position, goal_position = enviroment.getMazeTest()\n",
    "print(\"Initial position: \" + str(initial_position))\n",
    "print(\"Goal position: \" + str(goal_position))"
   ]
  },
  {
   "cell_type": "code",
   "execution_count": 3,
   "metadata": {},
   "outputs": [
    {
     "data": {
      "image/png": "[encoded data removed]",
      "text/plain": [
       "<Figure size 576x576 with 1 Axes>"
      ]
     },
     "metadata": {},
     "output_type": "display_data"
    }
   ],
   "source": [
    "plt.figure(figsize=(8, 8))\n",
    "plt.xticks([]) \n",
    "plt.yticks([]) \n",
    "plt.pcolormesh(maze.get_int_grid(initial_position, goal_position), cmap=\"Pastel2\")\n",
    "plt.show()"
   ]
  },
  {
   "cell_type": "code",
   "execution_count": 4,
   "metadata": {},
   "outputs": [],
   "source": [
    "problem = pacman.Problem(maze, initial_position, goal_position)"
   ]
  },
  {
   "cell_type": "markdown",
   "metadata": {},
   "source": [
    "# Breadth First Search - BFS"
   ]
  },
  {
   "cell_type": "code",
   "execution_count": 5,
   "metadata": {},
   "outputs": [
    {
     "name": "stdout",
     "output_type": "stream",
     "text": [
      "Number of expanded nodes:\n",
      "280\n",
      "Number of expanded food nodes:\n",
      "203\n",
      "[<Actions.UP: (1, 0)>, <Actions.UP: (1, 0)>, <Actions.RIGHT: (0, 1)>, <Actions.RIGHT: (0, 1)>, <Actions.RIGHT: (0, 1)>, <Actions.RIGHT: (0, 1)>, <Actions.RIGHT: (0, 1)>, <Actions.UP: (1, 0)>, <Actions.UP: (1, 0)>, <Actions.UP: (1, 0)>, <Actions.UP: (1, 0)>, <Actions.UP: (1, 0)>, <Actions.UP: (1, 0)>, <Actions.UP: (1, 0)>, <Actions.UP: (1, 0)>, <Actions.UP: (1, 0)>, <Actions.UP: (1, 0)>, <Actions.UP: (1, 0)>, <Actions.UP: (1, 0)>, <Actions.UP: (1, 0)>, <Actions.UP: (1, 0)>, <Actions.UP: (1, 0)>, <Actions.UP: (1, 0)>, <Actions.RIGHT: (0, 1)>, <Actions.RIGHT: (0, 1)>, <Actions.RIGHT: (0, 1)>, <Actions.RIGHT: (0, 1)>, <Actions.RIGHT: (0, 1)>, <Actions.RIGHT: (0, 1)>, <Actions.RIGHT: (0, 1)>, <Actions.RIGHT: (0, 1)>, <Actions.RIGHT: (0, 1)>, <Actions.RIGHT: (0, 1)>, <Actions.RIGHT: (0, 1)>, <Actions.RIGHT: (0, 1)>, <Actions.RIGHT: (0, 1)>, <Actions.RIGHT: (0, 1)>, <Actions.RIGHT: (0, 1)>, <Actions.RIGHT: (0, 1)>]\n",
      "Path:\n",
      "[<Node (8, 1)>, <Node (9, 1)>, <Node (10, 1)>, <Node (10, 2)>, <Node (10, 3)>, <Node (10, 4)>, <Node (10, 5)>, <Node (10, 6)>, <Node (11, 6)>, <Node (12, 6)>, <Node (13, 6)>, <Node (14, 6)>, <Node (15, 6)>, <Node (16, 6)>, <Node (17, 6)>, <Node (18, 6)>, <Node (19, 6)>, <Node (20, 6)>, <Node (21, 6)>, <Node (22, 6)>, <Node (23, 6)>, <Node (24, 6)>, <Node (25, 6)>, <Node (26, 6)>, <Node (26, 7)>, <Node (26, 8)>, <Node (26, 9)>, <Node (26, 10)>, <Node (26, 11)>, <Node (26, 12)>, <Node (26, 13)>, <Node (26, 14)>, <Node (26, 15)>, <Node (26, 16)>, <Node (26, 17)>, <Node (26, 18)>, <Node (26, 19)>, <Node (26, 20)>, <Node (26, 21)>, <Node (26, 22)>]\n"
     ]
    }
   ],
   "source": [
    "node, expanded_nodes, food_nodes = pacman.breadth_first_graph_search(problem)\n",
    "print(\"Number of expanded nodes:\")\n",
    "print(expanded_nodes)\n",
    "print(\"Number of expanded food nodes:\")\n",
    "print(food_nodes)\n",
    "print(node.solution())\n",
    "print(\"Path:\")\n",
    "print(node.path())"
   ]
  },
  {
   "cell_type": "code",
   "execution_count": 6,
   "metadata": {},
   "outputs": [
    {
     "data": {
      "image/png": "[encoded data removed]",
      "text/plain": [
       "<Figure size 576x576 with 1 Axes>"
      ]
     },
     "metadata": {},
     "output_type": "display_data"
    }
   ],
   "source": [
    "plt.figure(figsize=(8, 8))\n",
    "plt.xticks([]) \n",
    "plt.yticks([]) \n",
    "plt.pcolormesh(maze.get_final_grid(initial_position, goal_position, [n.state for n in node.path()]), cmap=\"Pastel2\")\n",
    "plt.show()"
   ]
  },
  {
   "cell_type": "markdown",
   "metadata": {},
   "source": [
    "# Depth First Search - DFS"
   ]
  },
  {
   "cell_type": "code",
   "execution_count": 7,
   "metadata": {
    "scrolled": true
   },
   "outputs": [
    {
     "name": "stdout",
     "output_type": "stream",
     "text": [
      "Number of expanded nodes:\n",
      "146\n",
      "Number of expanded food nodes:\n",
      "127\n",
      "[<Actions.DOWN: (-1, 0)>, <Actions.DOWN: (-1, 0)>, <Actions.DOWN: (-1, 0)>, <Actions.DOWN: (-1, 0)>, <Actions.RIGHT: (0, 1)>, <Actions.RIGHT: (0, 1)>, <Actions.RIGHT: (0, 1)>, <Actions.RIGHT: (0, 1)>, <Actions.RIGHT: (0, 1)>, <Actions.RIGHT: (0, 1)>, <Actions.RIGHT: (0, 1)>, <Actions.RIGHT: (0, 1)>, <Actions.RIGHT: (0, 1)>, <Actions.RIGHT: (0, 1)>, <Actions.RIGHT: (0, 1)>, <Actions.UP: (1, 0)>, <Actions.UP: (1, 0)>, <Actions.UP: (1, 0)>, <Actions.UP: (1, 0)>, <Actions.RIGHT: (0, 1)>, <Actions.RIGHT: (0, 1)>, <Actions.RIGHT: (0, 1)>, <Actions.DOWN: (-1, 0)>, <Actions.DOWN: (-1, 0)>, <Actions.DOWN: (-1, 0)>, <Actions.DOWN: (-1, 0)>, <Actions.RIGHT: (0, 1)>, <Actions.RIGHT: (0, 1)>, <Actions.RIGHT: (0, 1)>, <Actions.RIGHT: (0, 1)>, <Actions.RIGHT: (0, 1)>, <Actions.RIGHT: (0, 1)>, <Actions.UP: (1, 0)>, <Actions.UP: (1, 0)>, <Actions.UP: (1, 0)>, <Actions.LEFT: (0, -1)>, <Actions.LEFT: (0, -1)>, <Actions.LEFT: (0, -1)>, <Actions.UP: (1, 0)>, <Actions.UP: (1, 0)>, <Actions.UP: (1, 0)>, <Actions.UP: (1, 0)>, <Actions.UP: (1, 0)>, <Actions.UP: (1, 0)>, <Actions.UP: (1, 0)>, <Actions.LEFT: (0, -1)>, <Actions.LEFT: (0, -1)>, <Actions.LEFT: (0, -1)>, <Actions.LEFT: (0, -1)>, <Actions.LEFT: (0, -1)>, <Actions.LEFT: (0, -1)>, <Actions.LEFT: (0, -1)>, <Actions.LEFT: (0, -1)>, <Actions.LEFT: (0, -1)>, <Actions.LEFT: (0, -1)>, <Actions.LEFT: (0, -1)>, <Actions.LEFT: (0, -1)>, <Actions.UP: (1, 0)>, <Actions.UP: (1, 0)>, <Actions.UP: (1, 0)>, <Actions.LEFT: (0, -1)>, <Actions.LEFT: (0, -1)>, <Actions.LEFT: (0, -1)>, <Actions.LEFT: (0, -1)>, <Actions.LEFT: (0, -1)>, <Actions.UP: (1, 0)>, <Actions.UP: (1, 0)>, <Actions.UP: (1, 0)>, <Actions.RIGHT: (0, 1)>, <Actions.RIGHT: (0, 1)>, <Actions.UP: (1, 0)>, <Actions.UP: (1, 0)>, <Actions.UP: (1, 0)>, <Actions.LEFT: (0, -1)>, <Actions.LEFT: (0, -1)>, <Actions.UP: (1, 0)>, <Actions.UP: (1, 0)>, <Actions.UP: (1, 0)>, <Actions.UP: (1, 0)>, <Actions.UP: (1, 0)>, <Actions.UP: (1, 0)>, <Actions.RIGHT: (0, 1)>, <Actions.RIGHT: (0, 1)>, <Actions.RIGHT: (0, 1)>, <Actions.DOWN: (-1, 0)>, <Actions.DOWN: (-1, 0)>, <Actions.DOWN: (-1, 0)>, <Actions.RIGHT: (0, 1)>, <Actions.RIGHT: (0, 1)>, <Actions.RIGHT: (0, 1)>, <Actions.RIGHT: (0, 1)>, <Actions.RIGHT: (0, 1)>, <Actions.RIGHT: (0, 1)>, <Actions.RIGHT: (0, 1)>, <Actions.RIGHT: (0, 1)>, <Actions.RIGHT: (0, 1)>, <Actions.RIGHT: (0, 1)>, <Actions.RIGHT: (0, 1)>, <Actions.RIGHT: (0, 1)>, <Actions.RIGHT: (0, 1)>, <Actions.RIGHT: (0, 1)>, <Actions.RIGHT: (0, 1)>, <Actions.RIGHT: (0, 1)>, <Actions.RIGHT: (0, 1)>, <Actions.RIGHT: (0, 1)>]\n",
      "Path:\n",
      "[<Node (8, 1)>, <Node (7, 1)>, <Node (6, 1)>, <Node (5, 1)>, <Node (4, 1)>, <Node (4, 2)>, <Node (4, 3)>, <Node (4, 4)>, <Node (4, 5)>, <Node (4, 6)>, <Node (4, 7)>, <Node (4, 8)>, <Node (4, 9)>, <Node (4, 10)>, <Node (4, 11)>, <Node (4, 12)>, <Node (5, 12)>, <Node (6, 12)>, <Node (7, 12)>, <Node (8, 12)>, <Node (8, 13)>, <Node (8, 14)>, <Node (8, 15)>, <Node (7, 15)>, <Node (6, 15)>, <Node (5, 15)>, <Node (4, 15)>, <Node (4, 16)>, <Node (4, 17)>, <Node (4, 18)>, <Node (4, 19)>, <Node (4, 20)>, <Node (4, 21)>, <Node (5, 21)>, <Node (6, 21)>, <Node (7, 21)>, <Node (7, 20)>, <Node (7, 19)>, <Node (7, 18)>, <Node (8, 18)>, <Node (9, 18)>, <Node (10, 18)>, <Node (11, 18)>, <Node (12, 18)>, <Node (13, 18)>, <Node (14, 18)>, <Node (14, 17)>, <Node (14, 16)>, <Node (14, 15)>, <Node (14, 14)>, <Node (14, 13)>, <Node (14, 12)>, <Node (14, 11)>, <Node (14, 10)>, <Node (14, 9)>, <Node (14, 8)>, <Node (14, 7)>, <Node (14, 6)>, <Node (15, 6)>, <Node (16, 6)>, <Node (17, 6)>, <Node (17, 5)>, <Node (17, 4)>, <Node (17, 3)>, <Node (17, 2)>, <Node (17, 1)>, <Node (18, 1)>, <Node (19, 1)>, <Node (20, 1)>, <Node (20, 2)>, <Node (20, 3)>, <Node (21, 3)>, <Node (22, 3)>, <Node (23, 3)>, <Node (23, 2)>, <Node (23, 1)>, <Node (24, 1)>, <Node (25, 1)>, <Node (26, 1)>, <Node (27, 1)>, <Node (28, 1)>, <Node (29, 1)>, <Node (29, 2)>, <Node (29, 3)>, <Node (29, 4)>, <Node (28, 4)>, <Node (27, 4)>, <Node (26, 4)>, <Node (26, 5)>, <Node (26, 6)>, <Node (26, 7)>, <Node (26, 8)>, <Node (26, 9)>, <Node (26, 10)>, <Node (26, 11)>, <Node (26, 12)>, <Node (26, 13)>, <Node (26, 14)>, <Node (26, 15)>, <Node (26, 16)>, <Node (26, 17)>, <Node (26, 18)>, <Node (26, 19)>, <Node (26, 20)>, <Node (26, 21)>, <Node (26, 22)>]\n"
     ]
    }
   ],
   "source": [
    "node, expanded_nodes, food_nodes = pacman.depth_first_graph_search(problem)\n",
    "print(\"Number of expanded nodes:\")\n",
    "print(expanded_nodes)\n",
    "print(\"Number of expanded food nodes:\")\n",
    "print(food_nodes)\n",
    "print(node.solution())\n",
    "print(\"Path:\")\n",
    "print(node.path())"
   ]
  },
  {
   "cell_type": "code",
   "execution_count": 8,
   "metadata": {},
   "outputs": [
    {
     "data": {
      "image/png": "[encoded data removed]",
      "text/plain": [
       "<Figure size 576x576 with 1 Axes>"
      ]
     },
     "metadata": {},
     "output_type": "display_data"
    }
   ],
   "source": [
    "plt.figure(figsize=(8, 8))\n",
    "plt.xticks([]) \n",
    "plt.yticks([]) \n",
    "plt.pcolormesh(maze.get_final_grid(initial_position, goal_position, [n.state for n in node.path()]), cmap=\"Pastel2\")\n",
    "plt.show()"
   ]
  },
  {
   "cell_type": "code",
   "execution_count": null,
   "metadata": {},
   "outputs": [],
   "source": []
  }
 ],
 "metadata": {
  "kernelspec": {
   "display_name": "Python 3",
   "language": "python",
   "name": "python3"
  },
  "language_info": {
   "codemirror_mode": {
    "name": "ipython",
    "version": 3
   },
   "file_extension": ".py",
   "mimetype": "text/x-python",
   "name": "python",
   "nbconvert_exporter": "python",
   "pygments_lexer": "ipython3",
   "version": "3.6.9"
  }
 },
 "nbformat": 4,
 "nbformat_minor": 4
}
